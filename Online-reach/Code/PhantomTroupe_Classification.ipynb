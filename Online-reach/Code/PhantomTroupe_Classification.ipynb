{
 "cells": [
  {
   "cell_type": "code",
   "execution_count": 1,
   "id": "3d964623",
   "metadata": {},
   "outputs": [],
   "source": [
    "import numpy as np \n",
    "import pandas as pd\n",
    "import matplotlib.pyplot as plt\n",
    "from sklearn.model_selection import train_test_split\n",
    "import sklearn.preprocessing as preprocessing \n",
    "from sklearn.preprocessing import StandardScaler\n",
    "from sklearn.preprocessing import LabelEncoder\n",
    "import sklearn.metrics as metrics \n",
    "import sklearn.svm as svm \n",
    "import sklearn.naive_bayes as naive_bayes\n",
    "from sklearn.linear_model import LogisticRegression \n",
    "from sklearn.decomposition import PCA\n",
    "from sklearn.naive_bayes import GaussianNB, BernoulliNB\n",
    "from sklearn.feature_extraction.text import CountVectorizer\n",
    "from sklearn.feature_extraction.text import TfidfVectorizer\n",
    "from sklearn.svm import SVC\n",
    "from sklearn.ensemble import AdaBoostClassifier\n",
    "import xgboost as xgb\n",
    "from sklearn.tree import DecisionTreeClassifier\n",
    "from sklearn.ensemble import BaggingClassifier\n",
    "from sklearn.neural_network import MLPClassifier\n",
    "import seaborn as sns \n",
    "import json\n",
    "import nltk\n",
    "import string\n",
    "import re\n"
   ]
  },
  {
   "cell_type": "code",
   "execution_count": 2,
   "id": "0208e1c1",
   "metadata": {},
   "outputs": [
    {
     "ename": "FileNotFoundError",
     "evalue": "[Errno 2] No such file or directory: 'train_data.csv'",
     "output_type": "error",
     "traceback": [
      "\u001b[1;31m---------------------------------------------------------------------------\u001b[0m",
      "\u001b[1;31mFileNotFoundError\u001b[0m                         Traceback (most recent call last)",
      "\u001b[1;32m~\\AppData\\Local\\Temp/ipykernel_2100/1737735385.py\u001b[0m in \u001b[0;36m<module>\u001b[1;34m\u001b[0m\n\u001b[1;32m----> 1\u001b[1;33m \u001b[0mmain_df\u001b[0m \u001b[1;33m=\u001b[0m \u001b[0mpd\u001b[0m\u001b[1;33m.\u001b[0m\u001b[0mread_csv\u001b[0m\u001b[1;33m(\u001b[0m\u001b[1;34m\"train_data.csv\"\u001b[0m\u001b[1;33m)\u001b[0m\u001b[1;33m\u001b[0m\u001b[1;33m\u001b[0m\u001b[0m\n\u001b[0m\u001b[0;32m      2\u001b[0m \u001b[0mtest_df\u001b[0m \u001b[1;33m=\u001b[0m \u001b[0mpd\u001b[0m\u001b[1;33m.\u001b[0m\u001b[0mread_csv\u001b[0m\u001b[1;33m(\u001b[0m\u001b[1;34m\"test_data.csv\"\u001b[0m\u001b[1;33m)\u001b[0m\u001b[1;33m\u001b[0m\u001b[1;33m\u001b[0m\u001b[0m\n\u001b[0;32m      3\u001b[0m \u001b[1;33m\u001b[0m\u001b[0m\n\u001b[0;32m      4\u001b[0m \u001b[0mmain_df\u001b[0m \u001b[1;33m=\u001b[0m \u001b[0mmain_df\u001b[0m\u001b[1;33m.\u001b[0m\u001b[0mappend\u001b[0m\u001b[1;33m(\u001b[0m\u001b[0mtest_df\u001b[0m\u001b[1;33m)\u001b[0m\u001b[1;33m\u001b[0m\u001b[1;33m\u001b[0m\u001b[0m\n",
      "\u001b[1;32m~\\Python\\Python39\\lib\\site-packages\\pandas\\util\\_decorators.py\u001b[0m in \u001b[0;36mwrapper\u001b[1;34m(*args, **kwargs)\u001b[0m\n\u001b[0;32m    309\u001b[0m                     \u001b[0mstacklevel\u001b[0m\u001b[1;33m=\u001b[0m\u001b[0mstacklevel\u001b[0m\u001b[1;33m,\u001b[0m\u001b[1;33m\u001b[0m\u001b[1;33m\u001b[0m\u001b[0m\n\u001b[0;32m    310\u001b[0m                 )\n\u001b[1;32m--> 311\u001b[1;33m             \u001b[1;32mreturn\u001b[0m \u001b[0mfunc\u001b[0m\u001b[1;33m(\u001b[0m\u001b[1;33m*\u001b[0m\u001b[0margs\u001b[0m\u001b[1;33m,\u001b[0m \u001b[1;33m**\u001b[0m\u001b[0mkwargs\u001b[0m\u001b[1;33m)\u001b[0m\u001b[1;33m\u001b[0m\u001b[1;33m\u001b[0m\u001b[0m\n\u001b[0m\u001b[0;32m    312\u001b[0m \u001b[1;33m\u001b[0m\u001b[0m\n\u001b[0;32m    313\u001b[0m         \u001b[1;32mreturn\u001b[0m \u001b[0mwrapper\u001b[0m\u001b[1;33m\u001b[0m\u001b[1;33m\u001b[0m\u001b[0m\n",
      "\u001b[1;32m~\\Python\\Python39\\lib\\site-packages\\pandas\\io\\parsers\\readers.py\u001b[0m in \u001b[0;36mread_csv\u001b[1;34m(filepath_or_buffer, sep, delimiter, header, names, index_col, usecols, squeeze, prefix, mangle_dupe_cols, dtype, engine, converters, true_values, false_values, skipinitialspace, skiprows, skipfooter, nrows, na_values, keep_default_na, na_filter, verbose, skip_blank_lines, parse_dates, infer_datetime_format, keep_date_col, date_parser, dayfirst, cache_dates, iterator, chunksize, compression, thousands, decimal, lineterminator, quotechar, quoting, doublequote, escapechar, comment, encoding, encoding_errors, dialect, error_bad_lines, warn_bad_lines, on_bad_lines, delim_whitespace, low_memory, memory_map, float_precision, storage_options)\u001b[0m\n\u001b[0;32m    584\u001b[0m     \u001b[0mkwds\u001b[0m\u001b[1;33m.\u001b[0m\u001b[0mupdate\u001b[0m\u001b[1;33m(\u001b[0m\u001b[0mkwds_defaults\u001b[0m\u001b[1;33m)\u001b[0m\u001b[1;33m\u001b[0m\u001b[1;33m\u001b[0m\u001b[0m\n\u001b[0;32m    585\u001b[0m \u001b[1;33m\u001b[0m\u001b[0m\n\u001b[1;32m--> 586\u001b[1;33m     \u001b[1;32mreturn\u001b[0m \u001b[0m_read\u001b[0m\u001b[1;33m(\u001b[0m\u001b[0mfilepath_or_buffer\u001b[0m\u001b[1;33m,\u001b[0m \u001b[0mkwds\u001b[0m\u001b[1;33m)\u001b[0m\u001b[1;33m\u001b[0m\u001b[1;33m\u001b[0m\u001b[0m\n\u001b[0m\u001b[0;32m    587\u001b[0m \u001b[1;33m\u001b[0m\u001b[0m\n\u001b[0;32m    588\u001b[0m \u001b[1;33m\u001b[0m\u001b[0m\n",
      "\u001b[1;32m~\\Python\\Python39\\lib\\site-packages\\pandas\\io\\parsers\\readers.py\u001b[0m in \u001b[0;36m_read\u001b[1;34m(filepath_or_buffer, kwds)\u001b[0m\n\u001b[0;32m    480\u001b[0m \u001b[1;33m\u001b[0m\u001b[0m\n\u001b[0;32m    481\u001b[0m     \u001b[1;31m# Create the parser.\u001b[0m\u001b[1;33m\u001b[0m\u001b[1;33m\u001b[0m\u001b[0m\n\u001b[1;32m--> 482\u001b[1;33m     \u001b[0mparser\u001b[0m \u001b[1;33m=\u001b[0m \u001b[0mTextFileReader\u001b[0m\u001b[1;33m(\u001b[0m\u001b[0mfilepath_or_buffer\u001b[0m\u001b[1;33m,\u001b[0m \u001b[1;33m**\u001b[0m\u001b[0mkwds\u001b[0m\u001b[1;33m)\u001b[0m\u001b[1;33m\u001b[0m\u001b[1;33m\u001b[0m\u001b[0m\n\u001b[0m\u001b[0;32m    483\u001b[0m \u001b[1;33m\u001b[0m\u001b[0m\n\u001b[0;32m    484\u001b[0m     \u001b[1;32mif\u001b[0m \u001b[0mchunksize\u001b[0m \u001b[1;32mor\u001b[0m \u001b[0miterator\u001b[0m\u001b[1;33m:\u001b[0m\u001b[1;33m\u001b[0m\u001b[1;33m\u001b[0m\u001b[0m\n",
      "\u001b[1;32m~\\Python\\Python39\\lib\\site-packages\\pandas\\io\\parsers\\readers.py\u001b[0m in \u001b[0;36m__init__\u001b[1;34m(self, f, engine, **kwds)\u001b[0m\n\u001b[0;32m    809\u001b[0m             \u001b[0mself\u001b[0m\u001b[1;33m.\u001b[0m\u001b[0moptions\u001b[0m\u001b[1;33m[\u001b[0m\u001b[1;34m\"has_index_names\"\u001b[0m\u001b[1;33m]\u001b[0m \u001b[1;33m=\u001b[0m \u001b[0mkwds\u001b[0m\u001b[1;33m[\u001b[0m\u001b[1;34m\"has_index_names\"\u001b[0m\u001b[1;33m]\u001b[0m\u001b[1;33m\u001b[0m\u001b[1;33m\u001b[0m\u001b[0m\n\u001b[0;32m    810\u001b[0m \u001b[1;33m\u001b[0m\u001b[0m\n\u001b[1;32m--> 811\u001b[1;33m         \u001b[0mself\u001b[0m\u001b[1;33m.\u001b[0m\u001b[0m_engine\u001b[0m \u001b[1;33m=\u001b[0m \u001b[0mself\u001b[0m\u001b[1;33m.\u001b[0m\u001b[0m_make_engine\u001b[0m\u001b[1;33m(\u001b[0m\u001b[0mself\u001b[0m\u001b[1;33m.\u001b[0m\u001b[0mengine\u001b[0m\u001b[1;33m)\u001b[0m\u001b[1;33m\u001b[0m\u001b[1;33m\u001b[0m\u001b[0m\n\u001b[0m\u001b[0;32m    812\u001b[0m \u001b[1;33m\u001b[0m\u001b[0m\n\u001b[0;32m    813\u001b[0m     \u001b[1;32mdef\u001b[0m \u001b[0mclose\u001b[0m\u001b[1;33m(\u001b[0m\u001b[0mself\u001b[0m\u001b[1;33m)\u001b[0m\u001b[1;33m:\u001b[0m\u001b[1;33m\u001b[0m\u001b[1;33m\u001b[0m\u001b[0m\n",
      "\u001b[1;32m~\\Python\\Python39\\lib\\site-packages\\pandas\\io\\parsers\\readers.py\u001b[0m in \u001b[0;36m_make_engine\u001b[1;34m(self, engine)\u001b[0m\n\u001b[0;32m   1038\u001b[0m             )\n\u001b[0;32m   1039\u001b[0m         \u001b[1;31m# error: Too many arguments for \"ParserBase\"\u001b[0m\u001b[1;33m\u001b[0m\u001b[1;33m\u001b[0m\u001b[0m\n\u001b[1;32m-> 1040\u001b[1;33m         \u001b[1;32mreturn\u001b[0m \u001b[0mmapping\u001b[0m\u001b[1;33m[\u001b[0m\u001b[0mengine\u001b[0m\u001b[1;33m]\u001b[0m\u001b[1;33m(\u001b[0m\u001b[0mself\u001b[0m\u001b[1;33m.\u001b[0m\u001b[0mf\u001b[0m\u001b[1;33m,\u001b[0m \u001b[1;33m**\u001b[0m\u001b[0mself\u001b[0m\u001b[1;33m.\u001b[0m\u001b[0moptions\u001b[0m\u001b[1;33m)\u001b[0m  \u001b[1;31m# type: ignore[call-arg]\u001b[0m\u001b[1;33m\u001b[0m\u001b[1;33m\u001b[0m\u001b[0m\n\u001b[0m\u001b[0;32m   1041\u001b[0m \u001b[1;33m\u001b[0m\u001b[0m\n\u001b[0;32m   1042\u001b[0m     \u001b[1;32mdef\u001b[0m \u001b[0m_failover_to_python\u001b[0m\u001b[1;33m(\u001b[0m\u001b[0mself\u001b[0m\u001b[1;33m)\u001b[0m\u001b[1;33m:\u001b[0m\u001b[1;33m\u001b[0m\u001b[1;33m\u001b[0m\u001b[0m\n",
      "\u001b[1;32m~\\Python\\Python39\\lib\\site-packages\\pandas\\io\\parsers\\c_parser_wrapper.py\u001b[0m in \u001b[0;36m__init__\u001b[1;34m(self, src, **kwds)\u001b[0m\n\u001b[0;32m     49\u001b[0m \u001b[1;33m\u001b[0m\u001b[0m\n\u001b[0;32m     50\u001b[0m         \u001b[1;31m# open handles\u001b[0m\u001b[1;33m\u001b[0m\u001b[1;33m\u001b[0m\u001b[0m\n\u001b[1;32m---> 51\u001b[1;33m         \u001b[0mself\u001b[0m\u001b[1;33m.\u001b[0m\u001b[0m_open_handles\u001b[0m\u001b[1;33m(\u001b[0m\u001b[0msrc\u001b[0m\u001b[1;33m,\u001b[0m \u001b[0mkwds\u001b[0m\u001b[1;33m)\u001b[0m\u001b[1;33m\u001b[0m\u001b[1;33m\u001b[0m\u001b[0m\n\u001b[0m\u001b[0;32m     52\u001b[0m         \u001b[1;32massert\u001b[0m \u001b[0mself\u001b[0m\u001b[1;33m.\u001b[0m\u001b[0mhandles\u001b[0m \u001b[1;32mis\u001b[0m \u001b[1;32mnot\u001b[0m \u001b[1;32mNone\u001b[0m\u001b[1;33m\u001b[0m\u001b[1;33m\u001b[0m\u001b[0m\n\u001b[0;32m     53\u001b[0m \u001b[1;33m\u001b[0m\u001b[0m\n",
      "\u001b[1;32m~\\Python\\Python39\\lib\\site-packages\\pandas\\io\\parsers\\base_parser.py\u001b[0m in \u001b[0;36m_open_handles\u001b[1;34m(self, src, kwds)\u001b[0m\n\u001b[0;32m    220\u001b[0m         \u001b[0mLet\u001b[0m \u001b[0mthe\u001b[0m \u001b[0mreaders\u001b[0m \u001b[0mopen\u001b[0m \u001b[0mIOHandles\u001b[0m \u001b[0mafter\u001b[0m \u001b[0mthey\u001b[0m \u001b[0mare\u001b[0m \u001b[0mdone\u001b[0m \u001b[1;32mwith\u001b[0m \u001b[0mtheir\u001b[0m \u001b[0mpotential\u001b[0m \u001b[0mraises\u001b[0m\u001b[1;33m.\u001b[0m\u001b[1;33m\u001b[0m\u001b[1;33m\u001b[0m\u001b[0m\n\u001b[0;32m    221\u001b[0m         \"\"\"\n\u001b[1;32m--> 222\u001b[1;33m         self.handles = get_handle(\n\u001b[0m\u001b[0;32m    223\u001b[0m             \u001b[0msrc\u001b[0m\u001b[1;33m,\u001b[0m\u001b[1;33m\u001b[0m\u001b[1;33m\u001b[0m\u001b[0m\n\u001b[0;32m    224\u001b[0m             \u001b[1;34m\"r\"\u001b[0m\u001b[1;33m,\u001b[0m\u001b[1;33m\u001b[0m\u001b[1;33m\u001b[0m\u001b[0m\n",
      "\u001b[1;32m~\\Python\\Python39\\lib\\site-packages\\pandas\\io\\common.py\u001b[0m in \u001b[0;36mget_handle\u001b[1;34m(path_or_buf, mode, encoding, compression, memory_map, is_text, errors, storage_options)\u001b[0m\n\u001b[0;32m    700\u001b[0m         \u001b[1;32mif\u001b[0m \u001b[0mioargs\u001b[0m\u001b[1;33m.\u001b[0m\u001b[0mencoding\u001b[0m \u001b[1;32mand\u001b[0m \u001b[1;34m\"b\"\u001b[0m \u001b[1;32mnot\u001b[0m \u001b[1;32min\u001b[0m \u001b[0mioargs\u001b[0m\u001b[1;33m.\u001b[0m\u001b[0mmode\u001b[0m\u001b[1;33m:\u001b[0m\u001b[1;33m\u001b[0m\u001b[1;33m\u001b[0m\u001b[0m\n\u001b[0;32m    701\u001b[0m             \u001b[1;31m# Encoding\u001b[0m\u001b[1;33m\u001b[0m\u001b[1;33m\u001b[0m\u001b[0m\n\u001b[1;32m--> 702\u001b[1;33m             handle = open(\n\u001b[0m\u001b[0;32m    703\u001b[0m                 \u001b[0mhandle\u001b[0m\u001b[1;33m,\u001b[0m\u001b[1;33m\u001b[0m\u001b[1;33m\u001b[0m\u001b[0m\n\u001b[0;32m    704\u001b[0m                 \u001b[0mioargs\u001b[0m\u001b[1;33m.\u001b[0m\u001b[0mmode\u001b[0m\u001b[1;33m,\u001b[0m\u001b[1;33m\u001b[0m\u001b[1;33m\u001b[0m\u001b[0m\n",
      "\u001b[1;31mFileNotFoundError\u001b[0m: [Errno 2] No such file or directory: 'train_data.csv'"
     ]
    }
   ],
   "source": [
    "main_df = pd.read_csv(\"train_data.csv\")\n",
    "test_df = pd.read_csv(\"test_data.csv\")\n",
    "\n",
    "main_df = main_df.append(test_df)"
   ]
  },
  {
   "cell_type": "markdown",
   "id": "bab7c4c4",
   "metadata": {},
   "source": [
    "# 1. PreProcessing"
   ]
  },
  {
   "cell_type": "code",
   "execution_count": 3,
   "id": "aa1c721c",
   "metadata": {},
   "outputs": [
    {
     "data": {
      "text/html": [
       "<div>\n",
       "<style scoped>\n",
       "    .dataframe tbody tr th:only-of-type {\n",
       "        vertical-align: middle;\n",
       "    }\n",
       "\n",
       "    .dataframe tbody tr th {\n",
       "        vertical-align: top;\n",
       "    }\n",
       "\n",
       "    .dataframe thead th {\n",
       "        text-align: right;\n",
       "    }\n",
       "</style>\n",
       "<table border=\"1\" class=\"dataframe\">\n",
       "  <thead>\n",
       "    <tr style=\"text-align: right;\">\n",
       "      <th></th>\n",
       "      <th>url</th>\n",
       "      <th>webpageDescription</th>\n",
       "      <th>alchemy_category</th>\n",
       "      <th>alchemy_category_score</th>\n",
       "      <th>avgLinkWordLength</th>\n",
       "      <th>AvglinkWithOneCommonWord</th>\n",
       "      <th>AvglinkWithTwoCommonWord</th>\n",
       "      <th>AvglinkWithThreeCommonWord</th>\n",
       "      <th>AvglinkWithFourCommonWord</th>\n",
       "      <th>redundancyMeasure</th>\n",
       "      <th>...</th>\n",
       "      <th>lengthyDomain</th>\n",
       "      <th>hyperlinkToAllWordsRatio</th>\n",
       "      <th>isFrontPageNews</th>\n",
       "      <th>alphanumCharCount</th>\n",
       "      <th>linksCount</th>\n",
       "      <th>wordCount</th>\n",
       "      <th>parametrizedLinkRatio</th>\n",
       "      <th>spellingErrorsRatio</th>\n",
       "      <th>label</th>\n",
       "      <th>id</th>\n",
       "    </tr>\n",
       "  </thead>\n",
       "  <tbody>\n",
       "    <tr>\n",
       "      <th>0</th>\n",
       "      <td>http://www.polyvore.com/cgi/home?id=1389651</td>\n",
       "      <td>{\"title\":\"Join Polyvore and follow the latest ...</td>\n",
       "      <td>?</td>\n",
       "      <td>?</td>\n",
       "      <td>1.916667</td>\n",
       "      <td>0.047619</td>\n",
       "      <td>0.007937</td>\n",
       "      <td>0.000000</td>\n",
       "      <td>0.000000</td>\n",
       "      <td>0.803797</td>\n",
       "      <td>...</td>\n",
       "      <td>0</td>\n",
       "      <td>34</td>\n",
       "      <td>0</td>\n",
       "      <td>682</td>\n",
       "      <td>126</td>\n",
       "      <td>1</td>\n",
       "      <td>0.531746</td>\n",
       "      <td>0.142857</td>\n",
       "      <td>1.0</td>\n",
       "      <td>3711</td>\n",
       "    </tr>\n",
       "    <tr>\n",
       "      <th>1</th>\n",
       "      <td>http://www.youtube.com/watch?v=ippMPPu6gh4</td>\n",
       "      <td>{\"body\":\"Speed Air Man--David Belle david bell...</td>\n",
       "      <td>?</td>\n",
       "      <td>?</td>\n",
       "      <td>1.257576</td>\n",
       "      <td>0.141026</td>\n",
       "      <td>0.000000</td>\n",
       "      <td>0.000000</td>\n",
       "      <td>0.000000</td>\n",
       "      <td>1.142857</td>\n",
       "      <td>...</td>\n",
       "      <td>0</td>\n",
       "      <td>12</td>\n",
       "      <td>0</td>\n",
       "      <td>3008</td>\n",
       "      <td>78</td>\n",
       "      <td>1</td>\n",
       "      <td>0.628205</td>\n",
       "      <td>0.000000</td>\n",
       "      <td>1.0</td>\n",
       "      <td>7222</td>\n",
       "    </tr>\n",
       "    <tr>\n",
       "      <th>2</th>\n",
       "      <td>http://www.musingsofahousewife.com/2011/03/tri...</td>\n",
       "      <td>{\"title\":\"Chicken Gruyere Recipe \",\"body\":\"Chi...</td>\n",
       "      <td>science_technology</td>\n",
       "      <td>0.386685</td>\n",
       "      <td>2.024000</td>\n",
       "      <td>0.630350</td>\n",
       "      <td>0.284047</td>\n",
       "      <td>0.233463</td>\n",
       "      <td>0.202335</td>\n",
       "      <td>0.443409</td>\n",
       "      <td>...</td>\n",
       "      <td>1</td>\n",
       "      <td>17</td>\n",
       "      <td>0</td>\n",
       "      <td>11008</td>\n",
       "      <td>257</td>\n",
       "      <td>5</td>\n",
       "      <td>0.466926</td>\n",
       "      <td>0.062500</td>\n",
       "      <td>1.0</td>\n",
       "      <td>3964</td>\n",
       "    </tr>\n",
       "    <tr>\n",
       "      <th>3</th>\n",
       "      <td>http://www.thelittleteochew.com/2011/07/ikan-b...</td>\n",
       "      <td>{\"title\":\"Ikan Bilis With Tempeh Groundnuts \",...</td>\n",
       "      <td>recreation</td>\n",
       "      <td>0.475039</td>\n",
       "      <td>1.665254</td>\n",
       "      <td>0.419580</td>\n",
       "      <td>0.199301</td>\n",
       "      <td>0.097902</td>\n",
       "      <td>0.066434</td>\n",
       "      <td>0.472649</td>\n",
       "      <td>...</td>\n",
       "      <td>1</td>\n",
       "      <td>28</td>\n",
       "      <td>0</td>\n",
       "      <td>4585</td>\n",
       "      <td>286</td>\n",
       "      <td>5</td>\n",
       "      <td>0.244755</td>\n",
       "      <td>0.085868</td>\n",
       "      <td>1.0</td>\n",
       "      <td>3697</td>\n",
       "    </tr>\n",
       "    <tr>\n",
       "      <th>4</th>\n",
       "      <td>http://recipes.wuzzle.org/index.php/72</td>\n",
       "      <td>{\"url\":\"recipes wuzzle org index php 72\",\"titl...</td>\n",
       "      <td>computer_internet</td>\n",
       "      <td>0.535009</td>\n",
       "      <td>0.181818</td>\n",
       "      <td>0.036364</td>\n",
       "      <td>0.000000</td>\n",
       "      <td>0.000000</td>\n",
       "      <td>0.000000</td>\n",
       "      <td>0.292614</td>\n",
       "      <td>...</td>\n",
       "      <td>0</td>\n",
       "      <td>3</td>\n",
       "      <td>0</td>\n",
       "      <td>1745</td>\n",
       "      <td>55</td>\n",
       "      <td>1</td>\n",
       "      <td>0.072727</td>\n",
       "      <td>0.115044</td>\n",
       "      <td>1.0</td>\n",
       "      <td>4321</td>\n",
       "    </tr>\n",
       "  </tbody>\n",
       "</table>\n",
       "<p>5 rows × 27 columns</p>\n",
       "</div>"
      ],
      "text/plain": [
       "                                                 url  \\\n",
       "0        http://www.polyvore.com/cgi/home?id=1389651   \n",
       "1         http://www.youtube.com/watch?v=ippMPPu6gh4   \n",
       "2  http://www.musingsofahousewife.com/2011/03/tri...   \n",
       "3  http://www.thelittleteochew.com/2011/07/ikan-b...   \n",
       "4             http://recipes.wuzzle.org/index.php/72   \n",
       "\n",
       "                                  webpageDescription    alchemy_category  \\\n",
       "0  {\"title\":\"Join Polyvore and follow the latest ...                   ?   \n",
       "1  {\"body\":\"Speed Air Man--David Belle david bell...                   ?   \n",
       "2  {\"title\":\"Chicken Gruyere Recipe \",\"body\":\"Chi...  science_technology   \n",
       "3  {\"title\":\"Ikan Bilis With Tempeh Groundnuts \",...          recreation   \n",
       "4  {\"url\":\"recipes wuzzle org index php 72\",\"titl...   computer_internet   \n",
       "\n",
       "  alchemy_category_score  avgLinkWordLength  AvglinkWithOneCommonWord  \\\n",
       "0                      ?           1.916667                  0.047619   \n",
       "1                      ?           1.257576                  0.141026   \n",
       "2               0.386685           2.024000                  0.630350   \n",
       "3               0.475039           1.665254                  0.419580   \n",
       "4               0.535009           0.181818                  0.036364   \n",
       "\n",
       "   AvglinkWithTwoCommonWord  AvglinkWithThreeCommonWord  \\\n",
       "0                  0.007937                    0.000000   \n",
       "1                  0.000000                    0.000000   \n",
       "2                  0.284047                    0.233463   \n",
       "3                  0.199301                    0.097902   \n",
       "4                  0.000000                    0.000000   \n",
       "\n",
       "   AvglinkWithFourCommonWord  redundancyMeasure  ...  lengthyDomain  \\\n",
       "0                   0.000000           0.803797  ...              0   \n",
       "1                   0.000000           1.142857  ...              0   \n",
       "2                   0.202335           0.443409  ...              1   \n",
       "3                   0.066434           0.472649  ...              1   \n",
       "4                   0.000000           0.292614  ...              0   \n",
       "\n",
       "   hyperlinkToAllWordsRatio  isFrontPageNews  alphanumCharCount  linksCount  \\\n",
       "0                        34                0                682         126   \n",
       "1                        12                0               3008          78   \n",
       "2                        17                0              11008         257   \n",
       "3                        28                0               4585         286   \n",
       "4                         3                0               1745          55   \n",
       "\n",
       "   wordCount parametrizedLinkRatio  spellingErrorsRatio  label    id  \n",
       "0          1              0.531746             0.142857    1.0  3711  \n",
       "1          1              0.628205             0.000000    1.0  7222  \n",
       "2          5              0.466926             0.062500    1.0  3964  \n",
       "3          5              0.244755             0.085868    1.0  3697  \n",
       "4          1              0.072727             0.115044    1.0  4321  \n",
       "\n",
       "[5 rows x 27 columns]"
      ]
     },
     "execution_count": 3,
     "metadata": {},
     "output_type": "execute_result"
    }
   ],
   "source": [
    "main_df.head()"
   ]
  },
  {
   "cell_type": "markdown",
   "id": "6d150565",
   "metadata": {},
   "source": [
    "## 1.1 Checking for NULL and \"?\" values"
   ]
  },
  {
   "cell_type": "code",
   "execution_count": 4,
   "id": "4792a3b7",
   "metadata": {},
   "outputs": [
    {
     "data": {
      "text/plain": [
       "url                              0\n",
       "webpageDescription               0\n",
       "alchemy_category                 0\n",
       "alchemy_category_score           0\n",
       "avgLinkWordLength                0\n",
       "AvglinkWithOneCommonWord         0\n",
       "AvglinkWithTwoCommonWord         0\n",
       "AvglinkWithThreeCommonWord       0\n",
       "AvglinkWithFourCommonWord        0\n",
       "redundancyMeasure                0\n",
       "embedRatio                       0\n",
       "framebased                       0\n",
       "frameTagRatio                    0\n",
       "domainLink                       0\n",
       "tagRatio                         0\n",
       "imageTagRatio                    0\n",
       "isNews                           0\n",
       "lengthyDomain                    0\n",
       "hyperlinkToAllWordsRatio         0\n",
       "isFrontPageNews                  0\n",
       "alphanumCharCount                0\n",
       "linksCount                       0\n",
       "wordCount                        0\n",
       "parametrizedLinkRatio            0\n",
       "spellingErrorsRatio              0\n",
       "label                         1479\n",
       "id                               0\n",
       "dtype: int64"
      ]
     },
     "execution_count": 4,
     "metadata": {},
     "output_type": "execute_result"
    }
   ],
   "source": [
    "main_df.isna().sum()"
   ]
  },
  {
   "cell_type": "markdown",
   "id": "102d7d26",
   "metadata": {},
   "source": [
    "No Null Values exist"
   ]
  },
  {
   "cell_type": "code",
   "execution_count": 5,
   "id": "8608e5b1",
   "metadata": {},
   "outputs": [
    {
     "data": {
      "text/plain": [
       "url                              0\n",
       "webpageDescription               0\n",
       "alchemy_category              2342\n",
       "alchemy_category_score        2342\n",
       "avgLinkWordLength                0\n",
       "AvglinkWithOneCommonWord         0\n",
       "AvglinkWithTwoCommonWord         0\n",
       "AvglinkWithThreeCommonWord       0\n",
       "AvglinkWithFourCommonWord        0\n",
       "redundancyMeasure                0\n",
       "embedRatio                       0\n",
       "framebased                       0\n",
       "frameTagRatio                    0\n",
       "domainLink                       0\n",
       "tagRatio                         0\n",
       "imageTagRatio                    0\n",
       "isNews                        2843\n",
       "lengthyDomain                    0\n",
       "hyperlinkToAllWordsRatio         0\n",
       "isFrontPageNews               1248\n",
       "alphanumCharCount                0\n",
       "linksCount                       0\n",
       "wordCount                        0\n",
       "parametrizedLinkRatio            0\n",
       "spellingErrorsRatio              0\n",
       "label                            0\n",
       "id                               0\n",
       "dtype: int64"
      ]
     },
     "execution_count": 5,
     "metadata": {},
     "output_type": "execute_result"
    }
   ],
   "source": [
    "(main_df == '?').sum()"
   ]
  },
  {
   "cell_type": "code",
   "execution_count": 6,
   "id": "fcf1c7cd",
   "metadata": {},
   "outputs": [
    {
     "data": {
      "text/plain": [
       "2843"
      ]
     },
     "execution_count": 6,
     "metadata": {},
     "output_type": "execute_result"
    }
   ],
   "source": [
    "(main_df[\"isNews\"] == '?').sum()"
   ]
  },
  {
   "cell_type": "code",
   "execution_count": 7,
   "id": "84b7d2b9",
   "metadata": {},
   "outputs": [
    {
     "data": {
      "text/plain": [
       "1    4552\n",
       "?    2843\n",
       "Name: isNews, dtype: int64"
      ]
     },
     "execution_count": 7,
     "metadata": {},
     "output_type": "execute_result"
    }
   ],
   "source": [
    "main_df[\"isNews\"].value_counts()"
   ]
  },
  {
   "cell_type": "markdown",
   "id": "5b5fbd28",
   "metadata": {},
   "source": [
    "Assuming the other 2843 rows are not news. Making the '?' values to 0"
   ]
  },
  {
   "cell_type": "code",
   "execution_count": 8,
   "id": "b72fcaf6",
   "metadata": {},
   "outputs": [],
   "source": [
    "main_df[\"isNews\"].replace(\"?\", 0, inplace = True)"
   ]
  },
  {
   "cell_type": "code",
   "execution_count": 9,
   "id": "9bd1e418",
   "metadata": {},
   "outputs": [
    {
     "data": {
      "text/plain": [
       "1    4552\n",
       "0    2843\n",
       "Name: isNews, dtype: int64"
      ]
     },
     "execution_count": 9,
     "metadata": {},
     "output_type": "execute_result"
    }
   ],
   "source": [
    "main_df[\"isNews\"].value_counts()"
   ]
  },
  {
   "cell_type": "code",
   "execution_count": 10,
   "id": "442d357d",
   "metadata": {},
   "outputs": [
    {
     "data": {
      "text/plain": [
       "1248"
      ]
     },
     "execution_count": 10,
     "metadata": {},
     "output_type": "execute_result"
    }
   ],
   "source": [
    "(main_df[\"isFrontPageNews\"] == '?').sum()"
   ]
  },
  {
   "cell_type": "code",
   "execution_count": 11,
   "id": "98bd660f",
   "metadata": {},
   "outputs": [
    {
     "data": {
      "text/plain": [
       "0    5853\n",
       "?    1248\n",
       "1     294\n",
       "Name: isFrontPageNews, dtype: int64"
      ]
     },
     "execution_count": 11,
     "metadata": {},
     "output_type": "execute_result"
    }
   ],
   "source": [
    "main_df[\"isFrontPageNews\"].value_counts()"
   ]
  },
  {
   "cell_type": "markdown",
   "id": "aa09fed1",
   "metadata": {},
   "source": [
    "Assuming they are not front page news. Changing the \"?\" to 0"
   ]
  },
  {
   "cell_type": "code",
   "execution_count": 12,
   "id": "f72bfbd5",
   "metadata": {},
   "outputs": [],
   "source": [
    "main_df[\"isFrontPageNews\"].replace(\"?\", 0, inplace = True)\n",
    "main_df[\"isFrontPageNews\"] = pd.to_numeric(main_df[\"isFrontPageNews\"])"
   ]
  },
  {
   "cell_type": "code",
   "execution_count": 13,
   "id": "00de72db",
   "metadata": {},
   "outputs": [
    {
     "data": {
      "text/plain": [
       "0    7101\n",
       "1     294\n",
       "Name: isFrontPageNews, dtype: int64"
      ]
     },
     "execution_count": 13,
     "metadata": {},
     "output_type": "execute_result"
    }
   ],
   "source": [
    "main_df[\"isFrontPageNews\"].value_counts()"
   ]
  },
  {
   "cell_type": "code",
   "execution_count": 14,
   "id": "83581cfe",
   "metadata": {},
   "outputs": [
    {
     "data": {
      "text/plain": [
       "2342"
      ]
     },
     "execution_count": 14,
     "metadata": {},
     "output_type": "execute_result"
    }
   ],
   "source": [
    "(main_df[\"alchemy_category_score\"] == '?').sum()"
   ]
  },
  {
   "cell_type": "code",
   "execution_count": 15,
   "id": "647979c3",
   "metadata": {},
   "outputs": [
    {
     "data": {
      "text/plain": [
       "?            2342\n",
       "0.85           82\n",
       "0.0784091      40\n",
       "0.849999       12\n",
       "0.535009       10\n",
       "             ... \n",
       "0.181393        1\n",
       "0.640928        1\n",
       "0.638953        1\n",
       "0.881255        1\n",
       "0.848075        1\n",
       "Name: alchemy_category_score, Length: 4806, dtype: int64"
      ]
     },
     "execution_count": 15,
     "metadata": {},
     "output_type": "execute_result"
    }
   ],
   "source": [
    "main_df[\"alchemy_category_score\"].value_counts()"
   ]
  },
  {
   "cell_type": "code",
   "execution_count": 16,
   "id": "bee56e08",
   "metadata": {},
   "outputs": [
    {
     "data": {
      "text/plain": [
       "count    5053.000000\n",
       "mean        0.603334\n",
       "std         0.212864\n",
       "min         0.070833\n",
       "25%         0.452424\n",
       "50%         0.625616\n",
       "75%         0.780851\n",
       "max         0.999426\n",
       "Name: alchemy_category_score, dtype: float64"
      ]
     },
     "execution_count": 16,
     "metadata": {},
     "output_type": "execute_result"
    }
   ],
   "source": [
    "main_df[\"alchemy_category_score\"] = main_df[\"alchemy_category_score\"].replace('?', np.nan)\n",
    "main_df[\"alchemy_category_score\"] = pd.to_numeric(main_df[\"alchemy_category_score\"])\n",
    "main_df[\"alchemy_category_score\"].describe()"
   ]
  },
  {
   "cell_type": "code",
   "execution_count": 17,
   "id": "a4d226b3",
   "metadata": {},
   "outputs": [
    {
     "data": {
      "text/plain": [
       "2342"
      ]
     },
     "execution_count": 17,
     "metadata": {},
     "output_type": "execute_result"
    }
   ],
   "source": [
    "main_df[\"alchemy_category_score\"].isna().sum()"
   ]
  },
  {
   "cell_type": "markdown",
   "id": "d8ac839b",
   "metadata": {},
   "source": [
    "Mean and Median are almost same. So, replacing nan values with Median"
   ]
  },
  {
   "cell_type": "code",
   "execution_count": 18,
   "id": "74c7f478",
   "metadata": {},
   "outputs": [
    {
     "data": {
      "text/plain": [
       "count    7395.000000\n",
       "mean        0.610391\n",
       "std         0.176257\n",
       "min         0.070833\n",
       "25%         0.538758\n",
       "50%         0.625616\n",
       "75%         0.708279\n",
       "max         0.999426\n",
       "Name: alchemy_category_score, dtype: float64"
      ]
     },
     "execution_count": 18,
     "metadata": {},
     "output_type": "execute_result"
    }
   ],
   "source": [
    "main_df[\"alchemy_category_score\"].fillna(main_df[\"alchemy_category_score\"].median(), inplace=True)\n",
    "main_df[\"alchemy_category_score\"].describe()"
   ]
  },
  {
   "cell_type": "code",
   "execution_count": 19,
   "id": "db785161",
   "metadata": {},
   "outputs": [
    {
     "data": {
      "text/plain": [
       "count     7395\n",
       "unique      14\n",
       "top          ?\n",
       "freq      2342\n",
       "Name: alchemy_category, dtype: object"
      ]
     },
     "execution_count": 19,
     "metadata": {},
     "output_type": "execute_result"
    }
   ],
   "source": [
    "main_df[\"alchemy_category\"].describe()"
   ]
  },
  {
   "cell_type": "code",
   "execution_count": 20,
   "id": "3da35c1d",
   "metadata": {},
   "outputs": [
    {
     "data": {
      "text/plain": [
       "?                     2342\n",
       "recreation            1229\n",
       "arts_entertainment     941\n",
       "business               880\n",
       "health                 506\n",
       "sports                 380\n",
       "culture_politics       343\n",
       "computer_internet      296\n",
       "science_technology     289\n",
       "gaming                  76\n",
       "religion                72\n",
       "law_crime               31\n",
       "unknown                  6\n",
       "weather                  4\n",
       "Name: alchemy_category, dtype: int64"
      ]
     },
     "execution_count": 20,
     "metadata": {},
     "output_type": "execute_result"
    }
   ],
   "source": [
    "main_df[\"alchemy_category\"].value_counts()"
   ]
  },
  {
   "cell_type": "markdown",
   "id": "c8becfa0",
   "metadata": {},
   "source": [
    "Changing '?' to a new unknown"
   ]
  },
  {
   "cell_type": "code",
   "execution_count": 21,
   "id": "ff32c045",
   "metadata": {},
   "outputs": [],
   "source": [
    "\n",
    "main_df[\"alchemy_category\"].replace(\"?\", \"unknown\", inplace = True)"
   ]
  },
  {
   "cell_type": "code",
   "execution_count": 22,
   "id": "f033d4d6",
   "metadata": {},
   "outputs": [
    {
     "data": {
      "text/plain": [
       "url                           0\n",
       "webpageDescription            0\n",
       "alchemy_category              0\n",
       "alchemy_category_score        0\n",
       "avgLinkWordLength             0\n",
       "AvglinkWithOneCommonWord      0\n",
       "AvglinkWithTwoCommonWord      0\n",
       "AvglinkWithThreeCommonWord    0\n",
       "AvglinkWithFourCommonWord     0\n",
       "redundancyMeasure             0\n",
       "embedRatio                    0\n",
       "framebased                    0\n",
       "frameTagRatio                 0\n",
       "domainLink                    0\n",
       "tagRatio                      0\n",
       "imageTagRatio                 0\n",
       "isNews                        0\n",
       "lengthyDomain                 0\n",
       "hyperlinkToAllWordsRatio      0\n",
       "isFrontPageNews               0\n",
       "alphanumCharCount             0\n",
       "linksCount                    0\n",
       "wordCount                     0\n",
       "parametrizedLinkRatio         0\n",
       "spellingErrorsRatio           0\n",
       "label                         0\n",
       "id                            0\n",
       "dtype: int64"
      ]
     },
     "execution_count": 22,
     "metadata": {},
     "output_type": "execute_result"
    }
   ],
   "source": [
    "(main_df == '?').sum()"
   ]
  },
  {
   "cell_type": "markdown",
   "id": "c2b8a231",
   "metadata": {},
   "source": [
    "----------------- all '?' and null values are removed ---------------"
   ]
  },
  {
   "cell_type": "markdown",
   "id": "e84aee38",
   "metadata": {},
   "source": [
    "## 1.2 Removing useless columns."
   ]
  },
  {
   "cell_type": "code",
   "execution_count": 23,
   "id": "460464c4",
   "metadata": {},
   "outputs": [
    {
     "data": {
      "text/plain": [
       "<AxesSubplot:>"
      ]
     },
     "execution_count": 23,
     "metadata": {},
     "output_type": "execute_result"
    },
    {
     "data": {
      "image/png": "[encoded data removed]",
      "text/plain": [
       "<Figure size 2160x2160 with 2 Axes>"
      ]
     },
     "metadata": {
      "needs_background": "light"
     },
     "output_type": "display_data"
    }
   ],
   "source": [
    "plt.figure(figsize=(30,30))\n",
    "sns.heatmap(main_df.corr(), vmin=-1, cmap=\"coolwarm\", annot=True)"
   ]
  },
  {
   "cell_type": "code",
   "execution_count": 24,
   "id": "23a7e264",
   "metadata": {},
   "outputs": [
    {
     "data": {
      "text/plain": [
       "0    7101\n",
       "1     294\n",
       "Name: isFrontPageNews, dtype: int64"
      ]
     },
     "execution_count": 24,
     "metadata": {},
     "output_type": "execute_result"
    }
   ],
   "source": [
    "main_df[\"isFrontPageNews\"].value_counts()"
   ]
  },
  {
   "cell_type": "code",
   "execution_count": 25,
   "id": "c54ec933",
   "metadata": {},
   "outputs": [
    {
     "data": {
      "text/plain": [
       "0    7395\n",
       "Name: framebased, dtype: int64"
      ]
     },
     "execution_count": 25,
     "metadata": {},
     "output_type": "execute_result"
    }
   ],
   "source": [
    "main_df[\"framebased\"].value_counts()"
   ]
  },
  {
   "cell_type": "code",
   "execution_count": 26,
   "id": "13e54e05",
   "metadata": {},
   "outputs": [
    {
     "data": {
      "text/plain": [
       "0    7238\n",
       "1     157\n",
       "Name: domainLink, dtype: int64"
      ]
     },
     "execution_count": 26,
     "metadata": {},
     "output_type": "execute_result"
    }
   ],
   "source": [
    "main_df[\"domainLink\"].value_counts()"
   ]
  },
  {
   "cell_type": "code",
   "execution_count": 27,
   "id": "396d4c01",
   "metadata": {},
   "outputs": [],
   "source": [
    "columns_to_be_deleted = [\"framebased\", \"domainLink\"]\n",
    "main_df.drop(axis=\"columns\", labels=columns_to_be_deleted, inplace=True)"
   ]
  },
  {
   "cell_type": "code",
   "execution_count": 28,
   "id": "2b49d12e",
   "metadata": {},
   "outputs": [
    {
     "data": {
      "text/html": [
       "<div>\n",
       "<style scoped>\n",
       "    .dataframe tbody tr th:only-of-type {\n",
       "        vertical-align: middle;\n",
       "    }\n",
       "\n",
       "    .dataframe tbody tr th {\n",
       "        vertical-align: top;\n",
       "    }\n",
       "\n",
       "    .dataframe thead th {\n",
       "        text-align: right;\n",
       "    }\n",
       "</style>\n",
       "<table border=\"1\" class=\"dataframe\">\n",
       "  <thead>\n",
       "    <tr style=\"text-align: right;\">\n",
       "      <th></th>\n",
       "      <th>url</th>\n",
       "      <th>webpageDescription</th>\n",
       "      <th>alchemy_category</th>\n",
       "      <th>alchemy_category_score</th>\n",
       "      <th>avgLinkWordLength</th>\n",
       "      <th>AvglinkWithOneCommonWord</th>\n",
       "      <th>AvglinkWithTwoCommonWord</th>\n",
       "      <th>AvglinkWithThreeCommonWord</th>\n",
       "      <th>AvglinkWithFourCommonWord</th>\n",
       "      <th>redundancyMeasure</th>\n",
       "      <th>...</th>\n",
       "      <th>lengthyDomain</th>\n",
       "      <th>hyperlinkToAllWordsRatio</th>\n",
       "      <th>isFrontPageNews</th>\n",
       "      <th>alphanumCharCount</th>\n",
       "      <th>linksCount</th>\n",
       "      <th>wordCount</th>\n",
       "      <th>parametrizedLinkRatio</th>\n",
       "      <th>spellingErrorsRatio</th>\n",
       "      <th>label</th>\n",
       "      <th>id</th>\n",
       "    </tr>\n",
       "  </thead>\n",
       "  <tbody>\n",
       "    <tr>\n",
       "      <th>0</th>\n",
       "      <td>http://www.polyvore.com/cgi/home?id=1389651</td>\n",
       "      <td>{\"title\":\"Join Polyvore and follow the latest ...</td>\n",
       "      <td>unknown</td>\n",
       "      <td>0.625616</td>\n",
       "      <td>1.916667</td>\n",
       "      <td>0.047619</td>\n",
       "      <td>0.007937</td>\n",
       "      <td>0.000000</td>\n",
       "      <td>0.000000</td>\n",
       "      <td>0.803797</td>\n",
       "      <td>...</td>\n",
       "      <td>0</td>\n",
       "      <td>34</td>\n",
       "      <td>0</td>\n",
       "      <td>682</td>\n",
       "      <td>126</td>\n",
       "      <td>1</td>\n",
       "      <td>0.531746</td>\n",
       "      <td>0.142857</td>\n",
       "      <td>1.0</td>\n",
       "      <td>3711</td>\n",
       "    </tr>\n",
       "    <tr>\n",
       "      <th>1</th>\n",
       "      <td>http://www.youtube.com/watch?v=ippMPPu6gh4</td>\n",
       "      <td>{\"body\":\"Speed Air Man--David Belle david bell...</td>\n",
       "      <td>unknown</td>\n",
       "      <td>0.625616</td>\n",
       "      <td>1.257576</td>\n",
       "      <td>0.141026</td>\n",
       "      <td>0.000000</td>\n",
       "      <td>0.000000</td>\n",
       "      <td>0.000000</td>\n",
       "      <td>1.142857</td>\n",
       "      <td>...</td>\n",
       "      <td>0</td>\n",
       "      <td>12</td>\n",
       "      <td>0</td>\n",
       "      <td>3008</td>\n",
       "      <td>78</td>\n",
       "      <td>1</td>\n",
       "      <td>0.628205</td>\n",
       "      <td>0.000000</td>\n",
       "      <td>1.0</td>\n",
       "      <td>7222</td>\n",
       "    </tr>\n",
       "    <tr>\n",
       "      <th>2</th>\n",
       "      <td>http://www.musingsofahousewife.com/2011/03/tri...</td>\n",
       "      <td>{\"title\":\"Chicken Gruyere Recipe \",\"body\":\"Chi...</td>\n",
       "      <td>science_technology</td>\n",
       "      <td>0.386685</td>\n",
       "      <td>2.024000</td>\n",
       "      <td>0.630350</td>\n",
       "      <td>0.284047</td>\n",
       "      <td>0.233463</td>\n",
       "      <td>0.202335</td>\n",
       "      <td>0.443409</td>\n",
       "      <td>...</td>\n",
       "      <td>1</td>\n",
       "      <td>17</td>\n",
       "      <td>0</td>\n",
       "      <td>11008</td>\n",
       "      <td>257</td>\n",
       "      <td>5</td>\n",
       "      <td>0.466926</td>\n",
       "      <td>0.062500</td>\n",
       "      <td>1.0</td>\n",
       "      <td>3964</td>\n",
       "    </tr>\n",
       "    <tr>\n",
       "      <th>3</th>\n",
       "      <td>http://www.thelittleteochew.com/2011/07/ikan-b...</td>\n",
       "      <td>{\"title\":\"Ikan Bilis With Tempeh Groundnuts \",...</td>\n",
       "      <td>recreation</td>\n",
       "      <td>0.475039</td>\n",
       "      <td>1.665254</td>\n",
       "      <td>0.419580</td>\n",
       "      <td>0.199301</td>\n",
       "      <td>0.097902</td>\n",
       "      <td>0.066434</td>\n",
       "      <td>0.472649</td>\n",
       "      <td>...</td>\n",
       "      <td>1</td>\n",
       "      <td>28</td>\n",
       "      <td>0</td>\n",
       "      <td>4585</td>\n",
       "      <td>286</td>\n",
       "      <td>5</td>\n",
       "      <td>0.244755</td>\n",
       "      <td>0.085868</td>\n",
       "      <td>1.0</td>\n",
       "      <td>3697</td>\n",
       "    </tr>\n",
       "    <tr>\n",
       "      <th>4</th>\n",
       "      <td>http://recipes.wuzzle.org/index.php/72</td>\n",
       "      <td>{\"url\":\"recipes wuzzle org index php 72\",\"titl...</td>\n",
       "      <td>computer_internet</td>\n",
       "      <td>0.535009</td>\n",
       "      <td>0.181818</td>\n",
       "      <td>0.036364</td>\n",
       "      <td>0.000000</td>\n",
       "      <td>0.000000</td>\n",
       "      <td>0.000000</td>\n",
       "      <td>0.292614</td>\n",
       "      <td>...</td>\n",
       "      <td>0</td>\n",
       "      <td>3</td>\n",
       "      <td>0</td>\n",
       "      <td>1745</td>\n",
       "      <td>55</td>\n",
       "      <td>1</td>\n",
       "      <td>0.072727</td>\n",
       "      <td>0.115044</td>\n",
       "      <td>1.0</td>\n",
       "      <td>4321</td>\n",
       "    </tr>\n",
       "  </tbody>\n",
       "</table>\n",
       "<p>5 rows × 25 columns</p>\n",
       "</div>"
      ],
      "text/plain": [
       "                                                 url  \\\n",
       "0        http://www.polyvore.com/cgi/home?id=1389651   \n",
       "1         http://www.youtube.com/watch?v=ippMPPu6gh4   \n",
       "2  http://www.musingsofahousewife.com/2011/03/tri...   \n",
       "3  http://www.thelittleteochew.com/2011/07/ikan-b...   \n",
       "4             http://recipes.wuzzle.org/index.php/72   \n",
       "\n",
       "                                  webpageDescription    alchemy_category  \\\n",
       "0  {\"title\":\"Join Polyvore and follow the latest ...             unknown   \n",
       "1  {\"body\":\"Speed Air Man--David Belle david bell...             unknown   \n",
       "2  {\"title\":\"Chicken Gruyere Recipe \",\"body\":\"Chi...  science_technology   \n",
       "3  {\"title\":\"Ikan Bilis With Tempeh Groundnuts \",...          recreation   \n",
       "4  {\"url\":\"recipes wuzzle org index php 72\",\"titl...   computer_internet   \n",
       "\n",
       "   alchemy_category_score  avgLinkWordLength  AvglinkWithOneCommonWord  \\\n",
       "0                0.625616           1.916667                  0.047619   \n",
       "1                0.625616           1.257576                  0.141026   \n",
       "2                0.386685           2.024000                  0.630350   \n",
       "3                0.475039           1.665254                  0.419580   \n",
       "4                0.535009           0.181818                  0.036364   \n",
       "\n",
       "   AvglinkWithTwoCommonWord  AvglinkWithThreeCommonWord  \\\n",
       "0                  0.007937                    0.000000   \n",
       "1                  0.000000                    0.000000   \n",
       "2                  0.284047                    0.233463   \n",
       "3                  0.199301                    0.097902   \n",
       "4                  0.000000                    0.000000   \n",
       "\n",
       "   AvglinkWithFourCommonWord  redundancyMeasure  ...  lengthyDomain  \\\n",
       "0                   0.000000           0.803797  ...              0   \n",
       "1                   0.000000           1.142857  ...              0   \n",
       "2                   0.202335           0.443409  ...              1   \n",
       "3                   0.066434           0.472649  ...              1   \n",
       "4                   0.000000           0.292614  ...              0   \n",
       "\n",
       "   hyperlinkToAllWordsRatio  isFrontPageNews  alphanumCharCount linksCount  \\\n",
       "0                        34                0                682        126   \n",
       "1                        12                0               3008         78   \n",
       "2                        17                0              11008        257   \n",
       "3                        28                0               4585        286   \n",
       "4                         3                0               1745         55   \n",
       "\n",
       "   wordCount  parametrizedLinkRatio  spellingErrorsRatio  label    id  \n",
       "0          1               0.531746             0.142857    1.0  3711  \n",
       "1          1               0.628205             0.000000    1.0  7222  \n",
       "2          5               0.466926             0.062500    1.0  3964  \n",
       "3          5               0.244755             0.085868    1.0  3697  \n",
       "4          1               0.072727             0.115044    1.0  4321  \n",
       "\n",
       "[5 rows x 25 columns]"
      ]
     },
     "execution_count": 28,
     "metadata": {},
     "output_type": "execute_result"
    }
   ],
   "source": [
    "main_df.head()"
   ]
  },
  {
   "cell_type": "code",
   "execution_count": 29,
   "id": "2b8b768d",
   "metadata": {},
   "outputs": [
    {
     "data": {
      "text/html": [
       "<div>\n",
       "<style scoped>\n",
       "    .dataframe tbody tr th:only-of-type {\n",
       "        vertical-align: middle;\n",
       "    }\n",
       "\n",
       "    .dataframe tbody tr th {\n",
       "        vertical-align: top;\n",
       "    }\n",
       "\n",
       "    .dataframe thead th {\n",
       "        text-align: right;\n",
       "    }\n",
       "</style>\n",
       "<table border=\"1\" class=\"dataframe\">\n",
       "  <thead>\n",
       "    <tr style=\"text-align: right;\">\n",
       "      <th></th>\n",
       "      <th>url</th>\n",
       "      <th>webpageDescription</th>\n",
       "      <th>alchemy_category</th>\n",
       "      <th>alchemy_category_score</th>\n",
       "      <th>avgLinkWordLength</th>\n",
       "      <th>AvglinkWithOneCommonWord</th>\n",
       "      <th>AvglinkWithTwoCommonWord</th>\n",
       "      <th>AvglinkWithThreeCommonWord</th>\n",
       "      <th>AvglinkWithFourCommonWord</th>\n",
       "      <th>redundancyMeasure</th>\n",
       "      <th>...</th>\n",
       "      <th>lengthyDomain</th>\n",
       "      <th>hyperlinkToAllWordsRatio</th>\n",
       "      <th>isFrontPageNews</th>\n",
       "      <th>alphanumCharCount</th>\n",
       "      <th>linksCount</th>\n",
       "      <th>wordCount</th>\n",
       "      <th>parametrizedLinkRatio</th>\n",
       "      <th>spellingErrorsRatio</th>\n",
       "      <th>label</th>\n",
       "      <th>id</th>\n",
       "    </tr>\n",
       "  </thead>\n",
       "  <tbody>\n",
       "    <tr>\n",
       "      <th>0</th>\n",
       "      <td>http://www.polyvore.com/cgi/home?id=1389651</td>\n",
       "      <td>{\"title\":\"Join Polyvore and follow the latest ...</td>\n",
       "      <td>unknown</td>\n",
       "      <td>0.625616</td>\n",
       "      <td>1.916667</td>\n",
       "      <td>0.047619</td>\n",
       "      <td>0.007937</td>\n",
       "      <td>0.000000</td>\n",
       "      <td>0.000000</td>\n",
       "      <td>0.803797</td>\n",
       "      <td>...</td>\n",
       "      <td>0</td>\n",
       "      <td>34</td>\n",
       "      <td>0</td>\n",
       "      <td>682</td>\n",
       "      <td>126</td>\n",
       "      <td>1</td>\n",
       "      <td>0.531746</td>\n",
       "      <td>0.142857</td>\n",
       "      <td>1.0</td>\n",
       "      <td>3711</td>\n",
       "    </tr>\n",
       "    <tr>\n",
       "      <th>1</th>\n",
       "      <td>http://www.youtube.com/watch?v=ippMPPu6gh4</td>\n",
       "      <td>{\"body\":\"Speed Air Man--David Belle david bell...</td>\n",
       "      <td>unknown</td>\n",
       "      <td>0.625616</td>\n",
       "      <td>1.257576</td>\n",
       "      <td>0.141026</td>\n",
       "      <td>0.000000</td>\n",
       "      <td>0.000000</td>\n",
       "      <td>0.000000</td>\n",
       "      <td>1.142857</td>\n",
       "      <td>...</td>\n",
       "      <td>0</td>\n",
       "      <td>12</td>\n",
       "      <td>0</td>\n",
       "      <td>3008</td>\n",
       "      <td>78</td>\n",
       "      <td>1</td>\n",
       "      <td>0.628205</td>\n",
       "      <td>0.000000</td>\n",
       "      <td>1.0</td>\n",
       "      <td>7222</td>\n",
       "    </tr>\n",
       "    <tr>\n",
       "      <th>2</th>\n",
       "      <td>http://www.musingsofahousewife.com/2011/03/tri...</td>\n",
       "      <td>{\"title\":\"Chicken Gruyere Recipe \",\"body\":\"Chi...</td>\n",
       "      <td>science_technology</td>\n",
       "      <td>0.386685</td>\n",
       "      <td>2.024000</td>\n",
       "      <td>0.630350</td>\n",
       "      <td>0.284047</td>\n",
       "      <td>0.233463</td>\n",
       "      <td>0.202335</td>\n",
       "      <td>0.443409</td>\n",
       "      <td>...</td>\n",
       "      <td>1</td>\n",
       "      <td>17</td>\n",
       "      <td>0</td>\n",
       "      <td>11008</td>\n",
       "      <td>257</td>\n",
       "      <td>5</td>\n",
       "      <td>0.466926</td>\n",
       "      <td>0.062500</td>\n",
       "      <td>1.0</td>\n",
       "      <td>3964</td>\n",
       "    </tr>\n",
       "    <tr>\n",
       "      <th>3</th>\n",
       "      <td>http://www.thelittleteochew.com/2011/07/ikan-b...</td>\n",
       "      <td>{\"title\":\"Ikan Bilis With Tempeh Groundnuts \",...</td>\n",
       "      <td>recreation</td>\n",
       "      <td>0.475039</td>\n",
       "      <td>1.665254</td>\n",
       "      <td>0.419580</td>\n",
       "      <td>0.199301</td>\n",
       "      <td>0.097902</td>\n",
       "      <td>0.066434</td>\n",
       "      <td>0.472649</td>\n",
       "      <td>...</td>\n",
       "      <td>1</td>\n",
       "      <td>28</td>\n",
       "      <td>0</td>\n",
       "      <td>4585</td>\n",
       "      <td>286</td>\n",
       "      <td>5</td>\n",
       "      <td>0.244755</td>\n",
       "      <td>0.085868</td>\n",
       "      <td>1.0</td>\n",
       "      <td>3697</td>\n",
       "    </tr>\n",
       "    <tr>\n",
       "      <th>4</th>\n",
       "      <td>http://recipes.wuzzle.org/index.php/72</td>\n",
       "      <td>{\"url\":\"recipes wuzzle org index php 72\",\"titl...</td>\n",
       "      <td>computer_internet</td>\n",
       "      <td>0.535009</td>\n",
       "      <td>0.181818</td>\n",
       "      <td>0.036364</td>\n",
       "      <td>0.000000</td>\n",
       "      <td>0.000000</td>\n",
       "      <td>0.000000</td>\n",
       "      <td>0.292614</td>\n",
       "      <td>...</td>\n",
       "      <td>0</td>\n",
       "      <td>3</td>\n",
       "      <td>0</td>\n",
       "      <td>1745</td>\n",
       "      <td>55</td>\n",
       "      <td>1</td>\n",
       "      <td>0.072727</td>\n",
       "      <td>0.115044</td>\n",
       "      <td>1.0</td>\n",
       "      <td>4321</td>\n",
       "    </tr>\n",
       "  </tbody>\n",
       "</table>\n",
       "<p>5 rows × 25 columns</p>\n",
       "</div>"
      ],
      "text/plain": [
       "                                                 url  \\\n",
       "0        http://www.polyvore.com/cgi/home?id=1389651   \n",
       "1         http://www.youtube.com/watch?v=ippMPPu6gh4   \n",
       "2  http://www.musingsofahousewife.com/2011/03/tri...   \n",
       "3  http://www.thelittleteochew.com/2011/07/ikan-b...   \n",
       "4             http://recipes.wuzzle.org/index.php/72   \n",
       "\n",
       "                                  webpageDescription    alchemy_category  \\\n",
       "0  {\"title\":\"Join Polyvore and follow the latest ...             unknown   \n",
       "1  {\"body\":\"Speed Air Man--David Belle david bell...             unknown   \n",
       "2  {\"title\":\"Chicken Gruyere Recipe \",\"body\":\"Chi...  science_technology   \n",
       "3  {\"title\":\"Ikan Bilis With Tempeh Groundnuts \",...          recreation   \n",
       "4  {\"url\":\"recipes wuzzle org index php 72\",\"titl...   computer_internet   \n",
       "\n",
       "   alchemy_category_score  avgLinkWordLength  AvglinkWithOneCommonWord  \\\n",
       "0                0.625616           1.916667                  0.047619   \n",
       "1                0.625616           1.257576                  0.141026   \n",
       "2                0.386685           2.024000                  0.630350   \n",
       "3                0.475039           1.665254                  0.419580   \n",
       "4                0.535009           0.181818                  0.036364   \n",
       "\n",
       "   AvglinkWithTwoCommonWord  AvglinkWithThreeCommonWord  \\\n",
       "0                  0.007937                    0.000000   \n",
       "1                  0.000000                    0.000000   \n",
       "2                  0.284047                    0.233463   \n",
       "3                  0.199301                    0.097902   \n",
       "4                  0.000000                    0.000000   \n",
       "\n",
       "   AvglinkWithFourCommonWord  redundancyMeasure  ...  lengthyDomain  \\\n",
       "0                   0.000000           0.803797  ...              0   \n",
       "1                   0.000000           1.142857  ...              0   \n",
       "2                   0.202335           0.443409  ...              1   \n",
       "3                   0.066434           0.472649  ...              1   \n",
       "4                   0.000000           0.292614  ...              0   \n",
       "\n",
       "   hyperlinkToAllWordsRatio  isFrontPageNews  alphanumCharCount linksCount  \\\n",
       "0                        34                0                682        126   \n",
       "1                        12                0               3008         78   \n",
       "2                        17                0              11008        257   \n",
       "3                        28                0               4585        286   \n",
       "4                         3                0               1745         55   \n",
       "\n",
       "   wordCount  parametrizedLinkRatio  spellingErrorsRatio  label    id  \n",
       "0          1               0.531746             0.142857    1.0  3711  \n",
       "1          1               0.628205             0.000000    1.0  7222  \n",
       "2          5               0.466926             0.062500    1.0  3964  \n",
       "3          5               0.244755             0.085868    1.0  3697  \n",
       "4          1               0.072727             0.115044    1.0  4321  \n",
       "\n",
       "[5 rows x 25 columns]"
      ]
     },
     "execution_count": 29,
     "metadata": {},
     "output_type": "execute_result"
    }
   ],
   "source": [
    "main_df.head()"
   ]
  },
  {
   "cell_type": "markdown",
   "id": "38000b3e",
   "metadata": {},
   "source": [
    "## 1.3 Skew Checking for Numeric data"
   ]
  },
  {
   "cell_type": "code",
   "execution_count": 30,
   "id": "c7860940",
   "metadata": {},
   "outputs": [
    {
     "data": {
      "image/png": "[encoded data removed]",
      "text/plain": [
       "<Figure size 432x288 with 1 Axes>"
      ]
     },
     "metadata": {
      "needs_background": "light"
     },
     "output_type": "display_data"
    },
    {
     "data": {
      "image/png": "[encoded data removed]",
      "text/plain": [
       "<Figure size 432x288 with 1 Axes>"
      ]
     },
     "metadata": {
      "needs_background": "light"
     },
     "output_type": "display_data"
    }
   ],
   "source": [
    "plt.hist(main_df[\"alchemy_category_score\"], bins = 100)\n",
    "plt.show()\n",
    "\n",
    "main_df[\"alchemy_category_score\"] = np.exp(main_df[\"alchemy_category_score\"])\n",
    "\n",
    "q = main_df[\"alchemy_category_score\"].to_numpy()\n",
    "plt.hist(q, bins = 100)\n",
    "plt.show()"
   ]
  },
  {
   "cell_type": "code",
   "execution_count": 31,
   "id": "590cee1f",
   "metadata": {},
   "outputs": [
    {
     "data": {
      "image/png": "[encoded data removed]",
      "text/plain": [
       "<Figure size 432x288 with 1 Axes>"
      ]
     },
     "metadata": {
      "needs_background": "light"
     },
     "output_type": "display_data"
    },
    {
     "data": {
      "image/png": "[encoded data removed]",
      "text/plain": [
       "<Figure size 432x288 with 1 Axes>"
      ]
     },
     "metadata": {
      "needs_background": "light"
     },
     "output_type": "display_data"
    }
   ],
   "source": [
    "plt.hist(main_df[\"redundancyMeasure\"], bins = 100)\n",
    "plt.show()\n",
    "\n",
    "main_df[\"redundancyMeasure\"] = np.log(main_df[\"redundancyMeasure\"]+1)\n",
    "\n",
    "q = main_df[\"redundancyMeasure\"].to_numpy()\n",
    "plt.hist(q, bins = 100)\n",
    "plt.show()"
   ]
  },
  {
   "cell_type": "code",
   "execution_count": 32,
   "id": "045cf1d8",
   "metadata": {},
   "outputs": [
    {
     "data": {
      "image/png": "[encoded data removed]",
      "text/plain": [
       "<Figure size 432x288 with 1 Axes>"
      ]
     },
     "metadata": {
      "needs_background": "light"
     },
     "output_type": "display_data"
    },
    {
     "data": {
      "image/png": "[encoded data removed]",
      "text/plain": [
       "<Figure size 432x288 with 1 Axes>"
      ]
     },
     "metadata": {
      "needs_background": "light"
     },
     "output_type": "display_data"
    }
   ],
   "source": [
    "plt.hist(main_df[\"linksCount\"], bins = 100)\n",
    "plt.show()\n",
    "\n",
    "main_df[\"linksCount\"] = np.log(main_df[\"linksCount\"]+1)\n",
    "\n",
    "q = main_df[\"linksCount\"].to_numpy()\n",
    "plt.hist(q, bins = 100)\n",
    "plt.show()"
   ]
  },
  {
   "cell_type": "code",
   "execution_count": 33,
   "id": "937c0ef7",
   "metadata": {},
   "outputs": [
    {
     "data": {
      "image/png": "[encoded data removed]",
      "text/plain": [
       "<Figure size 432x288 with 1 Axes>"
      ]
     },
     "metadata": {
      "needs_background": "light"
     },
     "output_type": "display_data"
    },
    {
     "data": {
      "image/png": "[encoded data removed]",
      "text/plain": [
       "<Figure size 432x288 with 1 Axes>"
      ]
     },
     "metadata": {
      "needs_background": "light"
     },
     "output_type": "display_data"
    }
   ],
   "source": [
    "plt.hist(main_df[\"wordCount\"], bins = 100)\n",
    "plt.show()\n",
    "\n",
    "main_df[\"wordCount\"] = np.log(main_df[\"wordCount\"]+1)\n",
    "\n",
    "q = main_df[\"wordCount\"].to_numpy()\n",
    "plt.hist(q, bins = 100)\n",
    "plt.show()"
   ]
  },
  {
   "cell_type": "code",
   "execution_count": 34,
   "id": "c637e8a6",
   "metadata": {},
   "outputs": [
    {
     "data": {
      "image/png": "[encoded data removed]",
      "text/plain": [
       "<Figure size 432x288 with 1 Axes>"
      ]
     },
     "metadata": {
      "needs_background": "light"
     },
     "output_type": "display_data"
    },
    {
     "data": {
      "image/png": "[encoded data removed]",
      "text/plain": [
       "<Figure size 432x288 with 1 Axes>"
      ]
     },
     "metadata": {
      "needs_background": "light"
     },
     "output_type": "display_data"
    }
   ],
   "source": [
    "plt.hist(main_df[\"alphanumCharCount\"], bins = 100)\n",
    "plt.show()\n",
    "\n",
    "main_df[\"alphanumCharCount\"] = np.log(main_df[\"alphanumCharCount\"]+1)\n",
    "\n",
    "q = main_df[\"alphanumCharCount\"].to_numpy()\n",
    "plt.hist(q, bins = 100)\n",
    "plt.show()"
   ]
  },
  {
   "cell_type": "code",
   "execution_count": 35,
   "id": "81a0fc59",
   "metadata": {},
   "outputs": [
    {
     "data": {
      "image/png": "[encoded data removed]",
      "text/plain": [
       "<Figure size 432x288 with 1 Axes>"
      ]
     },
     "metadata": {
      "needs_background": "light"
     },
     "output_type": "display_data"
    },
    {
     "data": {
      "image/png": "[encoded data removed]",
      "text/plain": [
       "<Figure size 432x288 with 1 Axes>"
      ]
     },
     "metadata": {
      "needs_background": "light"
     },
     "output_type": "display_data"
    }
   ],
   "source": [
    "plt.hist(main_df[\"avgLinkWordLength\"], bins = 100)\n",
    "plt.show()\n",
    "\n",
    "main_df[\"avgLinkWordLength\"] = np.log(main_df[\"avgLinkWordLength\"]+1)\n",
    "\n",
    "q = main_df[\"avgLinkWordLength\"].to_numpy()\n",
    "plt.hist(q, bins = 100)\n",
    "plt.show()"
   ]
  },
  {
   "cell_type": "code",
   "execution_count": 36,
   "id": "e81c8e99",
   "metadata": {},
   "outputs": [
    {
     "data": {
      "image/png": "[encoded data removed]",
      "text/plain": [
       "<Figure size 432x288 with 1 Axes>"
      ]
     },
     "metadata": {
      "needs_background": "light"
     },
     "output_type": "display_data"
    },
    {
     "data": {
      "image/png": "[encoded data removed]",
      "text/plain": [
       "<Figure size 432x288 with 1 Axes>"
      ]
     },
     "metadata": {
      "needs_background": "light"
     },
     "output_type": "display_data"
    }
   ],
   "source": [
    "plt.hist(main_df[\"AvglinkWithOneCommonWord\"], bins = 100)\n",
    "plt.show()\n",
    "\n",
    "main_df[\"AvglinkWithOneCommonWord\"] = np.exp(main_df[\"AvglinkWithOneCommonWord\"]+1)\n",
    "\n",
    "q = main_df[\"AvglinkWithOneCommonWord\"].to_numpy()\n",
    "plt.hist(q, bins = 100)\n",
    "plt.show()"
   ]
  },
  {
   "cell_type": "code",
   "execution_count": 37,
   "id": "3fe5c349",
   "metadata": {},
   "outputs": [
    {
     "data": {
      "image/png": "[encoded data removed]",
      "text/plain": [
       "<Figure size 432x288 with 1 Axes>"
      ]
     },
     "metadata": {
      "needs_background": "light"
     },
     "output_type": "display_data"
    },
    {
     "data": {
      "image/png": "[encoded data removed]",
      "text/plain": [
       "<Figure size 432x288 with 1 Axes>"
      ]
     },
     "metadata": {
      "needs_background": "light"
     },
     "output_type": "display_data"
    }
   ],
   "source": [
    "plt.hist(main_df[\"AvglinkWithTwoCommonWord\"], bins = 100)\n",
    "plt.show()\n",
    "\n",
    "main_df[\"AvglinkWithTwoCommonWord\"] = np.log(main_df[\"AvglinkWithTwoCommonWord\"]+1)\n",
    "\n",
    "q = main_df[\"AvglinkWithTwoCommonWord\"].to_numpy()\n",
    "plt.hist(q, bins = 100)\n",
    "plt.show()"
   ]
  },
  {
   "cell_type": "code",
   "execution_count": 38,
   "id": "72b97fe9",
   "metadata": {},
   "outputs": [
    {
     "data": {
      "image/png": "[encoded data removed]",
      "text/plain": [
       "<Figure size 432x288 with 1 Axes>"
      ]
     },
     "metadata": {
      "needs_background": "light"
     },
     "output_type": "display_data"
    },
    {
     "data": {
      "image/png": "[encoded data removed]",
      "text/plain": [
       "<Figure size 432x288 with 1 Axes>"
      ]
     },
     "metadata": {
      "needs_background": "light"
     },
     "output_type": "display_data"
    }
   ],
   "source": [
    "plt.hist(main_df[\"AvglinkWithThreeCommonWord\"], bins = 100)\n",
    "plt.show()\n",
    "\n",
    "main_df[\"AvglinkWithThreeCommonWord\"] = np.log(main_df[\"AvglinkWithThreeCommonWord\"]+1)\n",
    "\n",
    "q = main_df[\"AvglinkWithThreeCommonWord\"].to_numpy()\n",
    "plt.hist(q, bins = 100)\n",
    "plt.show()"
   ]
  },
  {
   "cell_type": "code",
   "execution_count": 39,
   "id": "9fc69277",
   "metadata": {},
   "outputs": [
    {
     "data": {
      "image/png": "[encoded data removed]",
      "text/plain": [
       "<Figure size 432x288 with 1 Axes>"
      ]
     },
     "metadata": {
      "needs_background": "light"
     },
     "output_type": "display_data"
    },
    {
     "data": {
      "image/png": "[encoded data removed]",
      "text/plain": [
       "<Figure size 432x288 with 1 Axes>"
      ]
     },
     "metadata": {
      "needs_background": "light"
     },
     "output_type": "display_data"
    }
   ],
   "source": [
    "plt.hist(main_df[\"AvglinkWithFourCommonWord\"], bins = 100)\n",
    "plt.show()\n",
    "\n",
    "main_df[\"AvglinkWithFourCommonWord\"] = np.log(main_df[\"AvglinkWithFourCommonWord\"]+1)\n",
    "\n",
    "q = main_df[\"AvglinkWithFourCommonWord\"].to_numpy()\n",
    "plt.hist(q, bins = 100)\n",
    "plt.show()"
   ]
  },
  {
   "cell_type": "markdown",
   "id": "dc4b38a8",
   "metadata": {},
   "source": [
    "## 1.4 Outlier removal"
   ]
  },
  {
   "cell_type": "code",
   "execution_count": 40,
   "id": "72c1ca97",
   "metadata": {},
   "outputs": [],
   "source": [
    "class OutlierRemoval: \n",
    "    def __init__(self, lower_quartile, upper_quartile):\n",
    "        self.lower_whisker = lower_quartile - 1.5*(upper_quartile - lower_quartile)\n",
    "        self.upper_whisker = upper_quartile + 1.5*(upper_quartile - lower_quartile)\n",
    "    def removeOutlier(self, x):\n",
    "        return (x if x <= self.upper_whisker and x >= self.lower_whisker else (self.lower_whisker if x < self.lower_whisker else (self.upper_whisker)))"
   ]
  },
  {
   "cell_type": "code",
   "execution_count": 41,
   "id": "837c7d8a",
   "metadata": {},
   "outputs": [
    {
     "name": "stdout",
     "output_type": "stream",
     "text": [
      "Index(['url', 'webpageDescription', 'alchemy_category',\n",
      "       'alchemy_category_score', 'avgLinkWordLength',\n",
      "       'AvglinkWithOneCommonWord', 'AvglinkWithTwoCommonWord',\n",
      "       'AvglinkWithThreeCommonWord', 'AvglinkWithFourCommonWord',\n",
      "       'redundancyMeasure', 'embedRatio', 'frameTagRatio', 'tagRatio',\n",
      "       'imageTagRatio', 'isNews', 'lengthyDomain', 'hyperlinkToAllWordsRatio',\n",
      "       'isFrontPageNews', 'alphanumCharCount', 'linksCount', 'wordCount',\n",
      "       'parametrizedLinkRatio', 'spellingErrorsRatio', 'label', 'id'],\n",
      "      dtype='object')\n"
     ]
    }
   ],
   "source": [
    "print(main_df.columns)"
   ]
  },
  {
   "cell_type": "code",
   "execution_count": 42,
   "id": "96321819",
   "metadata": {
    "scrolled": true
   },
   "outputs": [
    {
     "data": {
      "image/png": "[encoded data removed]",
      "text/plain": [
       "<Figure size 432x288 with 1 Axes>"
      ]
     },
     "metadata": {
      "needs_background": "light"
     },
     "output_type": "display_data"
    }
   ],
   "source": [
    "numeric_col = main_df[\"alchemy_category_score\"]\n",
    "sns.boxplot(x=numeric_col)\n",
    "plt.show()"
   ]
  },
  {
   "cell_type": "code",
   "execution_count": 43,
   "id": "9ede0c2e",
   "metadata": {},
   "outputs": [],
   "source": [
    "outlier_remover = OutlierRemoval(numeric_col.quantile(0.25), numeric_col.quantile(0.75))\n",
    "main_df[\"alchemy_category_score\"] = numeric_col.apply(outlier_remover.removeOutlier)"
   ]
  },
  {
   "cell_type": "code",
   "execution_count": 44,
   "id": "ae52d1af",
   "metadata": {},
   "outputs": [
    {
     "data": {
      "image/png": "[encoded data removed]",
      "text/plain": [
       "<Figure size 432x288 with 1 Axes>"
      ]
     },
     "metadata": {
      "needs_background": "light"
     },
     "output_type": "display_data"
    }
   ],
   "source": [
    "sns.boxplot(x=main_df[\"alchemy_category_score\"])\n",
    "plt.show()"
   ]
  },
  {
   "cell_type": "code",
   "execution_count": 45,
   "id": "18ad5184",
   "metadata": {
    "scrolled": true
   },
   "outputs": [
    {
     "data": {
      "image/png": "[encoded data removed]",
      "text/plain": [
       "<Figure size 432x288 with 1 Axes>"
      ]
     },
     "metadata": {
      "needs_background": "light"
     },
     "output_type": "display_data"
    },
    {
     "data": {
      "image/png": "[encoded data removed]",
      "text/plain": [
       "<Figure size 432x288 with 1 Axes>"
      ]
     },
     "metadata": {
      "needs_background": "light"
     },
     "output_type": "display_data"
    }
   ],
   "source": [
    "numeric_col = main_df[\"avgLinkWordLength\"]\n",
    "sns.boxplot(x=numeric_col)\n",
    "plt.show()\n",
    "\n",
    "outlier_remover_1 = OutlierRemoval(numeric_col.quantile(0.25), numeric_col.quantile(0.75))\n",
    "main_df[\"avgLinkWordLength\"] = numeric_col.apply(outlier_remover_1.removeOutlier)\n",
    "\n",
    "sns.boxplot(x=main_df[\"avgLinkWordLength\"])\n",
    "plt.show()"
   ]
  },
  {
   "cell_type": "code",
   "execution_count": 46,
   "id": "9a4571c5",
   "metadata": {
    "scrolled": true
   },
   "outputs": [
    {
     "data": {
      "image/png": "[encoded data removed]",
      "text/plain": [
       "<Figure size 432x288 with 1 Axes>"
      ]
     },
     "metadata": {
      "needs_background": "light"
     },
     "output_type": "display_data"
    },
    {
     "data": {
      "image/png": "[encoded data removed]",
      "text/plain": [
       "<Figure size 432x288 with 1 Axes>"
      ]
     },
     "metadata": {
      "needs_background": "light"
     },
     "output_type": "display_data"
    }
   ],
   "source": [
    "numeric_col = main_df[\"redundancyMeasure\"]\n",
    "sns.boxplot(x=numeric_col)\n",
    "plt.show()\n",
    "\n",
    "outlier_remover_2 = OutlierRemoval(numeric_col.quantile(0.25), numeric_col.quantile(0.75))\n",
    "main_df[\"redundancyMeasure\"] = numeric_col.apply(outlier_remover_2.removeOutlier)\n",
    "\n",
    "sns.boxplot(x=main_df[\"redundancyMeasure\"])\n",
    "plt.show()"
   ]
  },
  {
   "cell_type": "code",
   "execution_count": 47,
   "id": "d066f788",
   "metadata": {
    "scrolled": true
   },
   "outputs": [
    {
     "data": {
      "image/png": "[encoded data removed]",
      "text/plain": [
       "<Figure size 432x288 with 1 Axes>"
      ]
     },
     "metadata": {
      "needs_background": "light"
     },
     "output_type": "display_data"
    },
    {
     "data": {
      "image/png": "[encoded data removed]",
      "text/plain": [
       "<Figure size 432x288 with 1 Axes>"
      ]
     },
     "metadata": {
      "needs_background": "light"
     },
     "output_type": "display_data"
    }
   ],
   "source": [
    "numeric_col = main_df[\"embedRatio\"]\n",
    "sns.boxplot(x=numeric_col)\n",
    "plt.show()\n",
    "\n",
    "outlier_remover_3 = OutlierRemoval(numeric_col.quantile(0.25), numeric_col.quantile(0.75))\n",
    "main_df[\"embedRatio\"] = numeric_col.apply(outlier_remover_3.removeOutlier)\n",
    "\n",
    "sns.boxplot(x=main_df[\"embedRatio\"])\n",
    "plt.show()"
   ]
  },
  {
   "cell_type": "code",
   "execution_count": 48,
   "id": "55a0a700",
   "metadata": {},
   "outputs": [],
   "source": [
    "main_df.drop(axis=\"columns\", labels=\"embedRatio\", inplace=True)"
   ]
  },
  {
   "cell_type": "code",
   "execution_count": 49,
   "id": "5f8b3a57",
   "metadata": {
    "scrolled": true
   },
   "outputs": [
    {
     "data": {
      "image/png": "[encoded data removed]",
      "text/plain": [
       "<Figure size 432x288 with 1 Axes>"
      ]
     },
     "metadata": {
      "needs_background": "light"
     },
     "output_type": "display_data"
    },
    {
     "data": {
      "image/png": "[encoded data removed]",
      "text/plain": [
       "<Figure size 432x288 with 1 Axes>"
      ]
     },
     "metadata": {
      "needs_background": "light"
     },
     "output_type": "display_data"
    }
   ],
   "source": [
    "numeric_col = main_df[\"frameTagRatio\"]\n",
    "sns.boxplot(x=numeric_col)\n",
    "plt.show()\n",
    "\n",
    "outlier_remover_4 = OutlierRemoval(numeric_col.quantile(0.25), numeric_col.quantile(0.75))\n",
    "main_df[\"frameTagRatio\"] = numeric_col.apply(outlier_remover_4.removeOutlier)\n",
    "\n",
    "sns.boxplot(x=main_df[\"frameTagRatio\"])\n",
    "plt.show()"
   ]
  },
  {
   "cell_type": "code",
   "execution_count": 50,
   "id": "04ecf615",
   "metadata": {
    "scrolled": true
   },
   "outputs": [
    {
     "data": {
      "image/png": "[encoded data removed]",
      "text/plain": [
       "<Figure size 432x288 with 1 Axes>"
      ]
     },
     "metadata": {
      "needs_background": "light"
     },
     "output_type": "display_data"
    },
    {
     "data": {
      "image/png": "[encoded data removed]",
      "text/plain": [
       "<Figure size 432x288 with 1 Axes>"
      ]
     },
     "metadata": {
      "needs_background": "light"
     },
     "output_type": "display_data"
    }
   ],
   "source": [
    "numeric_col = main_df[\"tagRatio\"]\n",
    "sns.boxplot(x=numeric_col)\n",
    "plt.show()\n",
    "\n",
    "outlier_remover_5 = OutlierRemoval(numeric_col.quantile(0.25), numeric_col.quantile(0.75))\n",
    "main_df[\"tagRatio\"] = numeric_col.apply(outlier_remover_5.removeOutlier)\n",
    "\n",
    "sns.boxplot(x=main_df[\"tagRatio\"])\n",
    "plt.show()"
   ]
  },
  {
   "cell_type": "code",
   "execution_count": 51,
   "id": "cc377924",
   "metadata": {
    "scrolled": true
   },
   "outputs": [
    {
     "data": {
      "image/png": "[encoded data removed]",
      "text/plain": [
       "<Figure size 432x288 with 1 Axes>"
      ]
     },
     "metadata": {
      "needs_background": "light"
     },
     "output_type": "display_data"
    },
    {
     "data": {
      "image/png": "[encoded data removed]",
      "text/plain": [
       "<Figure size 432x288 with 1 Axes>"
      ]
     },
     "metadata": {
      "needs_background": "light"
     },
     "output_type": "display_data"
    }
   ],
   "source": [
    "numeric_col = main_df[\"imageTagRatio\"]\n",
    "sns.boxplot(x=numeric_col)\n",
    "plt.show()\n",
    "\n",
    "outlier_remover_6 = OutlierRemoval(numeric_col.quantile(0.25), numeric_col.quantile(0.75))\n",
    "main_df[\"imageTagRatio\"] = numeric_col.apply(outlier_remover_6.removeOutlier)\n",
    "\n",
    "sns.boxplot(x=main_df[\"imageTagRatio\"])\n",
    "plt.show()"
   ]
  },
  {
   "cell_type": "code",
   "execution_count": 52,
   "id": "108bdcc6",
   "metadata": {
    "scrolled": true
   },
   "outputs": [
    {
     "data": {
      "image/png": "[encoded data removed]",
      "text/plain": [
       "<Figure size 432x288 with 1 Axes>"
      ]
     },
     "metadata": {
      "needs_background": "light"
     },
     "output_type": "display_data"
    },
    {
     "data": {
      "image/png": "[encoded data removed]",
      "text/plain": [
       "<Figure size 432x288 with 1 Axes>"
      ]
     },
     "metadata": {
      "needs_background": "light"
     },
     "output_type": "display_data"
    }
   ],
   "source": [
    "numeric_col = main_df[\"lengthyDomain\"]\n",
    "sns.boxplot(x=numeric_col)\n",
    "plt.show()\n",
    "\n",
    "outlier_remover_7 = OutlierRemoval(numeric_col.quantile(0.25), numeric_col.quantile(0.75))\n",
    "main_df[\"lengthyDomain\"] = numeric_col.apply(outlier_remover_7.removeOutlier)\n",
    "\n",
    "sns.boxplot(x=main_df[\"lengthyDomain\"])\n",
    "plt.show()"
   ]
  },
  {
   "cell_type": "code",
   "execution_count": 53,
   "id": "ab27ed13",
   "metadata": {
    "scrolled": true
   },
   "outputs": [
    {
     "data": {
      "image/png": "[encoded data removed]",
      "text/plain": [
       "<Figure size 432x288 with 1 Axes>"
      ]
     },
     "metadata": {
      "needs_background": "light"
     },
     "output_type": "display_data"
    },
    {
     "data": {
      "image/png": "[encoded data removed]",
      "text/plain": [
       "<Figure size 432x288 with 1 Axes>"
      ]
     },
     "metadata": {
      "needs_background": "light"
     },
     "output_type": "display_data"
    }
   ],
   "source": [
    "numeric_col = main_df[\"hyperlinkToAllWordsRatio\"]\n",
    "sns.boxplot(x=numeric_col)\n",
    "plt.show()\n",
    "\n",
    "outlier_remover_8 = OutlierRemoval(numeric_col.quantile(0.25), numeric_col.quantile(0.75))\n",
    "main_df[\"hyperlinkToAllWordsRatio\"] = numeric_col.apply(outlier_remover_8.removeOutlier)\n",
    "\n",
    "sns.boxplot(x=main_df[\"hyperlinkToAllWordsRatio\"])\n",
    "plt.show()"
   ]
  },
  {
   "cell_type": "code",
   "execution_count": 54,
   "id": "091e9254",
   "metadata": {
    "scrolled": true
   },
   "outputs": [
    {
     "data": {
      "image/png": "[encoded data removed]",
      "text/plain": [
       "<Figure size 432x288 with 1 Axes>"
      ]
     },
     "metadata": {
      "needs_background": "light"
     },
     "output_type": "display_data"
    },
    {
     "data": {
      "image/png": "[encoded data removed]",
      "text/plain": [
       "<Figure size 432x288 with 1 Axes>"
      ]
     },
     "metadata": {
      "needs_background": "light"
     },
     "output_type": "display_data"
    }
   ],
   "source": [
    "numeric_col = main_df[\"alphanumCharCount\"]\n",
    "sns.boxplot(x=numeric_col)\n",
    "plt.show()\n",
    "\n",
    "outlier_remover_9 = OutlierRemoval(numeric_col.quantile(0.25), numeric_col.quantile(0.75))\n",
    "main_df[\"alphanumCharCount\"] = numeric_col.apply(outlier_remover_9.removeOutlier)\n",
    "\n",
    "sns.boxplot(x=main_df[\"alphanumCharCount\"])\n",
    "plt.show()"
   ]
  },
  {
   "cell_type": "code",
   "execution_count": 55,
   "id": "a9bc3918",
   "metadata": {
    "scrolled": true
   },
   "outputs": [
    {
     "data": {
      "image/png": "[encoded data removed]",
      "text/plain": [
       "<Figure size 432x288 with 1 Axes>"
      ]
     },
     "metadata": {
      "needs_background": "light"
     },
     "output_type": "display_data"
    },
    {
     "data": {
      "image/png": "[encoded data removed]",
      "text/plain": [
       "<Figure size 432x288 with 1 Axes>"
      ]
     },
     "metadata": {
      "needs_background": "light"
     },
     "output_type": "display_data"
    }
   ],
   "source": [
    "numeric_col = main_df[\"linksCount\"]\n",
    "sns.boxplot(x=numeric_col)\n",
    "plt.show()\n",
    "\n",
    "outlier_remover_10 = OutlierRemoval(numeric_col.quantile(0.25), numeric_col.quantile(0.75))\n",
    "main_df[\"linksCount\"] = numeric_col.apply(outlier_remover_10.removeOutlier)\n",
    "\n",
    "sns.boxplot(x=main_df[\"linksCount\"])\n",
    "plt.show()"
   ]
  },
  {
   "cell_type": "code",
   "execution_count": 56,
   "id": "a6edcaf0",
   "metadata": {
    "scrolled": true
   },
   "outputs": [
    {
     "data": {
      "image/png": "[encoded data removed]",
      "text/plain": [
       "<Figure size 432x288 with 1 Axes>"
      ]
     },
     "metadata": {
      "needs_background": "light"
     },
     "output_type": "display_data"
    },
    {
     "data": {
      "image/png": "[encoded data removed]",
      "text/plain": [
       "<Figure size 432x288 with 1 Axes>"
      ]
     },
     "metadata": {
      "needs_background": "light"
     },
     "output_type": "display_data"
    }
   ],
   "source": [
    "numeric_col = main_df[\"wordCount\"]\n",
    "sns.boxplot(x=numeric_col)\n",
    "plt.show()\n",
    "\n",
    "outlier_remover_11 = OutlierRemoval(numeric_col.quantile(0.25), numeric_col.quantile(0.75))\n",
    "main_df[\"wordCount\"] = numeric_col.apply(outlier_remover_11.removeOutlier)\n",
    "\n",
    "sns.boxplot(x=main_df[\"wordCount\"])\n",
    "plt.show()"
   ]
  },
  {
   "cell_type": "code",
   "execution_count": 57,
   "id": "1fefa98b",
   "metadata": {
    "scrolled": true
   },
   "outputs": [
    {
     "data": {
      "image/png": "[encoded data removed]",
      "text/plain": [
       "<Figure size 432x288 with 1 Axes>"
      ]
     },
     "metadata": {
      "needs_background": "light"
     },
     "output_type": "display_data"
    },
    {
     "data": {
      "image/png": "[encoded data removed]",
      "text/plain": [
       "<Figure size 432x288 with 1 Axes>"
      ]
     },
     "metadata": {
      "needs_background": "light"
     },
     "output_type": "display_data"
    }
   ],
   "source": [
    "numeric_col = main_df[\"parametrizedLinkRatio\"]\n",
    "sns.boxplot(x=numeric_col)\n",
    "plt.show()\n",
    "\n",
    "outlier_remover_12 = OutlierRemoval(numeric_col.quantile(0.25), numeric_col.quantile(0.75))\n",
    "main_df[\"parametrizedLinkRatio\"] = numeric_col.apply(outlier_remover_12.removeOutlier)\n",
    "\n",
    "sns.boxplot(x=main_df[\"parametrizedLinkRatio\"])\n",
    "plt.show()"
   ]
  },
  {
   "cell_type": "code",
   "execution_count": 58,
   "id": "69995fca",
   "metadata": {
    "scrolled": true
   },
   "outputs": [
    {
     "data": {
      "image/png": "[encoded data removed]",
      "text/plain": [
       "<Figure size 432x288 with 1 Axes>"
      ]
     },
     "metadata": {
      "needs_background": "light"
     },
     "output_type": "display_data"
    },
    {
     "data": {
      "image/png": "[encoded data removed]",
      "text/plain": [
       "<Figure size 432x288 with 1 Axes>"
      ]
     },
     "metadata": {
      "needs_background": "light"
     },
     "output_type": "display_data"
    }
   ],
   "source": [
    "numeric_col = main_df[\"spellingErrorsRatio\"]\n",
    "sns.boxplot(x=numeric_col)\n",
    "plt.show()\n",
    "\n",
    "outlier_remover_13 = OutlierRemoval(numeric_col.quantile(0.25), numeric_col.quantile(0.75))\n",
    "main_df[\"spellingErrorsRatio\"] = numeric_col.apply(outlier_remover_13.removeOutlier)\n",
    "\n",
    "sns.boxplot(x=main_df[\"spellingErrorsRatio\"])\n",
    "plt.show()"
   ]
  },
  {
   "cell_type": "markdown",
   "id": "c498b407",
   "metadata": {},
   "source": [
    "## 1.4 One-hot encoding"
   ]
  },
  {
   "cell_type": "code",
   "execution_count": 59,
   "id": "09dd6ca8",
   "metadata": {},
   "outputs": [
    {
     "data": {
      "text/plain": [
       "unknown               2348\n",
       "recreation            1229\n",
       "arts_entertainment     941\n",
       "business               880\n",
       "health                 506\n",
       "sports                 380\n",
       "culture_politics       343\n",
       "computer_internet      296\n",
       "science_technology     289\n",
       "gaming                  76\n",
       "religion                72\n",
       "law_crime               31\n",
       "weather                  4\n",
       "Name: alchemy_category, dtype: int64"
      ]
     },
     "execution_count": 59,
     "metadata": {},
     "output_type": "execute_result"
    }
   ],
   "source": [
    "main_df[\"alchemy_category\"].value_counts()"
   ]
  },
  {
   "cell_type": "markdown",
   "id": "0ae14c2f",
   "metadata": {},
   "source": [
    "Alchemy category is one-hot encoded"
   ]
  },
  {
   "cell_type": "code",
   "execution_count": 60,
   "id": "44d1e14c",
   "metadata": {},
   "outputs": [],
   "source": [
    "column_names_to_one_hot = [\"alchemy_category\"]\n",
    "main_df = pd.get_dummies(main_df, columns=column_names_to_one_hot)"
   ]
  },
  {
   "cell_type": "code",
   "execution_count": 61,
   "id": "6b6b93cb",
   "metadata": {},
   "outputs": [
    {
     "data": {
      "text/html": [
       "<div>\n",
       "<style scoped>\n",
       "    .dataframe tbody tr th:only-of-type {\n",
       "        vertical-align: middle;\n",
       "    }\n",
       "\n",
       "    .dataframe tbody tr th {\n",
       "        vertical-align: top;\n",
       "    }\n",
       "\n",
       "    .dataframe thead th {\n",
       "        text-align: right;\n",
       "    }\n",
       "</style>\n",
       "<table border=\"1\" class=\"dataframe\">\n",
       "  <thead>\n",
       "    <tr style=\"text-align: right;\">\n",
       "      <th></th>\n",
       "      <th>url</th>\n",
       "      <th>webpageDescription</th>\n",
       "      <th>alchemy_category_score</th>\n",
       "      <th>avgLinkWordLength</th>\n",
       "      <th>AvglinkWithOneCommonWord</th>\n",
       "      <th>AvglinkWithTwoCommonWord</th>\n",
       "      <th>AvglinkWithThreeCommonWord</th>\n",
       "      <th>AvglinkWithFourCommonWord</th>\n",
       "      <th>redundancyMeasure</th>\n",
       "      <th>frameTagRatio</th>\n",
       "      <th>...</th>\n",
       "      <th>alchemy_category_culture_politics</th>\n",
       "      <th>alchemy_category_gaming</th>\n",
       "      <th>alchemy_category_health</th>\n",
       "      <th>alchemy_category_law_crime</th>\n",
       "      <th>alchemy_category_recreation</th>\n",
       "      <th>alchemy_category_religion</th>\n",
       "      <th>alchemy_category_science_technology</th>\n",
       "      <th>alchemy_category_sports</th>\n",
       "      <th>alchemy_category_unknown</th>\n",
       "      <th>alchemy_category_weather</th>\n",
       "    </tr>\n",
       "  </thead>\n",
       "  <tbody>\n",
       "    <tr>\n",
       "      <th>0</th>\n",
       "      <td>http://www.polyvore.com/cgi/home?id=1389651</td>\n",
       "      <td>{\"title\":\"Join Polyvore and follow the latest ...</td>\n",
       "      <td>1.869397</td>\n",
       "      <td>1.070441</td>\n",
       "      <td>2.850855</td>\n",
       "      <td>0.007905</td>\n",
       "      <td>0.000000</td>\n",
       "      <td>0.000000</td>\n",
       "      <td>0.589894</td>\n",
       "      <td>0.027778</td>\n",
       "      <td>...</td>\n",
       "      <td>0</td>\n",
       "      <td>0</td>\n",
       "      <td>0</td>\n",
       "      <td>0</td>\n",
       "      <td>0</td>\n",
       "      <td>0</td>\n",
       "      <td>0</td>\n",
       "      <td>0</td>\n",
       "      <td>1</td>\n",
       "      <td>0</td>\n",
       "    </tr>\n",
       "    <tr>\n",
       "      <th>1</th>\n",
       "      <td>http://www.youtube.com/watch?v=ippMPPu6gh4</td>\n",
       "      <td>{\"body\":\"Speed Air Man--David Belle david bell...</td>\n",
       "      <td>1.869397</td>\n",
       "      <td>0.814292</td>\n",
       "      <td>3.129977</td>\n",
       "      <td>0.000000</td>\n",
       "      <td>0.000000</td>\n",
       "      <td>0.000000</td>\n",
       "      <td>0.591068</td>\n",
       "      <td>0.015086</td>\n",
       "      <td>...</td>\n",
       "      <td>0</td>\n",
       "      <td>0</td>\n",
       "      <td>0</td>\n",
       "      <td>0</td>\n",
       "      <td>0</td>\n",
       "      <td>0</td>\n",
       "      <td>0</td>\n",
       "      <td>0</td>\n",
       "      <td>1</td>\n",
       "      <td>0</td>\n",
       "    </tr>\n",
       "    <tr>\n",
       "      <th>2</th>\n",
       "      <td>http://www.musingsofahousewife.com/2011/03/tri...</td>\n",
       "      <td>{\"title\":\"Chicken Gruyere Recipe \",\"body\":\"Chi...</td>\n",
       "      <td>1.472093</td>\n",
       "      <td>1.106580</td>\n",
       "      <td>5.105662</td>\n",
       "      <td>0.250017</td>\n",
       "      <td>0.209826</td>\n",
       "      <td>0.184265</td>\n",
       "      <td>0.367008</td>\n",
       "      <td>0.033935</td>\n",
       "      <td>...</td>\n",
       "      <td>0</td>\n",
       "      <td>0</td>\n",
       "      <td>0</td>\n",
       "      <td>0</td>\n",
       "      <td>0</td>\n",
       "      <td>0</td>\n",
       "      <td>1</td>\n",
       "      <td>0</td>\n",
       "      <td>0</td>\n",
       "      <td>0</td>\n",
       "    </tr>\n",
       "    <tr>\n",
       "      <th>3</th>\n",
       "      <td>http://www.thelittleteochew.com/2011/07/ikan-b...</td>\n",
       "      <td>{\"title\":\"Ikan Bilis With Tempeh Groundnuts \",...</td>\n",
       "      <td>1.608077</td>\n",
       "      <td>0.980299</td>\n",
       "      <td>4.135385</td>\n",
       "      <td>0.181739</td>\n",
       "      <td>0.093401</td>\n",
       "      <td>0.064320</td>\n",
       "      <td>0.387063</td>\n",
       "      <td>0.036530</td>\n",
       "      <td>...</td>\n",
       "      <td>0</td>\n",
       "      <td>0</td>\n",
       "      <td>0</td>\n",
       "      <td>0</td>\n",
       "      <td>1</td>\n",
       "      <td>0</td>\n",
       "      <td>0</td>\n",
       "      <td>0</td>\n",
       "      <td>0</td>\n",
       "      <td>0</td>\n",
       "    </tr>\n",
       "    <tr>\n",
       "      <th>4</th>\n",
       "      <td>http://recipes.wuzzle.org/index.php/72</td>\n",
       "      <td>{\"url\":\"recipes wuzzle org index php 72\",\"titl...</td>\n",
       "      <td>1.707464</td>\n",
       "      <td>0.457966</td>\n",
       "      <td>2.818948</td>\n",
       "      <td>0.000000</td>\n",
       "      <td>0.000000</td>\n",
       "      <td>0.000000</td>\n",
       "      <td>0.256666</td>\n",
       "      <td>0.015152</td>\n",
       "      <td>...</td>\n",
       "      <td>0</td>\n",
       "      <td>0</td>\n",
       "      <td>0</td>\n",
       "      <td>0</td>\n",
       "      <td>0</td>\n",
       "      <td>0</td>\n",
       "      <td>0</td>\n",
       "      <td>0</td>\n",
       "      <td>0</td>\n",
       "      <td>0</td>\n",
       "    </tr>\n",
       "  </tbody>\n",
       "</table>\n",
       "<p>5 rows × 36 columns</p>\n",
       "</div>"
      ],
      "text/plain": [
       "                                                 url  \\\n",
       "0        http://www.polyvore.com/cgi/home?id=1389651   \n",
       "1         http://www.youtube.com/watch?v=ippMPPu6gh4   \n",
       "2  http://www.musingsofahousewife.com/2011/03/tri...   \n",
       "3  http://www.thelittleteochew.com/2011/07/ikan-b...   \n",
       "4             http://recipes.wuzzle.org/index.php/72   \n",
       "\n",
       "                                  webpageDescription  alchemy_category_score  \\\n",
       "0  {\"title\":\"Join Polyvore and follow the latest ...                1.869397   \n",
       "1  {\"body\":\"Speed Air Man--David Belle david bell...                1.869397   \n",
       "2  {\"title\":\"Chicken Gruyere Recipe \",\"body\":\"Chi...                1.472093   \n",
       "3  {\"title\":\"Ikan Bilis With Tempeh Groundnuts \",...                1.608077   \n",
       "4  {\"url\":\"recipes wuzzle org index php 72\",\"titl...                1.707464   \n",
       "\n",
       "   avgLinkWordLength  AvglinkWithOneCommonWord  AvglinkWithTwoCommonWord  \\\n",
       "0           1.070441                  2.850855                  0.007905   \n",
       "1           0.814292                  3.129977                  0.000000   \n",
       "2           1.106580                  5.105662                  0.250017   \n",
       "3           0.980299                  4.135385                  0.181739   \n",
       "4           0.457966                  2.818948                  0.000000   \n",
       "\n",
       "   AvglinkWithThreeCommonWord  AvglinkWithFourCommonWord  redundancyMeasure  \\\n",
       "0                    0.000000                   0.000000           0.589894   \n",
       "1                    0.000000                   0.000000           0.591068   \n",
       "2                    0.209826                   0.184265           0.367008   \n",
       "3                    0.093401                   0.064320           0.387063   \n",
       "4                    0.000000                   0.000000           0.256666   \n",
       "\n",
       "   frameTagRatio  ...  alchemy_category_culture_politics  \\\n",
       "0       0.027778  ...                                  0   \n",
       "1       0.015086  ...                                  0   \n",
       "2       0.033935  ...                                  0   \n",
       "3       0.036530  ...                                  0   \n",
       "4       0.015152  ...                                  0   \n",
       "\n",
       "   alchemy_category_gaming alchemy_category_health  \\\n",
       "0                        0                       0   \n",
       "1                        0                       0   \n",
       "2                        0                       0   \n",
       "3                        0                       0   \n",
       "4                        0                       0   \n",
       "\n",
       "   alchemy_category_law_crime  alchemy_category_recreation  \\\n",
       "0                           0                            0   \n",
       "1                           0                            0   \n",
       "2                           0                            0   \n",
       "3                           0                            1   \n",
       "4                           0                            0   \n",
       "\n",
       "   alchemy_category_religion  alchemy_category_science_technology  \\\n",
       "0                          0                                    0   \n",
       "1                          0                                    0   \n",
       "2                          0                                    1   \n",
       "3                          0                                    0   \n",
       "4                          0                                    0   \n",
       "\n",
       "   alchemy_category_sports  alchemy_category_unknown  alchemy_category_weather  \n",
       "0                        0                         1                         0  \n",
       "1                        0                         1                         0  \n",
       "2                        0                         0                         0  \n",
       "3                        0                         0                         0  \n",
       "4                        0                         0                         0  \n",
       "\n",
       "[5 rows x 36 columns]"
      ]
     },
     "execution_count": 61,
     "metadata": {},
     "output_type": "execute_result"
    }
   ],
   "source": [
    "main_df.head()"
   ]
  },
  {
   "cell_type": "markdown",
   "id": "f8629242",
   "metadata": {},
   "source": [
    "## 1.5 Replacing webpageDescription with 2-columns \"body\", \"title\"."
   ]
  },
  {
   "cell_type": "code",
   "execution_count": 62,
   "id": "9970e2ac",
   "metadata": {},
   "outputs": [],
   "source": [
    "col = main_df[\"webpageDescription\"]"
   ]
  },
  {
   "cell_type": "code",
   "execution_count": 63,
   "id": "8b533d24",
   "metadata": {},
   "outputs": [],
   "source": [
    "col_name = \"body\"\n",
    "col = col.to_numpy()"
   ]
  },
  {
   "cell_type": "code",
   "execution_count": 64,
   "id": "8737f0af",
   "metadata": {},
   "outputs": [],
   "source": [
    "col_list = []\n",
    "for i in range(len(col)):\n",
    "    a = json.loads(col[i])\n",
    "    if \"body\" in a.keys() and a[\"body\"]!=' ':\n",
    "        col_list.append(a[\"body\"])\n",
    "    else:\n",
    "        col_list.append(\"Unkonown\")"
   ]
  },
  {
   "cell_type": "code",
   "execution_count": 65,
   "id": "8e73ba99",
   "metadata": {},
   "outputs": [],
   "source": [
    "main_df.insert(1, col_name, col_list)"
   ]
  },
  {
   "cell_type": "code",
   "execution_count": 66,
   "id": "6f8b24e4",
   "metadata": {},
   "outputs": [],
   "source": [
    "col_name = \"title\""
   ]
  },
  {
   "cell_type": "code",
   "execution_count": 67,
   "id": "523d47d7",
   "metadata": {},
   "outputs": [
    {
     "data": {
      "text/plain": [
       "7395"
      ]
     },
     "execution_count": 67,
     "metadata": {},
     "output_type": "execute_result"
    }
   ],
   "source": [
    "col_list_title = []\n",
    "for i in range(len(col)):\n",
    "    a = json.loads(col[i])\n",
    "    if \"title\" in a.keys() and a[\"title\"]!=' ':\n",
    "        col_list_title.append(a[\"title\"])\n",
    "    else:\n",
    "        col_list_title.append(\"Unkonown\")\n",
    "        \n",
    "len(col_list_title)  "
   ]
  },
  {
   "cell_type": "code",
   "execution_count": 68,
   "id": "591ece4d",
   "metadata": {},
   "outputs": [],
   "source": [
    "main_df.insert(1, col_name, col_list_title)"
   ]
  },
  {
   "cell_type": "code",
   "execution_count": 69,
   "id": "5a1a2a98",
   "metadata": {},
   "outputs": [],
   "source": [
    "main_df.drop(axis=\"columns\", labels=\"webpageDescription\", inplace=True)"
   ]
  },
  {
   "cell_type": "code",
   "execution_count": 70,
   "id": "b4fb3851",
   "metadata": {},
   "outputs": [
    {
     "data": {
      "text/html": [
       "<div>\n",
       "<style scoped>\n",
       "    .dataframe tbody tr th:only-of-type {\n",
       "        vertical-align: middle;\n",
       "    }\n",
       "\n",
       "    .dataframe tbody tr th {\n",
       "        vertical-align: top;\n",
       "    }\n",
       "\n",
       "    .dataframe thead th {\n",
       "        text-align: right;\n",
       "    }\n",
       "</style>\n",
       "<table border=\"1\" class=\"dataframe\">\n",
       "  <thead>\n",
       "    <tr style=\"text-align: right;\">\n",
       "      <th></th>\n",
       "      <th>url</th>\n",
       "      <th>title</th>\n",
       "      <th>body</th>\n",
       "      <th>alchemy_category_score</th>\n",
       "      <th>avgLinkWordLength</th>\n",
       "      <th>AvglinkWithOneCommonWord</th>\n",
       "      <th>AvglinkWithTwoCommonWord</th>\n",
       "      <th>AvglinkWithThreeCommonWord</th>\n",
       "      <th>AvglinkWithFourCommonWord</th>\n",
       "      <th>redundancyMeasure</th>\n",
       "      <th>...</th>\n",
       "      <th>alchemy_category_culture_politics</th>\n",
       "      <th>alchemy_category_gaming</th>\n",
       "      <th>alchemy_category_health</th>\n",
       "      <th>alchemy_category_law_crime</th>\n",
       "      <th>alchemy_category_recreation</th>\n",
       "      <th>alchemy_category_religion</th>\n",
       "      <th>alchemy_category_science_technology</th>\n",
       "      <th>alchemy_category_sports</th>\n",
       "      <th>alchemy_category_unknown</th>\n",
       "      <th>alchemy_category_weather</th>\n",
       "    </tr>\n",
       "  </thead>\n",
       "  <tbody>\n",
       "    <tr>\n",
       "      <th>0</th>\n",
       "      <td>http://www.polyvore.com/cgi/home?id=1389651</td>\n",
       "      <td>Join Polyvore and follow the latest styles</td>\n",
       "      <td>polyvore is the best place to discover or sta...</td>\n",
       "      <td>1.869397</td>\n",
       "      <td>1.070441</td>\n",
       "      <td>2.850855</td>\n",
       "      <td>0.007905</td>\n",
       "      <td>0.000000</td>\n",
       "      <td>0.000000</td>\n",
       "      <td>0.589894</td>\n",
       "      <td>...</td>\n",
       "      <td>0</td>\n",
       "      <td>0</td>\n",
       "      <td>0</td>\n",
       "      <td>0</td>\n",
       "      <td>0</td>\n",
       "      <td>0</td>\n",
       "      <td>0</td>\n",
       "      <td>0</td>\n",
       "      <td>1</td>\n",
       "      <td>0</td>\n",
       "    </tr>\n",
       "    <tr>\n",
       "      <th>1</th>\n",
       "      <td>http://www.youtube.com/watch?v=ippMPPu6gh4</td>\n",
       "      <td>Speed Air Man--David Belle</td>\n",
       "      <td>Speed Air Man--David Belle david belle speed a...</td>\n",
       "      <td>1.869397</td>\n",
       "      <td>0.814292</td>\n",
       "      <td>3.129977</td>\n",
       "      <td>0.000000</td>\n",
       "      <td>0.000000</td>\n",
       "      <td>0.000000</td>\n",
       "      <td>0.591068</td>\n",
       "      <td>...</td>\n",
       "      <td>0</td>\n",
       "      <td>0</td>\n",
       "      <td>0</td>\n",
       "      <td>0</td>\n",
       "      <td>0</td>\n",
       "      <td>0</td>\n",
       "      <td>0</td>\n",
       "      <td>0</td>\n",
       "      <td>1</td>\n",
       "      <td>0</td>\n",
       "    </tr>\n",
       "    <tr>\n",
       "      <th>2</th>\n",
       "      <td>http://www.musingsofahousewife.com/2011/03/tri...</td>\n",
       "      <td>Chicken Gruyere Recipe</td>\n",
       "      <td>Chicken Gruyere one of our favorite special di...</td>\n",
       "      <td>1.472093</td>\n",
       "      <td>1.106580</td>\n",
       "      <td>5.105662</td>\n",
       "      <td>0.250017</td>\n",
       "      <td>0.209826</td>\n",
       "      <td>0.184265</td>\n",
       "      <td>0.367008</td>\n",
       "      <td>...</td>\n",
       "      <td>0</td>\n",
       "      <td>0</td>\n",
       "      <td>0</td>\n",
       "      <td>0</td>\n",
       "      <td>0</td>\n",
       "      <td>0</td>\n",
       "      <td>1</td>\n",
       "      <td>0</td>\n",
       "      <td>0</td>\n",
       "      <td>0</td>\n",
       "    </tr>\n",
       "    <tr>\n",
       "      <th>3</th>\n",
       "      <td>http://www.thelittleteochew.com/2011/07/ikan-b...</td>\n",
       "      <td>Ikan Bilis With Tempeh Groundnuts</td>\n",
       "      <td>Oh me oh my This was really snackalicious swee...</td>\n",
       "      <td>1.608077</td>\n",
       "      <td>0.980299</td>\n",
       "      <td>4.135385</td>\n",
       "      <td>0.181739</td>\n",
       "      <td>0.093401</td>\n",
       "      <td>0.064320</td>\n",
       "      <td>0.387063</td>\n",
       "      <td>...</td>\n",
       "      <td>0</td>\n",
       "      <td>0</td>\n",
       "      <td>0</td>\n",
       "      <td>0</td>\n",
       "      <td>1</td>\n",
       "      <td>0</td>\n",
       "      <td>0</td>\n",
       "      <td>0</td>\n",
       "      <td>0</td>\n",
       "      <td>0</td>\n",
       "    </tr>\n",
       "    <tr>\n",
       "      <th>4</th>\n",
       "      <td>http://recipes.wuzzle.org/index.php/72</td>\n",
       "      <td>Malaysian recipes</td>\n",
       "      <td>Barbecued Chicken Chow Siew from The Exotic Ki...</td>\n",
       "      <td>1.707464</td>\n",
       "      <td>0.457966</td>\n",
       "      <td>2.818948</td>\n",
       "      <td>0.000000</td>\n",
       "      <td>0.000000</td>\n",
       "      <td>0.000000</td>\n",
       "      <td>0.256666</td>\n",
       "      <td>...</td>\n",
       "      <td>0</td>\n",
       "      <td>0</td>\n",
       "      <td>0</td>\n",
       "      <td>0</td>\n",
       "      <td>0</td>\n",
       "      <td>0</td>\n",
       "      <td>0</td>\n",
       "      <td>0</td>\n",
       "      <td>0</td>\n",
       "      <td>0</td>\n",
       "    </tr>\n",
       "  </tbody>\n",
       "</table>\n",
       "<p>5 rows × 37 columns</p>\n",
       "</div>"
      ],
      "text/plain": [
       "                                                 url  \\\n",
       "0        http://www.polyvore.com/cgi/home?id=1389651   \n",
       "1         http://www.youtube.com/watch?v=ippMPPu6gh4   \n",
       "2  http://www.musingsofahousewife.com/2011/03/tri...   \n",
       "3  http://www.thelittleteochew.com/2011/07/ikan-b...   \n",
       "4             http://recipes.wuzzle.org/index.php/72   \n",
       "\n",
       "                                         title  \\\n",
       "0  Join Polyvore and follow the latest styles    \n",
       "1                   Speed Air Man--David Belle   \n",
       "2                      Chicken Gruyere Recipe    \n",
       "3           Ikan Bilis With Tempeh Groundnuts    \n",
       "4                           Malaysian recipes    \n",
       "\n",
       "                                                body  alchemy_category_score  \\\n",
       "0   polyvore is the best place to discover or sta...                1.869397   \n",
       "1  Speed Air Man--David Belle david belle speed a...                1.869397   \n",
       "2  Chicken Gruyere one of our favorite special di...                1.472093   \n",
       "3  Oh me oh my This was really snackalicious swee...                1.608077   \n",
       "4  Barbecued Chicken Chow Siew from The Exotic Ki...                1.707464   \n",
       "\n",
       "   avgLinkWordLength  AvglinkWithOneCommonWord  AvglinkWithTwoCommonWord  \\\n",
       "0           1.070441                  2.850855                  0.007905   \n",
       "1           0.814292                  3.129977                  0.000000   \n",
       "2           1.106580                  5.105662                  0.250017   \n",
       "3           0.980299                  4.135385                  0.181739   \n",
       "4           0.457966                  2.818948                  0.000000   \n",
       "\n",
       "   AvglinkWithThreeCommonWord  AvglinkWithFourCommonWord  redundancyMeasure  \\\n",
       "0                    0.000000                   0.000000           0.589894   \n",
       "1                    0.000000                   0.000000           0.591068   \n",
       "2                    0.209826                   0.184265           0.367008   \n",
       "3                    0.093401                   0.064320           0.387063   \n",
       "4                    0.000000                   0.000000           0.256666   \n",
       "\n",
       "   ...  alchemy_category_culture_politics  alchemy_category_gaming  \\\n",
       "0  ...                                  0                        0   \n",
       "1  ...                                  0                        0   \n",
       "2  ...                                  0                        0   \n",
       "3  ...                                  0                        0   \n",
       "4  ...                                  0                        0   \n",
       "\n",
       "   alchemy_category_health alchemy_category_law_crime  \\\n",
       "0                        0                          0   \n",
       "1                        0                          0   \n",
       "2                        0                          0   \n",
       "3                        0                          0   \n",
       "4                        0                          0   \n",
       "\n",
       "   alchemy_category_recreation  alchemy_category_religion  \\\n",
       "0                            0                          0   \n",
       "1                            0                          0   \n",
       "2                            0                          0   \n",
       "3                            1                          0   \n",
       "4                            0                          0   \n",
       "\n",
       "   alchemy_category_science_technology  alchemy_category_sports  \\\n",
       "0                                    0                        0   \n",
       "1                                    0                        0   \n",
       "2                                    1                        0   \n",
       "3                                    0                        0   \n",
       "4                                    0                        0   \n",
       "\n",
       "   alchemy_category_unknown  alchemy_category_weather  \n",
       "0                         1                         0  \n",
       "1                         1                         0  \n",
       "2                         0                         0  \n",
       "3                         0                         0  \n",
       "4                         0                         0  \n",
       "\n",
       "[5 rows x 37 columns]"
      ]
     },
     "execution_count": 70,
     "metadata": {},
     "output_type": "execute_result"
    }
   ],
   "source": [
    "main_df.head()"
   ]
  },
  {
   "cell_type": "markdown",
   "id": "d5055b5d",
   "metadata": {},
   "source": [
    "## 1.6 Modifying url column by deleting symbols and strings which are not useful in predictions."
   ]
  },
  {
   "cell_type": "code",
   "execution_count": 71,
   "id": "da1b312a",
   "metadata": {},
   "outputs": [
    {
     "data": {
      "text/plain": [
       "array(['http://www.polyvore.com/cgi/home?id=1389651',\n",
       "       'http://www.youtube.com/watch?v=ippMPPu6gh4',\n",
       "       'http://www.musingsofahousewife.com/2011/03/tried-and-true-chicken-gruyere.html',\n",
       "       ...,\n",
       "       'http://www.laweekly.com/bestof/2011/award/best-belly-dance-workout-1509632/',\n",
       "       'http://www.kraftrecipes.com/recipes/buffalo-chicken-burgers-118650.aspx?cm_mmc=eml-_-rbe-_-20110526-_-1020',\n",
       "       'http://canarygirl.com/?p=80'], dtype=object)"
      ]
     },
     "execution_count": 71,
     "metadata": {},
     "output_type": "execute_result"
    }
   ],
   "source": [
    "col = main_df[\"url\"]\n",
    "col = col.to_numpy()\n",
    "col"
   ]
  },
  {
   "cell_type": "code",
   "execution_count": 72,
   "id": "549b7118",
   "metadata": {},
   "outputs": [
    {
     "data": {
      "text/plain": [
       "array(['polyvore cgi home id 1389651', 'youtube watch v ippMPPu6gh4',\n",
       "       'musingsofahousewife 2011 03 tried and true chicken gruyere html',\n",
       "       ..., 'laweekly bestof 2011 award best belly dance workout 1509632',\n",
       "       'kraftrecipes recipes buffalo chicken burgers 118650 aspx cm mmc eml rbe 20110526 1020',\n",
       "       'canarygirl p 80'], dtype=object)"
      ]
     },
     "execution_count": 72,
     "metadata": {},
     "output_type": "execute_result"
    }
   ],
   "source": [
    "charlist = ['/','?','=','-','_','&','(',')','@','$','%','#',':',';',\"<\",\">\",\".\"]\n",
    "for i in range(len(col)):\n",
    "    col[i] = col[i].replace('http://', '')\n",
    "    col[i] = col[i].replace('https://', '')\n",
    "    col[i] = col[i].replace('www.','').replace('.com','').replace('.org','')\n",
    "    for j in range(len(charlist)):\n",
    "        col[i] = col[i].replace(charlist[j],' ')\n",
    "    col[i] = \" \".join(col[i].split()) \n",
    "    \n",
    "    \n",
    "col"
   ]
  },
  {
   "cell_type": "code",
   "execution_count": 73,
   "id": "4ee7928d",
   "metadata": {},
   "outputs": [],
   "source": [
    "main_df[\"url\"] = col"
   ]
  },
  {
   "cell_type": "code",
   "execution_count": 74,
   "id": "89816e05",
   "metadata": {},
   "outputs": [
    {
     "data": {
      "text/html": [
       "<div>\n",
       "<style scoped>\n",
       "    .dataframe tbody tr th:only-of-type {\n",
       "        vertical-align: middle;\n",
       "    }\n",
       "\n",
       "    .dataframe tbody tr th {\n",
       "        vertical-align: top;\n",
       "    }\n",
       "\n",
       "    .dataframe thead th {\n",
       "        text-align: right;\n",
       "    }\n",
       "</style>\n",
       "<table border=\"1\" class=\"dataframe\">\n",
       "  <thead>\n",
       "    <tr style=\"text-align: right;\">\n",
       "      <th></th>\n",
       "      <th>url</th>\n",
       "      <th>title</th>\n",
       "      <th>body</th>\n",
       "      <th>alchemy_category_score</th>\n",
       "      <th>avgLinkWordLength</th>\n",
       "      <th>AvglinkWithOneCommonWord</th>\n",
       "      <th>AvglinkWithTwoCommonWord</th>\n",
       "      <th>AvglinkWithThreeCommonWord</th>\n",
       "      <th>AvglinkWithFourCommonWord</th>\n",
       "      <th>redundancyMeasure</th>\n",
       "      <th>...</th>\n",
       "      <th>alchemy_category_culture_politics</th>\n",
       "      <th>alchemy_category_gaming</th>\n",
       "      <th>alchemy_category_health</th>\n",
       "      <th>alchemy_category_law_crime</th>\n",
       "      <th>alchemy_category_recreation</th>\n",
       "      <th>alchemy_category_religion</th>\n",
       "      <th>alchemy_category_science_technology</th>\n",
       "      <th>alchemy_category_sports</th>\n",
       "      <th>alchemy_category_unknown</th>\n",
       "      <th>alchemy_category_weather</th>\n",
       "    </tr>\n",
       "  </thead>\n",
       "  <tbody>\n",
       "    <tr>\n",
       "      <th>0</th>\n",
       "      <td>polyvore cgi home id 1389651</td>\n",
       "      <td>Join Polyvore and follow the latest styles</td>\n",
       "      <td>polyvore is the best place to discover or sta...</td>\n",
       "      <td>1.869397</td>\n",
       "      <td>1.070441</td>\n",
       "      <td>2.850855</td>\n",
       "      <td>0.007905</td>\n",
       "      <td>0.000000</td>\n",
       "      <td>0.000000</td>\n",
       "      <td>0.589894</td>\n",
       "      <td>...</td>\n",
       "      <td>0</td>\n",
       "      <td>0</td>\n",
       "      <td>0</td>\n",
       "      <td>0</td>\n",
       "      <td>0</td>\n",
       "      <td>0</td>\n",
       "      <td>0</td>\n",
       "      <td>0</td>\n",
       "      <td>1</td>\n",
       "      <td>0</td>\n",
       "    </tr>\n",
       "    <tr>\n",
       "      <th>1</th>\n",
       "      <td>youtube watch v ippMPPu6gh4</td>\n",
       "      <td>Speed Air Man--David Belle</td>\n",
       "      <td>Speed Air Man--David Belle david belle speed a...</td>\n",
       "      <td>1.869397</td>\n",
       "      <td>0.814292</td>\n",
       "      <td>3.129977</td>\n",
       "      <td>0.000000</td>\n",
       "      <td>0.000000</td>\n",
       "      <td>0.000000</td>\n",
       "      <td>0.591068</td>\n",
       "      <td>...</td>\n",
       "      <td>0</td>\n",
       "      <td>0</td>\n",
       "      <td>0</td>\n",
       "      <td>0</td>\n",
       "      <td>0</td>\n",
       "      <td>0</td>\n",
       "      <td>0</td>\n",
       "      <td>0</td>\n",
       "      <td>1</td>\n",
       "      <td>0</td>\n",
       "    </tr>\n",
       "    <tr>\n",
       "      <th>2</th>\n",
       "      <td>musingsofahousewife 2011 03 tried and true chi...</td>\n",
       "      <td>Chicken Gruyere Recipe</td>\n",
       "      <td>Chicken Gruyere one of our favorite special di...</td>\n",
       "      <td>1.472093</td>\n",
       "      <td>1.106580</td>\n",
       "      <td>5.105662</td>\n",
       "      <td>0.250017</td>\n",
       "      <td>0.209826</td>\n",
       "      <td>0.184265</td>\n",
       "      <td>0.367008</td>\n",
       "      <td>...</td>\n",
       "      <td>0</td>\n",
       "      <td>0</td>\n",
       "      <td>0</td>\n",
       "      <td>0</td>\n",
       "      <td>0</td>\n",
       "      <td>0</td>\n",
       "      <td>1</td>\n",
       "      <td>0</td>\n",
       "      <td>0</td>\n",
       "      <td>0</td>\n",
       "    </tr>\n",
       "    <tr>\n",
       "      <th>3</th>\n",
       "      <td>thelittleteochew 2011 07 ikan bilis with tempe...</td>\n",
       "      <td>Ikan Bilis With Tempeh Groundnuts</td>\n",
       "      <td>Oh me oh my This was really snackalicious swee...</td>\n",
       "      <td>1.608077</td>\n",
       "      <td>0.980299</td>\n",
       "      <td>4.135385</td>\n",
       "      <td>0.181739</td>\n",
       "      <td>0.093401</td>\n",
       "      <td>0.064320</td>\n",
       "      <td>0.387063</td>\n",
       "      <td>...</td>\n",
       "      <td>0</td>\n",
       "      <td>0</td>\n",
       "      <td>0</td>\n",
       "      <td>0</td>\n",
       "      <td>1</td>\n",
       "      <td>0</td>\n",
       "      <td>0</td>\n",
       "      <td>0</td>\n",
       "      <td>0</td>\n",
       "      <td>0</td>\n",
       "    </tr>\n",
       "    <tr>\n",
       "      <th>4</th>\n",
       "      <td>recipes wuzzle index php 72</td>\n",
       "      <td>Malaysian recipes</td>\n",
       "      <td>Barbecued Chicken Chow Siew from The Exotic Ki...</td>\n",
       "      <td>1.707464</td>\n",
       "      <td>0.457966</td>\n",
       "      <td>2.818948</td>\n",
       "      <td>0.000000</td>\n",
       "      <td>0.000000</td>\n",
       "      <td>0.000000</td>\n",
       "      <td>0.256666</td>\n",
       "      <td>...</td>\n",
       "      <td>0</td>\n",
       "      <td>0</td>\n",
       "      <td>0</td>\n",
       "      <td>0</td>\n",
       "      <td>0</td>\n",
       "      <td>0</td>\n",
       "      <td>0</td>\n",
       "      <td>0</td>\n",
       "      <td>0</td>\n",
       "      <td>0</td>\n",
       "    </tr>\n",
       "    <tr>\n",
       "      <th>...</th>\n",
       "      <td>...</td>\n",
       "      <td>...</td>\n",
       "      <td>...</td>\n",
       "      <td>...</td>\n",
       "      <td>...</td>\n",
       "      <td>...</td>\n",
       "      <td>...</td>\n",
       "      <td>...</td>\n",
       "      <td>...</td>\n",
       "      <td>...</td>\n",
       "      <td>...</td>\n",
       "      <td>...</td>\n",
       "      <td>...</td>\n",
       "      <td>...</td>\n",
       "      <td>...</td>\n",
       "      <td>...</td>\n",
       "      <td>...</td>\n",
       "      <td>...</td>\n",
       "      <td>...</td>\n",
       "      <td>...</td>\n",
       "      <td>...</td>\n",
       "    </tr>\n",
       "    <tr>\n",
       "      <th>1474</th>\n",
       "      <td>lanascooking 2011 07 08 roasted potato salad</td>\n",
       "      <td>Unkonown</td>\n",
       "      <td>Unkonown</td>\n",
       "      <td>1.976679</td>\n",
       "      <td>0.970779</td>\n",
       "      <td>3.925608</td>\n",
       "      <td>0.097638</td>\n",
       "      <td>0.033617</td>\n",
       "      <td>0.016950</td>\n",
       "      <td>0.591068</td>\n",
       "      <td>...</td>\n",
       "      <td>0</td>\n",
       "      <td>0</td>\n",
       "      <td>0</td>\n",
       "      <td>0</td>\n",
       "      <td>0</td>\n",
       "      <td>0</td>\n",
       "      <td>0</td>\n",
       "      <td>0</td>\n",
       "      <td>0</td>\n",
       "      <td>0</td>\n",
       "    </tr>\n",
       "    <tr>\n",
       "      <th>1475</th>\n",
       "      <td>marthastewart 255456 billys chocolate buttercream</td>\n",
       "      <td>Billy s Chocolate Buttercream Martha Stewart R...</td>\n",
       "      <td>Save to your Collections Sorry for the inconve...</td>\n",
       "      <td>1.869397</td>\n",
       "      <td>1.174511</td>\n",
       "      <td>5.348241</td>\n",
       "      <td>0.208901</td>\n",
       "      <td>0.087011</td>\n",
       "      <td>0.020001</td>\n",
       "      <td>0.345951</td>\n",
       "      <td>...</td>\n",
       "      <td>0</td>\n",
       "      <td>0</td>\n",
       "      <td>0</td>\n",
       "      <td>0</td>\n",
       "      <td>0</td>\n",
       "      <td>0</td>\n",
       "      <td>0</td>\n",
       "      <td>0</td>\n",
       "      <td>1</td>\n",
       "      <td>0</td>\n",
       "    </tr>\n",
       "    <tr>\n",
       "      <th>1476</th>\n",
       "      <td>laweekly bestof 2011 award best belly dance wo...</td>\n",
       "      <td>Los Angeles Best Belly Dance Workout Swerve St...</td>\n",
       "      <td>Best Belly Dance Workout 2011 Swerve Studio s ...</td>\n",
       "      <td>2.505420</td>\n",
       "      <td>1.040202</td>\n",
       "      <td>4.538926</td>\n",
       "      <td>0.246225</td>\n",
       "      <td>0.054334</td>\n",
       "      <td>0.020101</td>\n",
       "      <td>0.436514</td>\n",
       "      <td>...</td>\n",
       "      <td>0</td>\n",
       "      <td>0</td>\n",
       "      <td>0</td>\n",
       "      <td>0</td>\n",
       "      <td>0</td>\n",
       "      <td>0</td>\n",
       "      <td>0</td>\n",
       "      <td>0</td>\n",
       "      <td>0</td>\n",
       "      <td>0</td>\n",
       "    </tr>\n",
       "    <tr>\n",
       "      <th>1477</th>\n",
       "      <td>kraftrecipes recipes buffalo chicken burgers 1...</td>\n",
       "      <td>Buffalo Chicken Burgers recipe buffalo chicken...</td>\n",
       "      <td>outerbanxchic posted 10 14 2011 Delicious and ...</td>\n",
       "      <td>1.869397</td>\n",
       "      <td>1.009167</td>\n",
       "      <td>4.754497</td>\n",
       "      <td>0.204794</td>\n",
       "      <td>0.078643</td>\n",
       "      <td>0.018019</td>\n",
       "      <td>0.453249</td>\n",
       "      <td>...</td>\n",
       "      <td>0</td>\n",
       "      <td>0</td>\n",
       "      <td>0</td>\n",
       "      <td>0</td>\n",
       "      <td>0</td>\n",
       "      <td>0</td>\n",
       "      <td>0</td>\n",
       "      <td>0</td>\n",
       "      <td>1</td>\n",
       "      <td>0</td>\n",
       "    </tr>\n",
       "    <tr>\n",
       "      <th>1478</th>\n",
       "      <td>canarygirl p 80</td>\n",
       "      <td>canarygirl com Sirloin with Peppercorn Cream S...</td>\n",
       "      <td>Summer always signifies the beginning of steak...</td>\n",
       "      <td>2.044258</td>\n",
       "      <td>1.105337</td>\n",
       "      <td>4.445692</td>\n",
       "      <td>0.196998</td>\n",
       "      <td>0.031749</td>\n",
       "      <td>0.027835</td>\n",
       "      <td>0.409636</td>\n",
       "      <td>...</td>\n",
       "      <td>0</td>\n",
       "      <td>0</td>\n",
       "      <td>0</td>\n",
       "      <td>0</td>\n",
       "      <td>0</td>\n",
       "      <td>0</td>\n",
       "      <td>0</td>\n",
       "      <td>0</td>\n",
       "      <td>0</td>\n",
       "      <td>0</td>\n",
       "    </tr>\n",
       "  </tbody>\n",
       "</table>\n",
       "<p>7395 rows × 37 columns</p>\n",
       "</div>"
      ],
      "text/plain": [
       "                                                    url  \\\n",
       "0                          polyvore cgi home id 1389651   \n",
       "1                           youtube watch v ippMPPu6gh4   \n",
       "2     musingsofahousewife 2011 03 tried and true chi...   \n",
       "3     thelittleteochew 2011 07 ikan bilis with tempe...   \n",
       "4                           recipes wuzzle index php 72   \n",
       "...                                                 ...   \n",
       "1474       lanascooking 2011 07 08 roasted potato salad   \n",
       "1475  marthastewart 255456 billys chocolate buttercream   \n",
       "1476  laweekly bestof 2011 award best belly dance wo...   \n",
       "1477  kraftrecipes recipes buffalo chicken burgers 1...   \n",
       "1478                                    canarygirl p 80   \n",
       "\n",
       "                                                  title  \\\n",
       "0           Join Polyvore and follow the latest styles    \n",
       "1                            Speed Air Man--David Belle   \n",
       "2                               Chicken Gruyere Recipe    \n",
       "3                    Ikan Bilis With Tempeh Groundnuts    \n",
       "4                                    Malaysian recipes    \n",
       "...                                                 ...   \n",
       "1474                                           Unkonown   \n",
       "1475  Billy s Chocolate Buttercream Martha Stewart R...   \n",
       "1476  Los Angeles Best Belly Dance Workout Swerve St...   \n",
       "1477  Buffalo Chicken Burgers recipe buffalo chicken...   \n",
       "1478  canarygirl com Sirloin with Peppercorn Cream S...   \n",
       "\n",
       "                                                   body  \\\n",
       "0      polyvore is the best place to discover or sta...   \n",
       "1     Speed Air Man--David Belle david belle speed a...   \n",
       "2     Chicken Gruyere one of our favorite special di...   \n",
       "3     Oh me oh my This was really snackalicious swee...   \n",
       "4     Barbecued Chicken Chow Siew from The Exotic Ki...   \n",
       "...                                                 ...   \n",
       "1474                                           Unkonown   \n",
       "1475  Save to your Collections Sorry for the inconve...   \n",
       "1476  Best Belly Dance Workout 2011 Swerve Studio s ...   \n",
       "1477  outerbanxchic posted 10 14 2011 Delicious and ...   \n",
       "1478  Summer always signifies the beginning of steak...   \n",
       "\n",
       "      alchemy_category_score  avgLinkWordLength  AvglinkWithOneCommonWord  \\\n",
       "0                   1.869397           1.070441                  2.850855   \n",
       "1                   1.869397           0.814292                  3.129977   \n",
       "2                   1.472093           1.106580                  5.105662   \n",
       "3                   1.608077           0.980299                  4.135385   \n",
       "4                   1.707464           0.457966                  2.818948   \n",
       "...                      ...                ...                       ...   \n",
       "1474                1.976679           0.970779                  3.925608   \n",
       "1475                1.869397           1.174511                  5.348241   \n",
       "1476                2.505420           1.040202                  4.538926   \n",
       "1477                1.869397           1.009167                  4.754497   \n",
       "1478                2.044258           1.105337                  4.445692   \n",
       "\n",
       "      AvglinkWithTwoCommonWord  AvglinkWithThreeCommonWord  \\\n",
       "0                     0.007905                    0.000000   \n",
       "1                     0.000000                    0.000000   \n",
       "2                     0.250017                    0.209826   \n",
       "3                     0.181739                    0.093401   \n",
       "4                     0.000000                    0.000000   \n",
       "...                        ...                         ...   \n",
       "1474                  0.097638                    0.033617   \n",
       "1475                  0.208901                    0.087011   \n",
       "1476                  0.246225                    0.054334   \n",
       "1477                  0.204794                    0.078643   \n",
       "1478                  0.196998                    0.031749   \n",
       "\n",
       "      AvglinkWithFourCommonWord  redundancyMeasure  ...  \\\n",
       "0                      0.000000           0.589894  ...   \n",
       "1                      0.000000           0.591068  ...   \n",
       "2                      0.184265           0.367008  ...   \n",
       "3                      0.064320           0.387063  ...   \n",
       "4                      0.000000           0.256666  ...   \n",
       "...                         ...                ...  ...   \n",
       "1474                   0.016950           0.591068  ...   \n",
       "1475                   0.020001           0.345951  ...   \n",
       "1476                   0.020101           0.436514  ...   \n",
       "1477                   0.018019           0.453249  ...   \n",
       "1478                   0.027835           0.409636  ...   \n",
       "\n",
       "      alchemy_category_culture_politics  alchemy_category_gaming  \\\n",
       "0                                     0                        0   \n",
       "1                                     0                        0   \n",
       "2                                     0                        0   \n",
       "3                                     0                        0   \n",
       "4                                     0                        0   \n",
       "...                                 ...                      ...   \n",
       "1474                                  0                        0   \n",
       "1475                                  0                        0   \n",
       "1476                                  0                        0   \n",
       "1477                                  0                        0   \n",
       "1478                                  0                        0   \n",
       "\n",
       "      alchemy_category_health alchemy_category_law_crime  \\\n",
       "0                           0                          0   \n",
       "1                           0                          0   \n",
       "2                           0                          0   \n",
       "3                           0                          0   \n",
       "4                           0                          0   \n",
       "...                       ...                        ...   \n",
       "1474                        0                          0   \n",
       "1475                        0                          0   \n",
       "1476                        0                          0   \n",
       "1477                        0                          0   \n",
       "1478                        0                          0   \n",
       "\n",
       "      alchemy_category_recreation  alchemy_category_religion  \\\n",
       "0                               0                          0   \n",
       "1                               0                          0   \n",
       "2                               0                          0   \n",
       "3                               1                          0   \n",
       "4                               0                          0   \n",
       "...                           ...                        ...   \n",
       "1474                            0                          0   \n",
       "1475                            0                          0   \n",
       "1476                            0                          0   \n",
       "1477                            0                          0   \n",
       "1478                            0                          0   \n",
       "\n",
       "      alchemy_category_science_technology  alchemy_category_sports  \\\n",
       "0                                       0                        0   \n",
       "1                                       0                        0   \n",
       "2                                       1                        0   \n",
       "3                                       0                        0   \n",
       "4                                       0                        0   \n",
       "...                                   ...                      ...   \n",
       "1474                                    0                        0   \n",
       "1475                                    0                        0   \n",
       "1476                                    0                        0   \n",
       "1477                                    0                        0   \n",
       "1478                                    0                        0   \n",
       "\n",
       "      alchemy_category_unknown  alchemy_category_weather  \n",
       "0                            1                         0  \n",
       "1                            1                         0  \n",
       "2                            0                         0  \n",
       "3                            0                         0  \n",
       "4                            0                         0  \n",
       "...                        ...                       ...  \n",
       "1474                         0                         0  \n",
       "1475                         1                         0  \n",
       "1476                         0                         0  \n",
       "1477                         1                         0  \n",
       "1478                         0                         0  \n",
       "\n",
       "[7395 rows x 37 columns]"
      ]
     },
     "execution_count": 74,
     "metadata": {},
     "output_type": "execute_result"
    }
   ],
   "source": [
    "main_df"
   ]
  },
  {
   "cell_type": "markdown",
   "id": "22311081",
   "metadata": {},
   "source": [
    "## 1.7 Removing null values in title and body columns."
   ]
  },
  {
   "cell_type": "code",
   "execution_count": 75,
   "id": "4d15a731",
   "metadata": {},
   "outputs": [
    {
     "data": {
      "text/plain": [
       "url                                       0\n",
       "title                                    12\n",
       "body                                     57\n",
       "alchemy_category_score                    0\n",
       "avgLinkWordLength                         0\n",
       "AvglinkWithOneCommonWord                  0\n",
       "AvglinkWithTwoCommonWord                  0\n",
       "AvglinkWithThreeCommonWord                0\n",
       "AvglinkWithFourCommonWord                 0\n",
       "redundancyMeasure                         0\n",
       "frameTagRatio                             0\n",
       "tagRatio                                  0\n",
       "imageTagRatio                             0\n",
       "isNews                                    0\n",
       "lengthyDomain                             0\n",
       "hyperlinkToAllWordsRatio                  0\n",
       "isFrontPageNews                           0\n",
       "alphanumCharCount                         0\n",
       "linksCount                                0\n",
       "wordCount                                 0\n",
       "parametrizedLinkRatio                     0\n",
       "spellingErrorsRatio                       0\n",
       "label                                  1479\n",
       "id                                        0\n",
       "alchemy_category_arts_entertainment       0\n",
       "alchemy_category_business                 0\n",
       "alchemy_category_computer_internet        0\n",
       "alchemy_category_culture_politics         0\n",
       "alchemy_category_gaming                   0\n",
       "alchemy_category_health                   0\n",
       "alchemy_category_law_crime                0\n",
       "alchemy_category_recreation               0\n",
       "alchemy_category_religion                 0\n",
       "alchemy_category_science_technology       0\n",
       "alchemy_category_sports                   0\n",
       "alchemy_category_unknown                  0\n",
       "alchemy_category_weather                  0\n",
       "dtype: int64"
      ]
     },
     "execution_count": 75,
     "metadata": {},
     "output_type": "execute_result"
    }
   ],
   "source": [
    "main_df.isna().sum()"
   ]
  },
  {
   "cell_type": "code",
   "execution_count": 76,
   "id": "c9518c66",
   "metadata": {},
   "outputs": [],
   "source": [
    "main_df[\"title\"].fillna(\"Unknown\", inplace=True)\n",
    "main_df[\"body\"].fillna(\"Unknown\", inplace=True)"
   ]
  },
  {
   "cell_type": "code",
   "execution_count": 77,
   "id": "e40bdc05",
   "metadata": {},
   "outputs": [
    {
     "data": {
      "text/plain": [
       "url                                       0\n",
       "title                                     0\n",
       "body                                      0\n",
       "alchemy_category_score                    0\n",
       "avgLinkWordLength                         0\n",
       "AvglinkWithOneCommonWord                  0\n",
       "AvglinkWithTwoCommonWord                  0\n",
       "AvglinkWithThreeCommonWord                0\n",
       "AvglinkWithFourCommonWord                 0\n",
       "redundancyMeasure                         0\n",
       "frameTagRatio                             0\n",
       "tagRatio                                  0\n",
       "imageTagRatio                             0\n",
       "isNews                                    0\n",
       "lengthyDomain                             0\n",
       "hyperlinkToAllWordsRatio                  0\n",
       "isFrontPageNews                           0\n",
       "alphanumCharCount                         0\n",
       "linksCount                                0\n",
       "wordCount                                 0\n",
       "parametrizedLinkRatio                     0\n",
       "spellingErrorsRatio                       0\n",
       "label                                  1479\n",
       "id                                        0\n",
       "alchemy_category_arts_entertainment       0\n",
       "alchemy_category_business                 0\n",
       "alchemy_category_computer_internet        0\n",
       "alchemy_category_culture_politics         0\n",
       "alchemy_category_gaming                   0\n",
       "alchemy_category_health                   0\n",
       "alchemy_category_law_crime                0\n",
       "alchemy_category_recreation               0\n",
       "alchemy_category_religion                 0\n",
       "alchemy_category_science_technology       0\n",
       "alchemy_category_sports                   0\n",
       "alchemy_category_unknown                  0\n",
       "alchemy_category_weather                  0\n",
       "dtype: int64"
      ]
     },
     "execution_count": 77,
     "metadata": {},
     "output_type": "execute_result"
    }
   ],
   "source": [
    "main_df.isna().sum()"
   ]
  },
  {
   "cell_type": "markdown",
   "id": "37921cce",
   "metadata": {},
   "source": [
    "## 1.8 NLP "
   ]
  },
  {
   "cell_type": "markdown",
   "id": "6c967fcb",
   "metadata": {},
   "source": [
    "### 1.8.1. Removing Punctuations"
   ]
  },
  {
   "cell_type": "code",
   "execution_count": 78,
   "id": "ccfaedbd",
   "metadata": {},
   "outputs": [],
   "source": [
    "def remove_punct(text):\n",
    "    text_nopunct = \"\".join([c for c in text if c not in string.punctuation])\n",
    "    return text_nopunct\n",
    "\n",
    "body = main_df[\"body\"].to_numpy()\n",
    "body_chan = []\n",
    "for i in range(len(body)):\n",
    "    body[i] = body[i].strip()\n",
    "    body_chan.append( remove_punct(body[i]))\n",
    "    \n",
    "main_df[\"body\"] = body_chan\n"
   ]
  },
  {
   "cell_type": "code",
   "execution_count": 79,
   "id": "26b1baf2",
   "metadata": {},
   "outputs": [],
   "source": [
    "body = main_df[\"title\"].to_numpy()\n",
    "body_chan = []\n",
    "for i in range(len(body)):\n",
    "    body[i] = body[i].strip()\n",
    "    body_chan.append( remove_punct(body[i]))\n",
    "    \n",
    "main_df[\"title\"] = body_chan"
   ]
  },
  {
   "cell_type": "code",
   "execution_count": 80,
   "id": "16e5fee9",
   "metadata": {},
   "outputs": [],
   "source": [
    "body = main_df[\"url\"].to_numpy()\n",
    "body_chan = []\n",
    "for i in range(len(body)):\n",
    "    body[i] = body[i].strip()\n",
    "    body_chan.append( remove_punct(body[i]))\n",
    "    \n",
    "main_df[\"url\"] = body_chan"
   ]
  },
  {
   "cell_type": "code",
   "execution_count": 81,
   "id": "c2e8ac2e",
   "metadata": {},
   "outputs": [
    {
     "data": {
      "text/html": [
       "<div>\n",
       "<style scoped>\n",
       "    .dataframe tbody tr th:only-of-type {\n",
       "        vertical-align: middle;\n",
       "    }\n",
       "\n",
       "    .dataframe tbody tr th {\n",
       "        vertical-align: top;\n",
       "    }\n",
       "\n",
       "    .dataframe thead th {\n",
       "        text-align: right;\n",
       "    }\n",
       "</style>\n",
       "<table border=\"1\" class=\"dataframe\">\n",
       "  <thead>\n",
       "    <tr style=\"text-align: right;\">\n",
       "      <th></th>\n",
       "      <th>url</th>\n",
       "      <th>title</th>\n",
       "      <th>body</th>\n",
       "      <th>alchemy_category_score</th>\n",
       "      <th>avgLinkWordLength</th>\n",
       "      <th>AvglinkWithOneCommonWord</th>\n",
       "      <th>AvglinkWithTwoCommonWord</th>\n",
       "      <th>AvglinkWithThreeCommonWord</th>\n",
       "      <th>AvglinkWithFourCommonWord</th>\n",
       "      <th>redundancyMeasure</th>\n",
       "      <th>...</th>\n",
       "      <th>alchemy_category_culture_politics</th>\n",
       "      <th>alchemy_category_gaming</th>\n",
       "      <th>alchemy_category_health</th>\n",
       "      <th>alchemy_category_law_crime</th>\n",
       "      <th>alchemy_category_recreation</th>\n",
       "      <th>alchemy_category_religion</th>\n",
       "      <th>alchemy_category_science_technology</th>\n",
       "      <th>alchemy_category_sports</th>\n",
       "      <th>alchemy_category_unknown</th>\n",
       "      <th>alchemy_category_weather</th>\n",
       "    </tr>\n",
       "  </thead>\n",
       "  <tbody>\n",
       "    <tr>\n",
       "      <th>0</th>\n",
       "      <td>polyvore cgi home id 1389651</td>\n",
       "      <td>Join Polyvore and follow the latest styles</td>\n",
       "      <td>polyvore is the best place to discover or star...</td>\n",
       "      <td>1.869397</td>\n",
       "      <td>1.070441</td>\n",
       "      <td>2.850855</td>\n",
       "      <td>0.007905</td>\n",
       "      <td>0.000000</td>\n",
       "      <td>0.000000</td>\n",
       "      <td>0.589894</td>\n",
       "      <td>...</td>\n",
       "      <td>0</td>\n",
       "      <td>0</td>\n",
       "      <td>0</td>\n",
       "      <td>0</td>\n",
       "      <td>0</td>\n",
       "      <td>0</td>\n",
       "      <td>0</td>\n",
       "      <td>0</td>\n",
       "      <td>1</td>\n",
       "      <td>0</td>\n",
       "    </tr>\n",
       "    <tr>\n",
       "      <th>1</th>\n",
       "      <td>youtube watch v ippMPPu6gh4</td>\n",
       "      <td>Speed Air ManDavid Belle</td>\n",
       "      <td>Speed Air ManDavid Belle david belle speed air...</td>\n",
       "      <td>1.869397</td>\n",
       "      <td>0.814292</td>\n",
       "      <td>3.129977</td>\n",
       "      <td>0.000000</td>\n",
       "      <td>0.000000</td>\n",
       "      <td>0.000000</td>\n",
       "      <td>0.591068</td>\n",
       "      <td>...</td>\n",
       "      <td>0</td>\n",
       "      <td>0</td>\n",
       "      <td>0</td>\n",
       "      <td>0</td>\n",
       "      <td>0</td>\n",
       "      <td>0</td>\n",
       "      <td>0</td>\n",
       "      <td>0</td>\n",
       "      <td>1</td>\n",
       "      <td>0</td>\n",
       "    </tr>\n",
       "    <tr>\n",
       "      <th>2</th>\n",
       "      <td>musingsofahousewife 2011 03 tried and true chi...</td>\n",
       "      <td>Chicken Gruyere Recipe</td>\n",
       "      <td>Chicken Gruyere one of our favorite special di...</td>\n",
       "      <td>1.472093</td>\n",
       "      <td>1.106580</td>\n",
       "      <td>5.105662</td>\n",
       "      <td>0.250017</td>\n",
       "      <td>0.209826</td>\n",
       "      <td>0.184265</td>\n",
       "      <td>0.367008</td>\n",
       "      <td>...</td>\n",
       "      <td>0</td>\n",
       "      <td>0</td>\n",
       "      <td>0</td>\n",
       "      <td>0</td>\n",
       "      <td>0</td>\n",
       "      <td>0</td>\n",
       "      <td>1</td>\n",
       "      <td>0</td>\n",
       "      <td>0</td>\n",
       "      <td>0</td>\n",
       "    </tr>\n",
       "    <tr>\n",
       "      <th>3</th>\n",
       "      <td>thelittleteochew 2011 07 ikan bilis with tempe...</td>\n",
       "      <td>Ikan Bilis With Tempeh Groundnuts</td>\n",
       "      <td>Oh me oh my This was really snackalicious swee...</td>\n",
       "      <td>1.608077</td>\n",
       "      <td>0.980299</td>\n",
       "      <td>4.135385</td>\n",
       "      <td>0.181739</td>\n",
       "      <td>0.093401</td>\n",
       "      <td>0.064320</td>\n",
       "      <td>0.387063</td>\n",
       "      <td>...</td>\n",
       "      <td>0</td>\n",
       "      <td>0</td>\n",
       "      <td>0</td>\n",
       "      <td>0</td>\n",
       "      <td>1</td>\n",
       "      <td>0</td>\n",
       "      <td>0</td>\n",
       "      <td>0</td>\n",
       "      <td>0</td>\n",
       "      <td>0</td>\n",
       "    </tr>\n",
       "    <tr>\n",
       "      <th>4</th>\n",
       "      <td>recipes wuzzle index php 72</td>\n",
       "      <td>Malaysian recipes</td>\n",
       "      <td>Barbecued Chicken Chow Siew from The Exotic Ki...</td>\n",
       "      <td>1.707464</td>\n",
       "      <td>0.457966</td>\n",
       "      <td>2.818948</td>\n",
       "      <td>0.000000</td>\n",
       "      <td>0.000000</td>\n",
       "      <td>0.000000</td>\n",
       "      <td>0.256666</td>\n",
       "      <td>...</td>\n",
       "      <td>0</td>\n",
       "      <td>0</td>\n",
       "      <td>0</td>\n",
       "      <td>0</td>\n",
       "      <td>0</td>\n",
       "      <td>0</td>\n",
       "      <td>0</td>\n",
       "      <td>0</td>\n",
       "      <td>0</td>\n",
       "      <td>0</td>\n",
       "    </tr>\n",
       "  </tbody>\n",
       "</table>\n",
       "<p>5 rows × 37 columns</p>\n",
       "</div>"
      ],
      "text/plain": [
       "                                                 url  \\\n",
       "0                       polyvore cgi home id 1389651   \n",
       "1                        youtube watch v ippMPPu6gh4   \n",
       "2  musingsofahousewife 2011 03 tried and true chi...   \n",
       "3  thelittleteochew 2011 07 ikan bilis with tempe...   \n",
       "4                        recipes wuzzle index php 72   \n",
       "\n",
       "                                        title  \\\n",
       "0  Join Polyvore and follow the latest styles   \n",
       "1                    Speed Air ManDavid Belle   \n",
       "2                      Chicken Gruyere Recipe   \n",
       "3           Ikan Bilis With Tempeh Groundnuts   \n",
       "4                           Malaysian recipes   \n",
       "\n",
       "                                                body  alchemy_category_score  \\\n",
       "0  polyvore is the best place to discover or star...                1.869397   \n",
       "1  Speed Air ManDavid Belle david belle speed air...                1.869397   \n",
       "2  Chicken Gruyere one of our favorite special di...                1.472093   \n",
       "3  Oh me oh my This was really snackalicious swee...                1.608077   \n",
       "4  Barbecued Chicken Chow Siew from The Exotic Ki...                1.707464   \n",
       "\n",
       "   avgLinkWordLength  AvglinkWithOneCommonWord  AvglinkWithTwoCommonWord  \\\n",
       "0           1.070441                  2.850855                  0.007905   \n",
       "1           0.814292                  3.129977                  0.000000   \n",
       "2           1.106580                  5.105662                  0.250017   \n",
       "3           0.980299                  4.135385                  0.181739   \n",
       "4           0.457966                  2.818948                  0.000000   \n",
       "\n",
       "   AvglinkWithThreeCommonWord  AvglinkWithFourCommonWord  redundancyMeasure  \\\n",
       "0                    0.000000                   0.000000           0.589894   \n",
       "1                    0.000000                   0.000000           0.591068   \n",
       "2                    0.209826                   0.184265           0.367008   \n",
       "3                    0.093401                   0.064320           0.387063   \n",
       "4                    0.000000                   0.000000           0.256666   \n",
       "\n",
       "   ...  alchemy_category_culture_politics  alchemy_category_gaming  \\\n",
       "0  ...                                  0                        0   \n",
       "1  ...                                  0                        0   \n",
       "2  ...                                  0                        0   \n",
       "3  ...                                  0                        0   \n",
       "4  ...                                  0                        0   \n",
       "\n",
       "   alchemy_category_health alchemy_category_law_crime  \\\n",
       "0                        0                          0   \n",
       "1                        0                          0   \n",
       "2                        0                          0   \n",
       "3                        0                          0   \n",
       "4                        0                          0   \n",
       "\n",
       "   alchemy_category_recreation  alchemy_category_religion  \\\n",
       "0                            0                          0   \n",
       "1                            0                          0   \n",
       "2                            0                          0   \n",
       "3                            1                          0   \n",
       "4                            0                          0   \n",
       "\n",
       "   alchemy_category_science_technology  alchemy_category_sports  \\\n",
       "0                                    0                        0   \n",
       "1                                    0                        0   \n",
       "2                                    1                        0   \n",
       "3                                    0                        0   \n",
       "4                                    0                        0   \n",
       "\n",
       "   alchemy_category_unknown  alchemy_category_weather  \n",
       "0                         1                         0  \n",
       "1                         1                         0  \n",
       "2                         0                         0  \n",
       "3                         0                         0  \n",
       "4                         0                         0  \n",
       "\n",
       "[5 rows x 37 columns]"
      ]
     },
     "execution_count": 81,
     "metadata": {},
     "output_type": "execute_result"
    }
   ],
   "source": [
    "main_df.head()"
   ]
  },
  {
   "cell_type": "markdown",
   "id": "994d9cde",
   "metadata": {},
   "source": [
    "### 1.8.2. Tokenization"
   ]
  },
  {
   "cell_type": "code",
   "execution_count": 82,
   "id": "f226cff8",
   "metadata": {},
   "outputs": [],
   "source": [
    "def tokenize(text):\n",
    "    tokens = re.split('\\W+',text)\n",
    "    return tokens\n",
    "\n",
    "token_change = []\n",
    "tok = main_df[\"body\"].to_numpy()\n",
    "for i in range(len(tok)):\n",
    "    token_change.append(tokenize(tok[i]))\n",
    "    \n",
    "main_df[\"body\"] = token_change  "
   ]
  },
  {
   "cell_type": "code",
   "execution_count": 83,
   "id": "74762887",
   "metadata": {},
   "outputs": [],
   "source": [
    "token_change = []\n",
    "tok = main_df[\"title\"].to_numpy()\n",
    "for i in range(len(tok)):\n",
    "    token_change.append(tokenize(tok[i]))\n",
    "    \n",
    "main_df[\"title\"] = token_change  "
   ]
  },
  {
   "cell_type": "code",
   "execution_count": 84,
   "id": "007b58f4",
   "metadata": {},
   "outputs": [],
   "source": [
    "token_change = []\n",
    "tok = main_df[\"url\"].to_numpy()\n",
    "for i in range(len(tok)):\n",
    "    token_change.append(tokenize(tok[i]))\n",
    "    \n",
    "main_df[\"url\"] = token_change  "
   ]
  },
  {
   "cell_type": "code",
   "execution_count": 85,
   "id": "112f62a5",
   "metadata": {},
   "outputs": [
    {
     "data": {
      "text/html": [
       "<div>\n",
       "<style scoped>\n",
       "    .dataframe tbody tr th:only-of-type {\n",
       "        vertical-align: middle;\n",
       "    }\n",
       "\n",
       "    .dataframe tbody tr th {\n",
       "        vertical-align: top;\n",
       "    }\n",
       "\n",
       "    .dataframe thead th {\n",
       "        text-align: right;\n",
       "    }\n",
       "</style>\n",
       "<table border=\"1\" class=\"dataframe\">\n",
       "  <thead>\n",
       "    <tr style=\"text-align: right;\">\n",
       "      <th></th>\n",
       "      <th>url</th>\n",
       "      <th>title</th>\n",
       "      <th>body</th>\n",
       "      <th>alchemy_category_score</th>\n",
       "      <th>avgLinkWordLength</th>\n",
       "      <th>AvglinkWithOneCommonWord</th>\n",
       "      <th>AvglinkWithTwoCommonWord</th>\n",
       "      <th>AvglinkWithThreeCommonWord</th>\n",
       "      <th>AvglinkWithFourCommonWord</th>\n",
       "      <th>redundancyMeasure</th>\n",
       "      <th>...</th>\n",
       "      <th>alchemy_category_culture_politics</th>\n",
       "      <th>alchemy_category_gaming</th>\n",
       "      <th>alchemy_category_health</th>\n",
       "      <th>alchemy_category_law_crime</th>\n",
       "      <th>alchemy_category_recreation</th>\n",
       "      <th>alchemy_category_religion</th>\n",
       "      <th>alchemy_category_science_technology</th>\n",
       "      <th>alchemy_category_sports</th>\n",
       "      <th>alchemy_category_unknown</th>\n",
       "      <th>alchemy_category_weather</th>\n",
       "    </tr>\n",
       "  </thead>\n",
       "  <tbody>\n",
       "    <tr>\n",
       "      <th>0</th>\n",
       "      <td>[polyvore, cgi, home, id, 1389651]</td>\n",
       "      <td>[Join, Polyvore, and, follow, the, latest, sty...</td>\n",
       "      <td>[polyvore, is, the, best, place, to, discover,...</td>\n",
       "      <td>1.869397</td>\n",
       "      <td>1.070441</td>\n",
       "      <td>2.850855</td>\n",
       "      <td>0.007905</td>\n",
       "      <td>0.000000</td>\n",
       "      <td>0.000000</td>\n",
       "      <td>0.589894</td>\n",
       "      <td>...</td>\n",
       "      <td>0</td>\n",
       "      <td>0</td>\n",
       "      <td>0</td>\n",
       "      <td>0</td>\n",
       "      <td>0</td>\n",
       "      <td>0</td>\n",
       "      <td>0</td>\n",
       "      <td>0</td>\n",
       "      <td>1</td>\n",
       "      <td>0</td>\n",
       "    </tr>\n",
       "    <tr>\n",
       "      <th>1</th>\n",
       "      <td>[youtube, watch, v, ippMPPu6gh4]</td>\n",
       "      <td>[Speed, Air, ManDavid, Belle]</td>\n",
       "      <td>[Speed, Air, ManDavid, Belle, david, belle, sp...</td>\n",
       "      <td>1.869397</td>\n",
       "      <td>0.814292</td>\n",
       "      <td>3.129977</td>\n",
       "      <td>0.000000</td>\n",
       "      <td>0.000000</td>\n",
       "      <td>0.000000</td>\n",
       "      <td>0.591068</td>\n",
       "      <td>...</td>\n",
       "      <td>0</td>\n",
       "      <td>0</td>\n",
       "      <td>0</td>\n",
       "      <td>0</td>\n",
       "      <td>0</td>\n",
       "      <td>0</td>\n",
       "      <td>0</td>\n",
       "      <td>0</td>\n",
       "      <td>1</td>\n",
       "      <td>0</td>\n",
       "    </tr>\n",
       "    <tr>\n",
       "      <th>2</th>\n",
       "      <td>[musingsofahousewife, 2011, 03, tried, and, tr...</td>\n",
       "      <td>[Chicken, Gruyere, Recipe]</td>\n",
       "      <td>[Chicken, Gruyere, one, of, our, favorite, spe...</td>\n",
       "      <td>1.472093</td>\n",
       "      <td>1.106580</td>\n",
       "      <td>5.105662</td>\n",
       "      <td>0.250017</td>\n",
       "      <td>0.209826</td>\n",
       "      <td>0.184265</td>\n",
       "      <td>0.367008</td>\n",
       "      <td>...</td>\n",
       "      <td>0</td>\n",
       "      <td>0</td>\n",
       "      <td>0</td>\n",
       "      <td>0</td>\n",
       "      <td>0</td>\n",
       "      <td>0</td>\n",
       "      <td>1</td>\n",
       "      <td>0</td>\n",
       "      <td>0</td>\n",
       "      <td>0</td>\n",
       "    </tr>\n",
       "    <tr>\n",
       "      <th>3</th>\n",
       "      <td>[thelittleteochew, 2011, 07, ikan, bilis, with...</td>\n",
       "      <td>[Ikan, Bilis, With, Tempeh, Groundnuts]</td>\n",
       "      <td>[Oh, me, oh, my, This, was, really, snackalici...</td>\n",
       "      <td>1.608077</td>\n",
       "      <td>0.980299</td>\n",
       "      <td>4.135385</td>\n",
       "      <td>0.181739</td>\n",
       "      <td>0.093401</td>\n",
       "      <td>0.064320</td>\n",
       "      <td>0.387063</td>\n",
       "      <td>...</td>\n",
       "      <td>0</td>\n",
       "      <td>0</td>\n",
       "      <td>0</td>\n",
       "      <td>0</td>\n",
       "      <td>1</td>\n",
       "      <td>0</td>\n",
       "      <td>0</td>\n",
       "      <td>0</td>\n",
       "      <td>0</td>\n",
       "      <td>0</td>\n",
       "    </tr>\n",
       "    <tr>\n",
       "      <th>4</th>\n",
       "      <td>[recipes, wuzzle, index, php, 72]</td>\n",
       "      <td>[Malaysian, recipes]</td>\n",
       "      <td>[Barbecued, Chicken, Chow, Siew, from, The, Ex...</td>\n",
       "      <td>1.707464</td>\n",
       "      <td>0.457966</td>\n",
       "      <td>2.818948</td>\n",
       "      <td>0.000000</td>\n",
       "      <td>0.000000</td>\n",
       "      <td>0.000000</td>\n",
       "      <td>0.256666</td>\n",
       "      <td>...</td>\n",
       "      <td>0</td>\n",
       "      <td>0</td>\n",
       "      <td>0</td>\n",
       "      <td>0</td>\n",
       "      <td>0</td>\n",
       "      <td>0</td>\n",
       "      <td>0</td>\n",
       "      <td>0</td>\n",
       "      <td>0</td>\n",
       "      <td>0</td>\n",
       "    </tr>\n",
       "  </tbody>\n",
       "</table>\n",
       "<p>5 rows × 37 columns</p>\n",
       "</div>"
      ],
      "text/plain": [
       "                                                 url  \\\n",
       "0                 [polyvore, cgi, home, id, 1389651]   \n",
       "1                   [youtube, watch, v, ippMPPu6gh4]   \n",
       "2  [musingsofahousewife, 2011, 03, tried, and, tr...   \n",
       "3  [thelittleteochew, 2011, 07, ikan, bilis, with...   \n",
       "4                  [recipes, wuzzle, index, php, 72]   \n",
       "\n",
       "                                               title  \\\n",
       "0  [Join, Polyvore, and, follow, the, latest, sty...   \n",
       "1                      [Speed, Air, ManDavid, Belle]   \n",
       "2                         [Chicken, Gruyere, Recipe]   \n",
       "3            [Ikan, Bilis, With, Tempeh, Groundnuts]   \n",
       "4                               [Malaysian, recipes]   \n",
       "\n",
       "                                                body  alchemy_category_score  \\\n",
       "0  [polyvore, is, the, best, place, to, discover,...                1.869397   \n",
       "1  [Speed, Air, ManDavid, Belle, david, belle, sp...                1.869397   \n",
       "2  [Chicken, Gruyere, one, of, our, favorite, spe...                1.472093   \n",
       "3  [Oh, me, oh, my, This, was, really, snackalici...                1.608077   \n",
       "4  [Barbecued, Chicken, Chow, Siew, from, The, Ex...                1.707464   \n",
       "\n",
       "   avgLinkWordLength  AvglinkWithOneCommonWord  AvglinkWithTwoCommonWord  \\\n",
       "0           1.070441                  2.850855                  0.007905   \n",
       "1           0.814292                  3.129977                  0.000000   \n",
       "2           1.106580                  5.105662                  0.250017   \n",
       "3           0.980299                  4.135385                  0.181739   \n",
       "4           0.457966                  2.818948                  0.000000   \n",
       "\n",
       "   AvglinkWithThreeCommonWord  AvglinkWithFourCommonWord  redundancyMeasure  \\\n",
       "0                    0.000000                   0.000000           0.589894   \n",
       "1                    0.000000                   0.000000           0.591068   \n",
       "2                    0.209826                   0.184265           0.367008   \n",
       "3                    0.093401                   0.064320           0.387063   \n",
       "4                    0.000000                   0.000000           0.256666   \n",
       "\n",
       "   ...  alchemy_category_culture_politics  alchemy_category_gaming  \\\n",
       "0  ...                                  0                        0   \n",
       "1  ...                                  0                        0   \n",
       "2  ...                                  0                        0   \n",
       "3  ...                                  0                        0   \n",
       "4  ...                                  0                        0   \n",
       "\n",
       "   alchemy_category_health alchemy_category_law_crime  \\\n",
       "0                        0                          0   \n",
       "1                        0                          0   \n",
       "2                        0                          0   \n",
       "3                        0                          0   \n",
       "4                        0                          0   \n",
       "\n",
       "   alchemy_category_recreation  alchemy_category_religion  \\\n",
       "0                            0                          0   \n",
       "1                            0                          0   \n",
       "2                            0                          0   \n",
       "3                            1                          0   \n",
       "4                            0                          0   \n",
       "\n",
       "   alchemy_category_science_technology  alchemy_category_sports  \\\n",
       "0                                    0                        0   \n",
       "1                                    0                        0   \n",
       "2                                    1                        0   \n",
       "3                                    0                        0   \n",
       "4                                    0                        0   \n",
       "\n",
       "   alchemy_category_unknown  alchemy_category_weather  \n",
       "0                         1                         0  \n",
       "1                         1                         0  \n",
       "2                         0                         0  \n",
       "3                         0                         0  \n",
       "4                         0                         0  \n",
       "\n",
       "[5 rows x 37 columns]"
      ]
     },
     "execution_count": 85,
     "metadata": {},
     "output_type": "execute_result"
    }
   ],
   "source": [
    "main_df.head()"
   ]
  },
  {
   "cell_type": "markdown",
   "id": "c15bf69a",
   "metadata": {},
   "source": [
    "### 1.8.3. Remove Stop words"
   ]
  },
  {
   "cell_type": "code",
   "execution_count": 86,
   "id": "f64f808b",
   "metadata": {},
   "outputs": [],
   "source": [
    "stopwords = nltk.corpus.stopwords.words('english')"
   ]
  },
  {
   "cell_type": "code",
   "execution_count": 87,
   "id": "e8ddc2d6",
   "metadata": {},
   "outputs": [],
   "source": [
    "def remove_stopwords(tokenized_list):\n",
    "    text = [word for word in tokenized_list if word not in stopwords]\n",
    "    return text\n",
    "\n",
    "stop_list = main_df[\"body\"].to_numpy()\n",
    "stop_list_change = []\n",
    "for i in range(len(stop_list)):\n",
    "    stop_list_change.append(remove_stopwords(stop_list[i]))\n",
    "    \n",
    "main_df[\"body\"] = stop_list_change"
   ]
  },
  {
   "cell_type": "code",
   "execution_count": 88,
   "id": "7db7b96e",
   "metadata": {},
   "outputs": [],
   "source": [
    "stop_list = main_df[\"title\"].to_numpy()\n",
    "stop_list_change = []\n",
    "for i in range(len(stop_list)):\n",
    "    stop_list_change.append(remove_stopwords(stop_list[i]))\n",
    "    \n",
    "main_df[\"title\"] = stop_list_change"
   ]
  },
  {
   "cell_type": "code",
   "execution_count": 89,
   "id": "dcdd9ac9",
   "metadata": {},
   "outputs": [],
   "source": [
    "stop_list = main_df[\"url\"].to_numpy()\n",
    "stop_list_change = []\n",
    "for i in range(len(stop_list)):\n",
    "    stop_list_change.append(remove_stopwords(stop_list[i]))\n",
    "    \n",
    "main_df[\"url\"] = stop_list_change"
   ]
  },
  {
   "cell_type": "code",
   "execution_count": 90,
   "id": "260ea178",
   "metadata": {},
   "outputs": [
    {
     "data": {
      "text/html": [
       "<div>\n",
       "<style scoped>\n",
       "    .dataframe tbody tr th:only-of-type {\n",
       "        vertical-align: middle;\n",
       "    }\n",
       "\n",
       "    .dataframe tbody tr th {\n",
       "        vertical-align: top;\n",
       "    }\n",
       "\n",
       "    .dataframe thead th {\n",
       "        text-align: right;\n",
       "    }\n",
       "</style>\n",
       "<table border=\"1\" class=\"dataframe\">\n",
       "  <thead>\n",
       "    <tr style=\"text-align: right;\">\n",
       "      <th></th>\n",
       "      <th>url</th>\n",
       "      <th>title</th>\n",
       "      <th>body</th>\n",
       "      <th>alchemy_category_score</th>\n",
       "      <th>avgLinkWordLength</th>\n",
       "      <th>AvglinkWithOneCommonWord</th>\n",
       "      <th>AvglinkWithTwoCommonWord</th>\n",
       "      <th>AvglinkWithThreeCommonWord</th>\n",
       "      <th>AvglinkWithFourCommonWord</th>\n",
       "      <th>redundancyMeasure</th>\n",
       "      <th>...</th>\n",
       "      <th>alchemy_category_culture_politics</th>\n",
       "      <th>alchemy_category_gaming</th>\n",
       "      <th>alchemy_category_health</th>\n",
       "      <th>alchemy_category_law_crime</th>\n",
       "      <th>alchemy_category_recreation</th>\n",
       "      <th>alchemy_category_religion</th>\n",
       "      <th>alchemy_category_science_technology</th>\n",
       "      <th>alchemy_category_sports</th>\n",
       "      <th>alchemy_category_unknown</th>\n",
       "      <th>alchemy_category_weather</th>\n",
       "    </tr>\n",
       "  </thead>\n",
       "  <tbody>\n",
       "    <tr>\n",
       "      <th>0</th>\n",
       "      <td>[polyvore, cgi, home, id, 1389651]</td>\n",
       "      <td>[Join, Polyvore, follow, latest, styles]</td>\n",
       "      <td>[polyvore, best, place, discover, start, fashi...</td>\n",
       "      <td>1.869397</td>\n",
       "      <td>1.070441</td>\n",
       "      <td>2.850855</td>\n",
       "      <td>0.007905</td>\n",
       "      <td>0.000000</td>\n",
       "      <td>0.000000</td>\n",
       "      <td>0.589894</td>\n",
       "      <td>...</td>\n",
       "      <td>0</td>\n",
       "      <td>0</td>\n",
       "      <td>0</td>\n",
       "      <td>0</td>\n",
       "      <td>0</td>\n",
       "      <td>0</td>\n",
       "      <td>0</td>\n",
       "      <td>0</td>\n",
       "      <td>1</td>\n",
       "      <td>0</td>\n",
       "    </tr>\n",
       "    <tr>\n",
       "      <th>1</th>\n",
       "      <td>[youtube, watch, v, ippMPPu6gh4]</td>\n",
       "      <td>[Speed, Air, ManDavid, Belle]</td>\n",
       "      <td>[Speed, Air, ManDavid, Belle, david, belle, sp...</td>\n",
       "      <td>1.869397</td>\n",
       "      <td>0.814292</td>\n",
       "      <td>3.129977</td>\n",
       "      <td>0.000000</td>\n",
       "      <td>0.000000</td>\n",
       "      <td>0.000000</td>\n",
       "      <td>0.591068</td>\n",
       "      <td>...</td>\n",
       "      <td>0</td>\n",
       "      <td>0</td>\n",
       "      <td>0</td>\n",
       "      <td>0</td>\n",
       "      <td>0</td>\n",
       "      <td>0</td>\n",
       "      <td>0</td>\n",
       "      <td>0</td>\n",
       "      <td>1</td>\n",
       "      <td>0</td>\n",
       "    </tr>\n",
       "    <tr>\n",
       "      <th>2</th>\n",
       "      <td>[musingsofahousewife, 2011, 03, tried, true, c...</td>\n",
       "      <td>[Chicken, Gruyere, Recipe]</td>\n",
       "      <td>[Chicken, Gruyere, one, favorite, special, din...</td>\n",
       "      <td>1.472093</td>\n",
       "      <td>1.106580</td>\n",
       "      <td>5.105662</td>\n",
       "      <td>0.250017</td>\n",
       "      <td>0.209826</td>\n",
       "      <td>0.184265</td>\n",
       "      <td>0.367008</td>\n",
       "      <td>...</td>\n",
       "      <td>0</td>\n",
       "      <td>0</td>\n",
       "      <td>0</td>\n",
       "      <td>0</td>\n",
       "      <td>0</td>\n",
       "      <td>0</td>\n",
       "      <td>1</td>\n",
       "      <td>0</td>\n",
       "      <td>0</td>\n",
       "      <td>0</td>\n",
       "    </tr>\n",
       "    <tr>\n",
       "      <th>3</th>\n",
       "      <td>[thelittleteochew, 2011, 07, ikan, bilis, temp...</td>\n",
       "      <td>[Ikan, Bilis, With, Tempeh, Groundnuts]</td>\n",
       "      <td>[Oh, oh, This, really, snackalicious, sweet, s...</td>\n",
       "      <td>1.608077</td>\n",
       "      <td>0.980299</td>\n",
       "      <td>4.135385</td>\n",
       "      <td>0.181739</td>\n",
       "      <td>0.093401</td>\n",
       "      <td>0.064320</td>\n",
       "      <td>0.387063</td>\n",
       "      <td>...</td>\n",
       "      <td>0</td>\n",
       "      <td>0</td>\n",
       "      <td>0</td>\n",
       "      <td>0</td>\n",
       "      <td>1</td>\n",
       "      <td>0</td>\n",
       "      <td>0</td>\n",
       "      <td>0</td>\n",
       "      <td>0</td>\n",
       "      <td>0</td>\n",
       "    </tr>\n",
       "    <tr>\n",
       "      <th>4</th>\n",
       "      <td>[recipes, wuzzle, index, php, 72]</td>\n",
       "      <td>[Malaysian, recipes]</td>\n",
       "      <td>[Barbecued, Chicken, Chow, Siew, The, Exotic, ...</td>\n",
       "      <td>1.707464</td>\n",
       "      <td>0.457966</td>\n",
       "      <td>2.818948</td>\n",
       "      <td>0.000000</td>\n",
       "      <td>0.000000</td>\n",
       "      <td>0.000000</td>\n",
       "      <td>0.256666</td>\n",
       "      <td>...</td>\n",
       "      <td>0</td>\n",
       "      <td>0</td>\n",
       "      <td>0</td>\n",
       "      <td>0</td>\n",
       "      <td>0</td>\n",
       "      <td>0</td>\n",
       "      <td>0</td>\n",
       "      <td>0</td>\n",
       "      <td>0</td>\n",
       "      <td>0</td>\n",
       "    </tr>\n",
       "  </tbody>\n",
       "</table>\n",
       "<p>5 rows × 37 columns</p>\n",
       "</div>"
      ],
      "text/plain": [
       "                                                 url  \\\n",
       "0                 [polyvore, cgi, home, id, 1389651]   \n",
       "1                   [youtube, watch, v, ippMPPu6gh4]   \n",
       "2  [musingsofahousewife, 2011, 03, tried, true, c...   \n",
       "3  [thelittleteochew, 2011, 07, ikan, bilis, temp...   \n",
       "4                  [recipes, wuzzle, index, php, 72]   \n",
       "\n",
       "                                      title  \\\n",
       "0  [Join, Polyvore, follow, latest, styles]   \n",
       "1             [Speed, Air, ManDavid, Belle]   \n",
       "2                [Chicken, Gruyere, Recipe]   \n",
       "3   [Ikan, Bilis, With, Tempeh, Groundnuts]   \n",
       "4                      [Malaysian, recipes]   \n",
       "\n",
       "                                                body  alchemy_category_score  \\\n",
       "0  [polyvore, best, place, discover, start, fashi...                1.869397   \n",
       "1  [Speed, Air, ManDavid, Belle, david, belle, sp...                1.869397   \n",
       "2  [Chicken, Gruyere, one, favorite, special, din...                1.472093   \n",
       "3  [Oh, oh, This, really, snackalicious, sweet, s...                1.608077   \n",
       "4  [Barbecued, Chicken, Chow, Siew, The, Exotic, ...                1.707464   \n",
       "\n",
       "   avgLinkWordLength  AvglinkWithOneCommonWord  AvglinkWithTwoCommonWord  \\\n",
       "0           1.070441                  2.850855                  0.007905   \n",
       "1           0.814292                  3.129977                  0.000000   \n",
       "2           1.106580                  5.105662                  0.250017   \n",
       "3           0.980299                  4.135385                  0.181739   \n",
       "4           0.457966                  2.818948                  0.000000   \n",
       "\n",
       "   AvglinkWithThreeCommonWord  AvglinkWithFourCommonWord  redundancyMeasure  \\\n",
       "0                    0.000000                   0.000000           0.589894   \n",
       "1                    0.000000                   0.000000           0.591068   \n",
       "2                    0.209826                   0.184265           0.367008   \n",
       "3                    0.093401                   0.064320           0.387063   \n",
       "4                    0.000000                   0.000000           0.256666   \n",
       "\n",
       "   ...  alchemy_category_culture_politics  alchemy_category_gaming  \\\n",
       "0  ...                                  0                        0   \n",
       "1  ...                                  0                        0   \n",
       "2  ...                                  0                        0   \n",
       "3  ...                                  0                        0   \n",
       "4  ...                                  0                        0   \n",
       "\n",
       "   alchemy_category_health alchemy_category_law_crime  \\\n",
       "0                        0                          0   \n",
       "1                        0                          0   \n",
       "2                        0                          0   \n",
       "3                        0                          0   \n",
       "4                        0                          0   \n",
       "\n",
       "   alchemy_category_recreation  alchemy_category_religion  \\\n",
       "0                            0                          0   \n",
       "1                            0                          0   \n",
       "2                            0                          0   \n",
       "3                            1                          0   \n",
       "4                            0                          0   \n",
       "\n",
       "   alchemy_category_science_technology  alchemy_category_sports  \\\n",
       "0                                    0                        0   \n",
       "1                                    0                        0   \n",
       "2                                    1                        0   \n",
       "3                                    0                        0   \n",
       "4                                    0                        0   \n",
       "\n",
       "   alchemy_category_unknown  alchemy_category_weather  \n",
       "0                         1                         0  \n",
       "1                         1                         0  \n",
       "2                         0                         0  \n",
       "3                         0                         0  \n",
       "4                         0                         0  \n",
       "\n",
       "[5 rows x 37 columns]"
      ]
     },
     "execution_count": 90,
     "metadata": {},
     "output_type": "execute_result"
    }
   ],
   "source": [
    "main_df.head()"
   ]
  },
  {
   "cell_type": "markdown",
   "id": "f52f75d5",
   "metadata": {},
   "source": [
    "### 1.8.4. Lemmatizing"
   ]
  },
  {
   "cell_type": "code",
   "execution_count": 91,
   "id": "0a097752",
   "metadata": {},
   "outputs": [],
   "source": [
    "wnl = nltk.WordNetLemmatizer()"
   ]
  },
  {
   "cell_type": "code",
   "execution_count": 92,
   "id": "0211f988",
   "metadata": {},
   "outputs": [],
   "source": [
    "def lemmatizing(tokenized_text):\n",
    "    text = [wnl.lemmatize(word) for word in tokenized_text]\n",
    "    return text"
   ]
  },
  {
   "cell_type": "code",
   "execution_count": 93,
   "id": "d68bdc4a",
   "metadata": {},
   "outputs": [],
   "source": [
    "lemmatize_list = main_df[\"url\"].to_numpy()\n",
    "lemmatized_list = []\n",
    "for i in range(len(lemmatize_list)):\n",
    "    lemmatized_list.append(lemmatizing(lemmatize_list[i]))\n",
    "    \n",
    "main_df[\"url\"] = lemmatized_list"
   ]
  },
  {
   "cell_type": "code",
   "execution_count": 94,
   "id": "a7b82ec2",
   "metadata": {},
   "outputs": [],
   "source": [
    "lemmatize_list = main_df[\"title\"].to_numpy()\n",
    "lemmatized_list = []\n",
    "for i in range(len(lemmatize_list)):\n",
    "    lemmatized_list.append(lemmatizing(lemmatize_list[i]))\n",
    "    \n",
    "main_df[\"title\"] = lemmatized_list"
   ]
  },
  {
   "cell_type": "code",
   "execution_count": 95,
   "id": "32e5b2f6",
   "metadata": {},
   "outputs": [],
   "source": [
    "lemmatize_list = main_df[\"body\"].to_numpy()\n",
    "lemmatized_list = []\n",
    "for i in range(len(lemmatize_list)):\n",
    "    lemmatized_list.append(lemmatizing(lemmatize_list[i]))\n",
    "    \n",
    "main_df[\"body\"] = lemmatized_list"
   ]
  },
  {
   "cell_type": "code",
   "execution_count": 96,
   "id": "18fde14e",
   "metadata": {},
   "outputs": [],
   "source": [
    "# st = nltk.PorterStemmer() "
   ]
  },
  {
   "cell_type": "code",
   "execution_count": 97,
   "id": "afa1d217",
   "metadata": {},
   "outputs": [],
   "source": [
    "# def stemming(tokenized_text):\n",
    "#     text = [st.stem(word) for word in tokenized_text]\n",
    "#     return text"
   ]
  },
  {
   "cell_type": "code",
   "execution_count": 98,
   "id": "8e71f0f7",
   "metadata": {},
   "outputs": [],
   "source": [
    "# stem_list = main_df[\"url\"].to_numpy()\n",
    "# stemmed_list = []\n",
    "# for i in range(len(stem_list)):\n",
    "#     stemmed_list.append(stemming(stem_list[i]))\n",
    "    \n",
    "# main_df[\"url\"] = stemmed_list"
   ]
  },
  {
   "cell_type": "code",
   "execution_count": 99,
   "id": "68698cfe",
   "metadata": {},
   "outputs": [],
   "source": [
    "# stem_list = main_df[\"title\"].to_numpy()\n",
    "# stemmed_list = []\n",
    "# for i in range(len(stem_list)):\n",
    "#     stemmed_list.append(stemming(stem_list[i]))\n",
    "    \n",
    "# main_df[\"title\"] = stemmed_list"
   ]
  },
  {
   "cell_type": "code",
   "execution_count": 100,
   "id": "04e3ce06",
   "metadata": {},
   "outputs": [],
   "source": [
    "# stem_list = main_df[\"body\"].to_numpy()\n",
    "# stemmed_list = []\n",
    "# for i in range(len(stem_list)):\n",
    "#     stemmed_list.append(stemming(stem_list[i]))\n",
    "    \n",
    "# main_df[\"body\"] = stemmed_list"
   ]
  },
  {
   "cell_type": "code",
   "execution_count": 101,
   "id": "e1d60c7b",
   "metadata": {},
   "outputs": [
    {
     "data": {
      "text/html": [
       "<div>\n",
       "<style scoped>\n",
       "    .dataframe tbody tr th:only-of-type {\n",
       "        vertical-align: middle;\n",
       "    }\n",
       "\n",
       "    .dataframe tbody tr th {\n",
       "        vertical-align: top;\n",
       "    }\n",
       "\n",
       "    .dataframe thead th {\n",
       "        text-align: right;\n",
       "    }\n",
       "</style>\n",
       "<table border=\"1\" class=\"dataframe\">\n",
       "  <thead>\n",
       "    <tr style=\"text-align: right;\">\n",
       "      <th></th>\n",
       "      <th>url</th>\n",
       "      <th>title</th>\n",
       "      <th>body</th>\n",
       "      <th>alchemy_category_score</th>\n",
       "      <th>avgLinkWordLength</th>\n",
       "      <th>AvglinkWithOneCommonWord</th>\n",
       "      <th>AvglinkWithTwoCommonWord</th>\n",
       "      <th>AvglinkWithThreeCommonWord</th>\n",
       "      <th>AvglinkWithFourCommonWord</th>\n",
       "      <th>redundancyMeasure</th>\n",
       "      <th>...</th>\n",
       "      <th>alchemy_category_culture_politics</th>\n",
       "      <th>alchemy_category_gaming</th>\n",
       "      <th>alchemy_category_health</th>\n",
       "      <th>alchemy_category_law_crime</th>\n",
       "      <th>alchemy_category_recreation</th>\n",
       "      <th>alchemy_category_religion</th>\n",
       "      <th>alchemy_category_science_technology</th>\n",
       "      <th>alchemy_category_sports</th>\n",
       "      <th>alchemy_category_unknown</th>\n",
       "      <th>alchemy_category_weather</th>\n",
       "    </tr>\n",
       "  </thead>\n",
       "  <tbody>\n",
       "    <tr>\n",
       "      <th>0</th>\n",
       "      <td>[polyvore, cgi, home, id, 1389651]</td>\n",
       "      <td>[Join, Polyvore, follow, latest, style]</td>\n",
       "      <td>[polyvore, best, place, discover, start, fashi...</td>\n",
       "      <td>1.869397</td>\n",
       "      <td>1.070441</td>\n",
       "      <td>2.850855</td>\n",
       "      <td>0.007905</td>\n",
       "      <td>0.000000</td>\n",
       "      <td>0.000000</td>\n",
       "      <td>0.589894</td>\n",
       "      <td>...</td>\n",
       "      <td>0</td>\n",
       "      <td>0</td>\n",
       "      <td>0</td>\n",
       "      <td>0</td>\n",
       "      <td>0</td>\n",
       "      <td>0</td>\n",
       "      <td>0</td>\n",
       "      <td>0</td>\n",
       "      <td>1</td>\n",
       "      <td>0</td>\n",
       "    </tr>\n",
       "    <tr>\n",
       "      <th>1</th>\n",
       "      <td>[youtube, watch, v, ippMPPu6gh4]</td>\n",
       "      <td>[Speed, Air, ManDavid, Belle]</td>\n",
       "      <td>[Speed, Air, ManDavid, Belle, david, belle, sp...</td>\n",
       "      <td>1.869397</td>\n",
       "      <td>0.814292</td>\n",
       "      <td>3.129977</td>\n",
       "      <td>0.000000</td>\n",
       "      <td>0.000000</td>\n",
       "      <td>0.000000</td>\n",
       "      <td>0.591068</td>\n",
       "      <td>...</td>\n",
       "      <td>0</td>\n",
       "      <td>0</td>\n",
       "      <td>0</td>\n",
       "      <td>0</td>\n",
       "      <td>0</td>\n",
       "      <td>0</td>\n",
       "      <td>0</td>\n",
       "      <td>0</td>\n",
       "      <td>1</td>\n",
       "      <td>0</td>\n",
       "    </tr>\n",
       "    <tr>\n",
       "      <th>2</th>\n",
       "      <td>[musingsofahousewife, 2011, 03, tried, true, c...</td>\n",
       "      <td>[Chicken, Gruyere, Recipe]</td>\n",
       "      <td>[Chicken, Gruyere, one, favorite, special, din...</td>\n",
       "      <td>1.472093</td>\n",
       "      <td>1.106580</td>\n",
       "      <td>5.105662</td>\n",
       "      <td>0.250017</td>\n",
       "      <td>0.209826</td>\n",
       "      <td>0.184265</td>\n",
       "      <td>0.367008</td>\n",
       "      <td>...</td>\n",
       "      <td>0</td>\n",
       "      <td>0</td>\n",
       "      <td>0</td>\n",
       "      <td>0</td>\n",
       "      <td>0</td>\n",
       "      <td>0</td>\n",
       "      <td>1</td>\n",
       "      <td>0</td>\n",
       "      <td>0</td>\n",
       "      <td>0</td>\n",
       "    </tr>\n",
       "    <tr>\n",
       "      <th>3</th>\n",
       "      <td>[thelittleteochew, 2011, 07, ikan, bilis, temp...</td>\n",
       "      <td>[Ikan, Bilis, With, Tempeh, Groundnuts]</td>\n",
       "      <td>[Oh, oh, This, really, snackalicious, sweet, s...</td>\n",
       "      <td>1.608077</td>\n",
       "      <td>0.980299</td>\n",
       "      <td>4.135385</td>\n",
       "      <td>0.181739</td>\n",
       "      <td>0.093401</td>\n",
       "      <td>0.064320</td>\n",
       "      <td>0.387063</td>\n",
       "      <td>...</td>\n",
       "      <td>0</td>\n",
       "      <td>0</td>\n",
       "      <td>0</td>\n",
       "      <td>0</td>\n",
       "      <td>1</td>\n",
       "      <td>0</td>\n",
       "      <td>0</td>\n",
       "      <td>0</td>\n",
       "      <td>0</td>\n",
       "      <td>0</td>\n",
       "    </tr>\n",
       "    <tr>\n",
       "      <th>4</th>\n",
       "      <td>[recipe, wuzzle, index, php, 72]</td>\n",
       "      <td>[Malaysian, recipe]</td>\n",
       "      <td>[Barbecued, Chicken, Chow, Siew, The, Exotic, ...</td>\n",
       "      <td>1.707464</td>\n",
       "      <td>0.457966</td>\n",
       "      <td>2.818948</td>\n",
       "      <td>0.000000</td>\n",
       "      <td>0.000000</td>\n",
       "      <td>0.000000</td>\n",
       "      <td>0.256666</td>\n",
       "      <td>...</td>\n",
       "      <td>0</td>\n",
       "      <td>0</td>\n",
       "      <td>0</td>\n",
       "      <td>0</td>\n",
       "      <td>0</td>\n",
       "      <td>0</td>\n",
       "      <td>0</td>\n",
       "      <td>0</td>\n",
       "      <td>0</td>\n",
       "      <td>0</td>\n",
       "    </tr>\n",
       "  </tbody>\n",
       "</table>\n",
       "<p>5 rows × 37 columns</p>\n",
       "</div>"
      ],
      "text/plain": [
       "                                                 url  \\\n",
       "0                 [polyvore, cgi, home, id, 1389651]   \n",
       "1                   [youtube, watch, v, ippMPPu6gh4]   \n",
       "2  [musingsofahousewife, 2011, 03, tried, true, c...   \n",
       "3  [thelittleteochew, 2011, 07, ikan, bilis, temp...   \n",
       "4                   [recipe, wuzzle, index, php, 72]   \n",
       "\n",
       "                                     title  \\\n",
       "0  [Join, Polyvore, follow, latest, style]   \n",
       "1            [Speed, Air, ManDavid, Belle]   \n",
       "2               [Chicken, Gruyere, Recipe]   \n",
       "3  [Ikan, Bilis, With, Tempeh, Groundnuts]   \n",
       "4                      [Malaysian, recipe]   \n",
       "\n",
       "                                                body  alchemy_category_score  \\\n",
       "0  [polyvore, best, place, discover, start, fashi...                1.869397   \n",
       "1  [Speed, Air, ManDavid, Belle, david, belle, sp...                1.869397   \n",
       "2  [Chicken, Gruyere, one, favorite, special, din...                1.472093   \n",
       "3  [Oh, oh, This, really, snackalicious, sweet, s...                1.608077   \n",
       "4  [Barbecued, Chicken, Chow, Siew, The, Exotic, ...                1.707464   \n",
       "\n",
       "   avgLinkWordLength  AvglinkWithOneCommonWord  AvglinkWithTwoCommonWord  \\\n",
       "0           1.070441                  2.850855                  0.007905   \n",
       "1           0.814292                  3.129977                  0.000000   \n",
       "2           1.106580                  5.105662                  0.250017   \n",
       "3           0.980299                  4.135385                  0.181739   \n",
       "4           0.457966                  2.818948                  0.000000   \n",
       "\n",
       "   AvglinkWithThreeCommonWord  AvglinkWithFourCommonWord  redundancyMeasure  \\\n",
       "0                    0.000000                   0.000000           0.589894   \n",
       "1                    0.000000                   0.000000           0.591068   \n",
       "2                    0.209826                   0.184265           0.367008   \n",
       "3                    0.093401                   0.064320           0.387063   \n",
       "4                    0.000000                   0.000000           0.256666   \n",
       "\n",
       "   ...  alchemy_category_culture_politics  alchemy_category_gaming  \\\n",
       "0  ...                                  0                        0   \n",
       "1  ...                                  0                        0   \n",
       "2  ...                                  0                        0   \n",
       "3  ...                                  0                        0   \n",
       "4  ...                                  0                        0   \n",
       "\n",
       "   alchemy_category_health alchemy_category_law_crime  \\\n",
       "0                        0                          0   \n",
       "1                        0                          0   \n",
       "2                        0                          0   \n",
       "3                        0                          0   \n",
       "4                        0                          0   \n",
       "\n",
       "   alchemy_category_recreation  alchemy_category_religion  \\\n",
       "0                            0                          0   \n",
       "1                            0                          0   \n",
       "2                            0                          0   \n",
       "3                            1                          0   \n",
       "4                            0                          0   \n",
       "\n",
       "   alchemy_category_science_technology  alchemy_category_sports  \\\n",
       "0                                    0                        0   \n",
       "1                                    0                        0   \n",
       "2                                    1                        0   \n",
       "3                                    0                        0   \n",
       "4                                    0                        0   \n",
       "\n",
       "   alchemy_category_unknown  alchemy_category_weather  \n",
       "0                         1                         0  \n",
       "1                         1                         0  \n",
       "2                         0                         0  \n",
       "3                         0                         0  \n",
       "4                         0                         0  \n",
       "\n",
       "[5 rows x 37 columns]"
      ]
     },
     "execution_count": 101,
     "metadata": {},
     "output_type": "execute_result"
    }
   ],
   "source": [
    "main_df.head()"
   ]
  },
  {
   "cell_type": "markdown",
   "id": "d76bff41",
   "metadata": {},
   "source": [
    "### 1.8.5. Vectorizing Data"
   ]
  },
  {
   "cell_type": "code",
   "execution_count": 102,
   "id": "82546026",
   "metadata": {},
   "outputs": [],
   "source": [
    "body_data = main_df[\"body\"].to_numpy()\n",
    "body_data_combined = [' '.join(i) for i in body_data]\n",
    "main_df[\"body\"] = body_data_combined\n",
    "\n",
    "title_data = main_df[\"title\"].to_numpy()\n",
    "title_data_combined = [' '.join(i) for i in title_data]\n",
    "main_df[\"title\"] = title_data_combined\n",
    "\n",
    "url_data = main_df[\"url\"].to_numpy()\n",
    "url_data_combined = [' '.join(i) for i in url_data]\n",
    "main_df[\"url\"] = url_data_combined"
   ]
  },
  {
   "cell_type": "code",
   "execution_count": 103,
   "id": "662b151a",
   "metadata": {},
   "outputs": [
    {
     "data": {
      "text/html": [
       "<div>\n",
       "<style scoped>\n",
       "    .dataframe tbody tr th:only-of-type {\n",
       "        vertical-align: middle;\n",
       "    }\n",
       "\n",
       "    .dataframe tbody tr th {\n",
       "        vertical-align: top;\n",
       "    }\n",
       "\n",
       "    .dataframe thead th {\n",
       "        text-align: right;\n",
       "    }\n",
       "</style>\n",
       "<table border=\"1\" class=\"dataframe\">\n",
       "  <thead>\n",
       "    <tr style=\"text-align: right;\">\n",
       "      <th></th>\n",
       "      <th>url</th>\n",
       "      <th>title</th>\n",
       "      <th>body</th>\n",
       "      <th>alchemy_category_score</th>\n",
       "      <th>avgLinkWordLength</th>\n",
       "      <th>AvglinkWithOneCommonWord</th>\n",
       "      <th>AvglinkWithTwoCommonWord</th>\n",
       "      <th>AvglinkWithThreeCommonWord</th>\n",
       "      <th>AvglinkWithFourCommonWord</th>\n",
       "      <th>redundancyMeasure</th>\n",
       "      <th>...</th>\n",
       "      <th>alchemy_category_culture_politics</th>\n",
       "      <th>alchemy_category_gaming</th>\n",
       "      <th>alchemy_category_health</th>\n",
       "      <th>alchemy_category_law_crime</th>\n",
       "      <th>alchemy_category_recreation</th>\n",
       "      <th>alchemy_category_religion</th>\n",
       "      <th>alchemy_category_science_technology</th>\n",
       "      <th>alchemy_category_sports</th>\n",
       "      <th>alchemy_category_unknown</th>\n",
       "      <th>alchemy_category_weather</th>\n",
       "    </tr>\n",
       "  </thead>\n",
       "  <tbody>\n",
       "    <tr>\n",
       "      <th>0</th>\n",
       "      <td>polyvore cgi home id 1389651</td>\n",
       "      <td>Join Polyvore follow latest style</td>\n",
       "      <td>polyvore best place discover start fashion tre...</td>\n",
       "      <td>1.869397</td>\n",
       "      <td>1.070441</td>\n",
       "      <td>2.850855</td>\n",
       "      <td>0.007905</td>\n",
       "      <td>0.000000</td>\n",
       "      <td>0.000000</td>\n",
       "      <td>0.589894</td>\n",
       "      <td>...</td>\n",
       "      <td>0</td>\n",
       "      <td>0</td>\n",
       "      <td>0</td>\n",
       "      <td>0</td>\n",
       "      <td>0</td>\n",
       "      <td>0</td>\n",
       "      <td>0</td>\n",
       "      <td>0</td>\n",
       "      <td>1</td>\n",
       "      <td>0</td>\n",
       "    </tr>\n",
       "    <tr>\n",
       "      <th>1</th>\n",
       "      <td>youtube watch v ippMPPu6gh4</td>\n",
       "      <td>Speed Air ManDavid Belle</td>\n",
       "      <td>Speed Air ManDavid Belle david belle speed air...</td>\n",
       "      <td>1.869397</td>\n",
       "      <td>0.814292</td>\n",
       "      <td>3.129977</td>\n",
       "      <td>0.000000</td>\n",
       "      <td>0.000000</td>\n",
       "      <td>0.000000</td>\n",
       "      <td>0.591068</td>\n",
       "      <td>...</td>\n",
       "      <td>0</td>\n",
       "      <td>0</td>\n",
       "      <td>0</td>\n",
       "      <td>0</td>\n",
       "      <td>0</td>\n",
       "      <td>0</td>\n",
       "      <td>0</td>\n",
       "      <td>0</td>\n",
       "      <td>1</td>\n",
       "      <td>0</td>\n",
       "    </tr>\n",
       "    <tr>\n",
       "      <th>2</th>\n",
       "      <td>musingsofahousewife 2011 03 tried true chicken...</td>\n",
       "      <td>Chicken Gruyere Recipe</td>\n",
       "      <td>Chicken Gruyere one favorite special dinner I ...</td>\n",
       "      <td>1.472093</td>\n",
       "      <td>1.106580</td>\n",
       "      <td>5.105662</td>\n",
       "      <td>0.250017</td>\n",
       "      <td>0.209826</td>\n",
       "      <td>0.184265</td>\n",
       "      <td>0.367008</td>\n",
       "      <td>...</td>\n",
       "      <td>0</td>\n",
       "      <td>0</td>\n",
       "      <td>0</td>\n",
       "      <td>0</td>\n",
       "      <td>0</td>\n",
       "      <td>0</td>\n",
       "      <td>1</td>\n",
       "      <td>0</td>\n",
       "      <td>0</td>\n",
       "      <td>0</td>\n",
       "    </tr>\n",
       "    <tr>\n",
       "      <th>3</th>\n",
       "      <td>thelittleteochew 2011 07 ikan bilis tempeh gro...</td>\n",
       "      <td>Ikan Bilis With Tempeh Groundnuts</td>\n",
       "      <td>Oh oh This really snackalicious sweet salty sp...</td>\n",
       "      <td>1.608077</td>\n",
       "      <td>0.980299</td>\n",
       "      <td>4.135385</td>\n",
       "      <td>0.181739</td>\n",
       "      <td>0.093401</td>\n",
       "      <td>0.064320</td>\n",
       "      <td>0.387063</td>\n",
       "      <td>...</td>\n",
       "      <td>0</td>\n",
       "      <td>0</td>\n",
       "      <td>0</td>\n",
       "      <td>0</td>\n",
       "      <td>1</td>\n",
       "      <td>0</td>\n",
       "      <td>0</td>\n",
       "      <td>0</td>\n",
       "      <td>0</td>\n",
       "      <td>0</td>\n",
       "    </tr>\n",
       "    <tr>\n",
       "      <th>4</th>\n",
       "      <td>recipe wuzzle index php 72</td>\n",
       "      <td>Malaysian recipe</td>\n",
       "      <td>Barbecued Chicken Chow Siew The Exotic Kitchen...</td>\n",
       "      <td>1.707464</td>\n",
       "      <td>0.457966</td>\n",
       "      <td>2.818948</td>\n",
       "      <td>0.000000</td>\n",
       "      <td>0.000000</td>\n",
       "      <td>0.000000</td>\n",
       "      <td>0.256666</td>\n",
       "      <td>...</td>\n",
       "      <td>0</td>\n",
       "      <td>0</td>\n",
       "      <td>0</td>\n",
       "      <td>0</td>\n",
       "      <td>0</td>\n",
       "      <td>0</td>\n",
       "      <td>0</td>\n",
       "      <td>0</td>\n",
       "      <td>0</td>\n",
       "      <td>0</td>\n",
       "    </tr>\n",
       "  </tbody>\n",
       "</table>\n",
       "<p>5 rows × 37 columns</p>\n",
       "</div>"
      ],
      "text/plain": [
       "                                                 url  \\\n",
       "0                       polyvore cgi home id 1389651   \n",
       "1                        youtube watch v ippMPPu6gh4   \n",
       "2  musingsofahousewife 2011 03 tried true chicken...   \n",
       "3  thelittleteochew 2011 07 ikan bilis tempeh gro...   \n",
       "4                         recipe wuzzle index php 72   \n",
       "\n",
       "                               title  \\\n",
       "0  Join Polyvore follow latest style   \n",
       "1           Speed Air ManDavid Belle   \n",
       "2             Chicken Gruyere Recipe   \n",
       "3  Ikan Bilis With Tempeh Groundnuts   \n",
       "4                   Malaysian recipe   \n",
       "\n",
       "                                                body  alchemy_category_score  \\\n",
       "0  polyvore best place discover start fashion tre...                1.869397   \n",
       "1  Speed Air ManDavid Belle david belle speed air...                1.869397   \n",
       "2  Chicken Gruyere one favorite special dinner I ...                1.472093   \n",
       "3  Oh oh This really snackalicious sweet salty sp...                1.608077   \n",
       "4  Barbecued Chicken Chow Siew The Exotic Kitchen...                1.707464   \n",
       "\n",
       "   avgLinkWordLength  AvglinkWithOneCommonWord  AvglinkWithTwoCommonWord  \\\n",
       "0           1.070441                  2.850855                  0.007905   \n",
       "1           0.814292                  3.129977                  0.000000   \n",
       "2           1.106580                  5.105662                  0.250017   \n",
       "3           0.980299                  4.135385                  0.181739   \n",
       "4           0.457966                  2.818948                  0.000000   \n",
       "\n",
       "   AvglinkWithThreeCommonWord  AvglinkWithFourCommonWord  redundancyMeasure  \\\n",
       "0                    0.000000                   0.000000           0.589894   \n",
       "1                    0.000000                   0.000000           0.591068   \n",
       "2                    0.209826                   0.184265           0.367008   \n",
       "3                    0.093401                   0.064320           0.387063   \n",
       "4                    0.000000                   0.000000           0.256666   \n",
       "\n",
       "   ...  alchemy_category_culture_politics  alchemy_category_gaming  \\\n",
       "0  ...                                  0                        0   \n",
       "1  ...                                  0                        0   \n",
       "2  ...                                  0                        0   \n",
       "3  ...                                  0                        0   \n",
       "4  ...                                  0                        0   \n",
       "\n",
       "   alchemy_category_health alchemy_category_law_crime  \\\n",
       "0                        0                          0   \n",
       "1                        0                          0   \n",
       "2                        0                          0   \n",
       "3                        0                          0   \n",
       "4                        0                          0   \n",
       "\n",
       "   alchemy_category_recreation  alchemy_category_religion  \\\n",
       "0                            0                          0   \n",
       "1                            0                          0   \n",
       "2                            0                          0   \n",
       "3                            1                          0   \n",
       "4                            0                          0   \n",
       "\n",
       "   alchemy_category_science_technology  alchemy_category_sports  \\\n",
       "0                                    0                        0   \n",
       "1                                    0                        0   \n",
       "2                                    1                        0   \n",
       "3                                    0                        0   \n",
       "4                                    0                        0   \n",
       "\n",
       "   alchemy_category_unknown  alchemy_category_weather  \n",
       "0                         1                         0  \n",
       "1                         1                         0  \n",
       "2                         0                         0  \n",
       "3                         0                         0  \n",
       "4                         0                         0  \n",
       "\n",
       "[5 rows x 37 columns]"
      ]
     },
     "execution_count": 103,
     "metadata": {},
     "output_type": "execute_result"
    }
   ],
   "source": [
    "main_df.head()"
   ]
  },
  {
   "cell_type": "code",
   "execution_count": 104,
   "id": "d501ff55",
   "metadata": {},
   "outputs": [
    {
     "data": {
      "text/html": [
       "<div>\n",
       "<style scoped>\n",
       "    .dataframe tbody tr th:only-of-type {\n",
       "        vertical-align: middle;\n",
       "    }\n",
       "\n",
       "    .dataframe tbody tr th {\n",
       "        vertical-align: top;\n",
       "    }\n",
       "\n",
       "    .dataframe thead th {\n",
       "        text-align: right;\n",
       "    }\n",
       "</style>\n",
       "<table border=\"1\" class=\"dataframe\">\n",
       "  <thead>\n",
       "    <tr style=\"text-align: right;\">\n",
       "      <th></th>\n",
       "      <th>alchemy_category_score</th>\n",
       "      <th>avgLinkWordLength</th>\n",
       "      <th>AvglinkWithOneCommonWord</th>\n",
       "      <th>AvglinkWithTwoCommonWord</th>\n",
       "      <th>AvglinkWithThreeCommonWord</th>\n",
       "      <th>AvglinkWithFourCommonWord</th>\n",
       "      <th>redundancyMeasure</th>\n",
       "      <th>frameTagRatio</th>\n",
       "      <th>tagRatio</th>\n",
       "      <th>imageTagRatio</th>\n",
       "      <th>...</th>\n",
       "      <th>alchemy_category_culture_politics</th>\n",
       "      <th>alchemy_category_gaming</th>\n",
       "      <th>alchemy_category_health</th>\n",
       "      <th>alchemy_category_law_crime</th>\n",
       "      <th>alchemy_category_recreation</th>\n",
       "      <th>alchemy_category_religion</th>\n",
       "      <th>alchemy_category_science_technology</th>\n",
       "      <th>alchemy_category_sports</th>\n",
       "      <th>alchemy_category_unknown</th>\n",
       "      <th>alchemy_category_weather</th>\n",
       "    </tr>\n",
       "  </thead>\n",
       "  <tbody>\n",
       "    <tr>\n",
       "      <th>count</th>\n",
       "      <td>7395.000000</td>\n",
       "      <td>7395.000000</td>\n",
       "      <td>7395.000000</td>\n",
       "      <td>7395.000000</td>\n",
       "      <td>7395.000000</td>\n",
       "      <td>7395.000000</td>\n",
       "      <td>7395.000000</td>\n",
       "      <td>7395.000000</td>\n",
       "      <td>7395.000000</td>\n",
       "      <td>7395.000000</td>\n",
       "      <td>...</td>\n",
       "      <td>7395.000000</td>\n",
       "      <td>7395.000000</td>\n",
       "      <td>7395.000000</td>\n",
       "      <td>7395.000000</td>\n",
       "      <td>7395.000000</td>\n",
       "      <td>7395.000000</td>\n",
       "      <td>7395.00000</td>\n",
       "      <td>7395.000000</td>\n",
       "      <td>7395.000000</td>\n",
       "      <td>7395.000000</td>\n",
       "    </tr>\n",
       "    <tr>\n",
       "      <th>mean</th>\n",
       "      <td>1.869713</td>\n",
       "      <td>1.128277</td>\n",
       "      <td>4.430076</td>\n",
       "      <td>0.186979</td>\n",
       "      <td>0.084568</td>\n",
       "      <td>0.045948</td>\n",
       "      <td>0.420341</td>\n",
       "      <td>0.054424</td>\n",
       "      <td>0.232441</td>\n",
       "      <td>0.137541</td>\n",
       "      <td>...</td>\n",
       "      <td>0.046383</td>\n",
       "      <td>0.010277</td>\n",
       "      <td>0.068425</td>\n",
       "      <td>0.004192</td>\n",
       "      <td>0.166193</td>\n",
       "      <td>0.009736</td>\n",
       "      <td>0.03908</td>\n",
       "      <td>0.051386</td>\n",
       "      <td>0.317512</td>\n",
       "      <td>0.000541</td>\n",
       "    </tr>\n",
       "    <tr>\n",
       "      <th>std</th>\n",
       "      <td>0.306335</td>\n",
       "      <td>0.281550</td>\n",
       "      <td>0.877527</td>\n",
       "      <td>0.117388</td>\n",
       "      <td>0.081797</td>\n",
       "      <td>0.063697</td>\n",
       "      <td>0.086000</td>\n",
       "      <td>0.034233</td>\n",
       "      <td>0.047146</td>\n",
       "      <td>0.223536</td>\n",
       "      <td>...</td>\n",
       "      <td>0.210327</td>\n",
       "      <td>0.100861</td>\n",
       "      <td>0.252490</td>\n",
       "      <td>0.064614</td>\n",
       "      <td>0.372279</td>\n",
       "      <td>0.098198</td>\n",
       "      <td>0.19380</td>\n",
       "      <td>0.220799</td>\n",
       "      <td>0.465540</td>\n",
       "      <td>0.023253</td>\n",
       "    </tr>\n",
       "    <tr>\n",
       "      <th>min</th>\n",
       "      <td>1.238949</td>\n",
       "      <td>0.457966</td>\n",
       "      <td>2.718282</td>\n",
       "      <td>0.000000</td>\n",
       "      <td>0.000000</td>\n",
       "      <td>0.000000</td>\n",
       "      <td>0.231693</td>\n",
       "      <td>0.000000</td>\n",
       "      <td>0.111499</td>\n",
       "      <td>-0.290300</td>\n",
       "      <td>...</td>\n",
       "      <td>0.000000</td>\n",
       "      <td>0.000000</td>\n",
       "      <td>0.000000</td>\n",
       "      <td>0.000000</td>\n",
       "      <td>0.000000</td>\n",
       "      <td>0.000000</td>\n",
       "      <td>0.00000</td>\n",
       "      <td>0.000000</td>\n",
       "      <td>0.000000</td>\n",
       "      <td>0.000000</td>\n",
       "    </tr>\n",
       "    <tr>\n",
       "      <th>25%</th>\n",
       "      <td>1.713876</td>\n",
       "      <td>0.956304</td>\n",
       "      <td>3.820456</td>\n",
       "      <td>0.100083</td>\n",
       "      <td>0.021979</td>\n",
       "      <td>0.000000</td>\n",
       "      <td>0.366458</td>\n",
       "      <td>0.028502</td>\n",
       "      <td>0.201061</td>\n",
       "      <td>0.025900</td>\n",
       "      <td>...</td>\n",
       "      <td>0.000000</td>\n",
       "      <td>0.000000</td>\n",
       "      <td>0.000000</td>\n",
       "      <td>0.000000</td>\n",
       "      <td>0.000000</td>\n",
       "      <td>0.000000</td>\n",
       "      <td>0.00000</td>\n",
       "      <td>0.000000</td>\n",
       "      <td>0.000000</td>\n",
       "      <td>0.000000</td>\n",
       "    </tr>\n",
       "    <tr>\n",
       "      <th>50%</th>\n",
       "      <td>1.869397</td>\n",
       "      <td>1.127600</td>\n",
       "      <td>4.399459</td>\n",
       "      <td>0.184364</td>\n",
       "      <td>0.066375</td>\n",
       "      <td>0.021979</td>\n",
       "      <td>0.394525</td>\n",
       "      <td>0.045775</td>\n",
       "      <td>0.230564</td>\n",
       "      <td>0.083051</td>\n",
       "      <td>...</td>\n",
       "      <td>0.000000</td>\n",
       "      <td>0.000000</td>\n",
       "      <td>0.000000</td>\n",
       "      <td>0.000000</td>\n",
       "      <td>0.000000</td>\n",
       "      <td>0.000000</td>\n",
       "      <td>0.00000</td>\n",
       "      <td>0.000000</td>\n",
       "      <td>0.000000</td>\n",
       "      <td>0.000000</td>\n",
       "    </tr>\n",
       "    <tr>\n",
       "      <th>75%</th>\n",
       "      <td>2.030494</td>\n",
       "      <td>1.288530</td>\n",
       "      <td>5.035959</td>\n",
       "      <td>0.262364</td>\n",
       "      <td>0.125163</td>\n",
       "      <td>0.063036</td>\n",
       "      <td>0.456302</td>\n",
       "      <td>0.073459</td>\n",
       "      <td>0.260770</td>\n",
       "      <td>0.236700</td>\n",
       "      <td>...</td>\n",
       "      <td>0.000000</td>\n",
       "      <td>0.000000</td>\n",
       "      <td>0.000000</td>\n",
       "      <td>0.000000</td>\n",
       "      <td>0.000000</td>\n",
       "      <td>0.000000</td>\n",
       "      <td>0.00000</td>\n",
       "      <td>0.000000</td>\n",
       "      <td>1.000000</td>\n",
       "      <td>0.000000</td>\n",
       "    </tr>\n",
       "    <tr>\n",
       "      <th>max</th>\n",
       "      <td>2.505420</td>\n",
       "      <td>1.786869</td>\n",
       "      <td>7.389056</td>\n",
       "      <td>0.693147</td>\n",
       "      <td>0.683295</td>\n",
       "      <td>0.683295</td>\n",
       "      <td>0.591068</td>\n",
       "      <td>0.140893</td>\n",
       "      <td>0.350332</td>\n",
       "      <td>0.552900</td>\n",
       "      <td>...</td>\n",
       "      <td>1.000000</td>\n",
       "      <td>1.000000</td>\n",
       "      <td>1.000000</td>\n",
       "      <td>1.000000</td>\n",
       "      <td>1.000000</td>\n",
       "      <td>1.000000</td>\n",
       "      <td>1.00000</td>\n",
       "      <td>1.000000</td>\n",
       "      <td>1.000000</td>\n",
       "      <td>1.000000</td>\n",
       "    </tr>\n",
       "  </tbody>\n",
       "</table>\n",
       "<p>8 rows × 33 columns</p>\n",
       "</div>"
      ],
      "text/plain": [
       "       alchemy_category_score  avgLinkWordLength  AvglinkWithOneCommonWord  \\\n",
       "count             7395.000000        7395.000000               7395.000000   \n",
       "mean                 1.869713           1.128277                  4.430076   \n",
       "std                  0.306335           0.281550                  0.877527   \n",
       "min                  1.238949           0.457966                  2.718282   \n",
       "25%                  1.713876           0.956304                  3.820456   \n",
       "50%                  1.869397           1.127600                  4.399459   \n",
       "75%                  2.030494           1.288530                  5.035959   \n",
       "max                  2.505420           1.786869                  7.389056   \n",
       "\n",
       "       AvglinkWithTwoCommonWord  AvglinkWithThreeCommonWord  \\\n",
       "count               7395.000000                 7395.000000   \n",
       "mean                   0.186979                    0.084568   \n",
       "std                    0.117388                    0.081797   \n",
       "min                    0.000000                    0.000000   \n",
       "25%                    0.100083                    0.021979   \n",
       "50%                    0.184364                    0.066375   \n",
       "75%                    0.262364                    0.125163   \n",
       "max                    0.693147                    0.683295   \n",
       "\n",
       "       AvglinkWithFourCommonWord  redundancyMeasure  frameTagRatio  \\\n",
       "count                7395.000000        7395.000000    7395.000000   \n",
       "mean                    0.045948           0.420341       0.054424   \n",
       "std                     0.063697           0.086000       0.034233   \n",
       "min                     0.000000           0.231693       0.000000   \n",
       "25%                     0.000000           0.366458       0.028502   \n",
       "50%                     0.021979           0.394525       0.045775   \n",
       "75%                     0.063036           0.456302       0.073459   \n",
       "max                     0.683295           0.591068       0.140893   \n",
       "\n",
       "          tagRatio  imageTagRatio  ...  alchemy_category_culture_politics  \\\n",
       "count  7395.000000    7395.000000  ...                        7395.000000   \n",
       "mean      0.232441       0.137541  ...                           0.046383   \n",
       "std       0.047146       0.223536  ...                           0.210327   \n",
       "min       0.111499      -0.290300  ...                           0.000000   \n",
       "25%       0.201061       0.025900  ...                           0.000000   \n",
       "50%       0.230564       0.083051  ...                           0.000000   \n",
       "75%       0.260770       0.236700  ...                           0.000000   \n",
       "max       0.350332       0.552900  ...                           1.000000   \n",
       "\n",
       "       alchemy_category_gaming  alchemy_category_health  \\\n",
       "count              7395.000000              7395.000000   \n",
       "mean                  0.010277                 0.068425   \n",
       "std                   0.100861                 0.252490   \n",
       "min                   0.000000                 0.000000   \n",
       "25%                   0.000000                 0.000000   \n",
       "50%                   0.000000                 0.000000   \n",
       "75%                   0.000000                 0.000000   \n",
       "max                   1.000000                 1.000000   \n",
       "\n",
       "       alchemy_category_law_crime  alchemy_category_recreation  \\\n",
       "count                 7395.000000                  7395.000000   \n",
       "mean                     0.004192                     0.166193   \n",
       "std                      0.064614                     0.372279   \n",
       "min                      0.000000                     0.000000   \n",
       "25%                      0.000000                     0.000000   \n",
       "50%                      0.000000                     0.000000   \n",
       "75%                      0.000000                     0.000000   \n",
       "max                      1.000000                     1.000000   \n",
       "\n",
       "       alchemy_category_religion  alchemy_category_science_technology  \\\n",
       "count                7395.000000                           7395.00000   \n",
       "mean                    0.009736                              0.03908   \n",
       "std                     0.098198                              0.19380   \n",
       "min                     0.000000                              0.00000   \n",
       "25%                     0.000000                              0.00000   \n",
       "50%                     0.000000                              0.00000   \n",
       "75%                     0.000000                              0.00000   \n",
       "max                     1.000000                              1.00000   \n",
       "\n",
       "       alchemy_category_sports  alchemy_category_unknown  \\\n",
       "count              7395.000000               7395.000000   \n",
       "mean                  0.051386                  0.317512   \n",
       "std                   0.220799                  0.465540   \n",
       "min                   0.000000                  0.000000   \n",
       "25%                   0.000000                  0.000000   \n",
       "50%                   0.000000                  0.000000   \n",
       "75%                   0.000000                  1.000000   \n",
       "max                   1.000000                  1.000000   \n",
       "\n",
       "       alchemy_category_weather  \n",
       "count               7395.000000  \n",
       "mean                   0.000541  \n",
       "std                    0.023253  \n",
       "min                    0.000000  \n",
       "25%                    0.000000  \n",
       "50%                    0.000000  \n",
       "75%                    0.000000  \n",
       "max                    1.000000  \n",
       "\n",
       "[8 rows x 33 columns]"
      ]
     },
     "execution_count": 104,
     "metadata": {},
     "output_type": "execute_result"
    }
   ],
   "source": [
    "main_df.describe()"
   ]
  },
  {
   "cell_type": "code",
   "execution_count": 105,
   "id": "50e10cf2",
   "metadata": {},
   "outputs": [
    {
     "data": {
      "text/plain": [
       "0       3711\n",
       "1       7222\n",
       "2       3964\n",
       "3       3697\n",
       "4       4321\n",
       "        ... \n",
       "1474    3336\n",
       "1475    2867\n",
       "1476     738\n",
       "1477    4124\n",
       "1478    6056\n",
       "Name: id, Length: 7395, dtype: int64"
      ]
     },
     "execution_count": 105,
     "metadata": {},
     "output_type": "execute_result"
    }
   ],
   "source": [
    "main_df[\"id\"]"
   ]
  },
  {
   "cell_type": "code",
   "execution_count": 106,
   "id": "4f09ae75",
   "metadata": {},
   "outputs": [],
   "source": [
    "main_df['label_out'] = main_df['label']\n",
    "main_df['id_out'] = main_df['id']"
   ]
  },
  {
   "cell_type": "code",
   "execution_count": 107,
   "id": "0080680c",
   "metadata": {},
   "outputs": [],
   "source": [
    "main_df[\"total_description\"] = main_df[\"title\"] + main_df[\"body\"] + main_df[\"url\"]"
   ]
  },
  {
   "cell_type": "code",
   "execution_count": 108,
   "id": "f29b4c31",
   "metadata": {},
   "outputs": [],
   "source": [
    "columns_to_be_deleted = [\"title\", \"body\",\"url\", \"label\",\"id\"] \n",
    "main_df.drop(axis=\"columns\", labels=columns_to_be_deleted, inplace=True)"
   ]
  },
  {
   "cell_type": "markdown",
   "id": "5d35aae7",
   "metadata": {},
   "source": [
    "### Using Count Vectorizer"
   ]
  },
  {
   "cell_type": "code",
   "execution_count": 109,
   "id": "9b1b08a8",
   "metadata": {},
   "outputs": [],
   "source": [
    "# cv = CountVectorizer(stop_words = {'english'},max_features = 300)\n",
    "# count_vector_body = cv.fit_transform(main_df[\"total_description\"])\n",
    "# print(count_vector_body.shape)"
   ]
  },
  {
   "cell_type": "code",
   "execution_count": 110,
   "id": "06659560",
   "metadata": {},
   "outputs": [],
   "source": [
    "# names_list = cv.get_feature_names()\n",
    "# len(names_list)\n",
    "# count_vector_body = count_vector_body.todense() "
   ]
  },
  {
   "cell_type": "markdown",
   "id": "019828d6",
   "metadata": {},
   "source": [
    "### Using Tfidf"
   ]
  },
  {
   "cell_type": "code",
   "execution_count": 111,
   "id": "389b41ad",
   "metadata": {},
   "outputs": [
    {
     "name": "stdout",
     "output_type": "stream",
     "text": [
      "(7395, 3000)\n"
     ]
    }
   ],
   "source": [
    "tfidf_vect = TfidfVectorizer(stop_words = {'english'}, max_features = 3000)\n",
    "X_tfidf = tfidf_vect.fit_transform(main_df['total_description'])\n",
    "print(X_tfidf.shape)"
   ]
  },
  {
   "cell_type": "code",
   "execution_count": 112,
   "id": "de4bdc33",
   "metadata": {},
   "outputs": [],
   "source": [
    "names_list = tfidf_vect.get_feature_names()\n",
    "len(names_list)\n",
    "tfidf = X_tfidf.todense() "
   ]
  },
  {
   "cell_type": "code",
   "execution_count": 113,
   "id": "467f5548",
   "metadata": {},
   "outputs": [],
   "source": [
    "df = pd.DataFrame(tfidf, columns = names_list) "
   ]
  },
  {
   "cell_type": "code",
   "execution_count": 114,
   "id": "15fb792c",
   "metadata": {},
   "outputs": [],
   "source": [
    "main_df_list = main_df.to_numpy() \n",
    "column_names = main_df.columns\n",
    "main_df = pd.DataFrame(main_df_list, columns = column_names)"
   ]
  },
  {
   "cell_type": "code",
   "execution_count": 115,
   "id": "e27188cf",
   "metadata": {},
   "outputs": [
    {
     "data": {
      "text/html": [
       "<div>\n",
       "<style scoped>\n",
       "    .dataframe tbody tr th:only-of-type {\n",
       "        vertical-align: middle;\n",
       "    }\n",
       "\n",
       "    .dataframe tbody tr th {\n",
       "        vertical-align: top;\n",
       "    }\n",
       "\n",
       "    .dataframe thead th {\n",
       "        text-align: right;\n",
       "    }\n",
       "</style>\n",
       "<table border=\"1\" class=\"dataframe\">\n",
       "  <thead>\n",
       "    <tr style=\"text-align: right;\">\n",
       "      <th></th>\n",
       "      <th>alchemy_category_score</th>\n",
       "      <th>avgLinkWordLength</th>\n",
       "      <th>AvglinkWithOneCommonWord</th>\n",
       "      <th>AvglinkWithTwoCommonWord</th>\n",
       "      <th>AvglinkWithThreeCommonWord</th>\n",
       "      <th>AvglinkWithFourCommonWord</th>\n",
       "      <th>redundancyMeasure</th>\n",
       "      <th>frameTagRatio</th>\n",
       "      <th>tagRatio</th>\n",
       "      <th>imageTagRatio</th>\n",
       "      <th>...</th>\n",
       "      <th>alchemy_category_law_crime</th>\n",
       "      <th>alchemy_category_recreation</th>\n",
       "      <th>alchemy_category_religion</th>\n",
       "      <th>alchemy_category_science_technology</th>\n",
       "      <th>alchemy_category_sports</th>\n",
       "      <th>alchemy_category_unknown</th>\n",
       "      <th>alchemy_category_weather</th>\n",
       "      <th>label_out</th>\n",
       "      <th>id_out</th>\n",
       "      <th>total_description</th>\n",
       "    </tr>\n",
       "  </thead>\n",
       "  <tbody>\n",
       "    <tr>\n",
       "      <th>0</th>\n",
       "      <td>1.869397</td>\n",
       "      <td>1.070441</td>\n",
       "      <td>2.850855</td>\n",
       "      <td>0.007905</td>\n",
       "      <td>0.0</td>\n",
       "      <td>0.0</td>\n",
       "      <td>0.589894</td>\n",
       "      <td>0.027778</td>\n",
       "      <td>0.203161</td>\n",
       "      <td>0.5529</td>\n",
       "      <td>...</td>\n",
       "      <td>0</td>\n",
       "      <td>0</td>\n",
       "      <td>0</td>\n",
       "      <td>0</td>\n",
       "      <td>0</td>\n",
       "      <td>1</td>\n",
       "      <td>0</td>\n",
       "      <td>1.0</td>\n",
       "      <td>3711</td>\n",
       "      <td>Join Polyvore follow latest stylepolyvore best...</td>\n",
       "    </tr>\n",
       "    <tr>\n",
       "      <th>1</th>\n",
       "      <td>1.869397</td>\n",
       "      <td>0.814292</td>\n",
       "      <td>3.129977</td>\n",
       "      <td>0.0</td>\n",
       "      <td>0.0</td>\n",
       "      <td>0.0</td>\n",
       "      <td>0.591068</td>\n",
       "      <td>0.015086</td>\n",
       "      <td>0.168189</td>\n",
       "      <td>0.5529</td>\n",
       "      <td>...</td>\n",
       "      <td>0</td>\n",
       "      <td>0</td>\n",
       "      <td>0</td>\n",
       "      <td>0</td>\n",
       "      <td>0</td>\n",
       "      <td>1</td>\n",
       "      <td>0</td>\n",
       "      <td>1.0</td>\n",
       "      <td>7222</td>\n",
       "      <td>Speed Air ManDavid BelleSpeed Air ManDavid Bel...</td>\n",
       "    </tr>\n",
       "    <tr>\n",
       "      <th>2</th>\n",
       "      <td>1.472093</td>\n",
       "      <td>1.10658</td>\n",
       "      <td>5.105662</td>\n",
       "      <td>0.250017</td>\n",
       "      <td>0.209826</td>\n",
       "      <td>0.184265</td>\n",
       "      <td>0.367008</td>\n",
       "      <td>0.033935</td>\n",
       "      <td>0.192652</td>\n",
       "      <td>0.126582</td>\n",
       "      <td>...</td>\n",
       "      <td>0</td>\n",
       "      <td>0</td>\n",
       "      <td>0</td>\n",
       "      <td>1</td>\n",
       "      <td>0</td>\n",
       "      <td>0</td>\n",
       "      <td>0</td>\n",
       "      <td>1.0</td>\n",
       "      <td>3964</td>\n",
       "      <td>Chicken Gruyere RecipeChicken Gruyere one favo...</td>\n",
       "    </tr>\n",
       "    <tr>\n",
       "      <th>3</th>\n",
       "      <td>1.608077</td>\n",
       "      <td>0.980299</td>\n",
       "      <td>4.135385</td>\n",
       "      <td>0.181739</td>\n",
       "      <td>0.093401</td>\n",
       "      <td>0.06432</td>\n",
       "      <td>0.387063</td>\n",
       "      <td>0.03653</td>\n",
       "      <td>0.198</td>\n",
       "      <td>0.135593</td>\n",
       "      <td>...</td>\n",
       "      <td>0</td>\n",
       "      <td>1</td>\n",
       "      <td>0</td>\n",
       "      <td>0</td>\n",
       "      <td>0</td>\n",
       "      <td>0</td>\n",
       "      <td>0</td>\n",
       "      <td>1.0</td>\n",
       "      <td>3697</td>\n",
       "      <td>Ikan Bilis With Tempeh GroundnutsOh oh This re...</td>\n",
       "    </tr>\n",
       "    <tr>\n",
       "      <th>4</th>\n",
       "      <td>1.707464</td>\n",
       "      <td>0.457966</td>\n",
       "      <td>2.818948</td>\n",
       "      <td>0.0</td>\n",
       "      <td>0.0</td>\n",
       "      <td>0.0</td>\n",
       "      <td>0.256666</td>\n",
       "      <td>0.015152</td>\n",
       "      <td>0.241564</td>\n",
       "      <td>0.054217</td>\n",
       "      <td>...</td>\n",
       "      <td>0</td>\n",
       "      <td>0</td>\n",
       "      <td>0</td>\n",
       "      <td>0</td>\n",
       "      <td>0</td>\n",
       "      <td>0</td>\n",
       "      <td>0</td>\n",
       "      <td>1.0</td>\n",
       "      <td>4321</td>\n",
       "      <td>Malaysian recipeBarbecued Chicken Chow Siew Th...</td>\n",
       "    </tr>\n",
       "    <tr>\n",
       "      <th>...</th>\n",
       "      <td>...</td>\n",
       "      <td>...</td>\n",
       "      <td>...</td>\n",
       "      <td>...</td>\n",
       "      <td>...</td>\n",
       "      <td>...</td>\n",
       "      <td>...</td>\n",
       "      <td>...</td>\n",
       "      <td>...</td>\n",
       "      <td>...</td>\n",
       "      <td>...</td>\n",
       "      <td>...</td>\n",
       "      <td>...</td>\n",
       "      <td>...</td>\n",
       "      <td>...</td>\n",
       "      <td>...</td>\n",
       "      <td>...</td>\n",
       "      <td>...</td>\n",
       "      <td>...</td>\n",
       "      <td>...</td>\n",
       "      <td>...</td>\n",
       "    </tr>\n",
       "    <tr>\n",
       "      <th>7390</th>\n",
       "      <td>1.976679</td>\n",
       "      <td>0.970779</td>\n",
       "      <td>3.925608</td>\n",
       "      <td>0.097638</td>\n",
       "      <td>0.033617</td>\n",
       "      <td>0.01695</td>\n",
       "      <td>0.591068</td>\n",
       "      <td>0.071719</td>\n",
       "      <td>0.237913</td>\n",
       "      <td>-0.2903</td>\n",
       "      <td>...</td>\n",
       "      <td>0</td>\n",
       "      <td>0</td>\n",
       "      <td>0</td>\n",
       "      <td>0</td>\n",
       "      <td>0</td>\n",
       "      <td>0</td>\n",
       "      <td>0</td>\n",
       "      <td>NaN</td>\n",
       "      <td>3336</td>\n",
       "      <td>UnkonownUnkonownlanascooking 2011 07 08 roaste...</td>\n",
       "    </tr>\n",
       "    <tr>\n",
       "      <th>7391</th>\n",
       "      <td>1.869397</td>\n",
       "      <td>1.174511</td>\n",
       "      <td>5.348241</td>\n",
       "      <td>0.208901</td>\n",
       "      <td>0.087011</td>\n",
       "      <td>0.020001</td>\n",
       "      <td>0.345951</td>\n",
       "      <td>0.056471</td>\n",
       "      <td>0.237229</td>\n",
       "      <td>0.024793</td>\n",
       "      <td>...</td>\n",
       "      <td>0</td>\n",
       "      <td>0</td>\n",
       "      <td>0</td>\n",
       "      <td>0</td>\n",
       "      <td>0</td>\n",
       "      <td>1</td>\n",
       "      <td>0</td>\n",
       "      <td>NaN</td>\n",
       "      <td>2867</td>\n",
       "      <td>Billy Chocolate Buttercream Martha Stewart Rec...</td>\n",
       "    </tr>\n",
       "    <tr>\n",
       "      <th>7392</th>\n",
       "      <td>2.50542</td>\n",
       "      <td>1.040202</td>\n",
       "      <td>4.538926</td>\n",
       "      <td>0.246225</td>\n",
       "      <td>0.054334</td>\n",
       "      <td>0.020101</td>\n",
       "      <td>0.436514</td>\n",
       "      <td>0.04129</td>\n",
       "      <td>0.21018</td>\n",
       "      <td>0.433526</td>\n",
       "      <td>...</td>\n",
       "      <td>0</td>\n",
       "      <td>0</td>\n",
       "      <td>0</td>\n",
       "      <td>0</td>\n",
       "      <td>0</td>\n",
       "      <td>0</td>\n",
       "      <td>0</td>\n",
       "      <td>NaN</td>\n",
       "      <td>738</td>\n",
       "      <td>Los Angeles Best Belly Dance Workout Swerve St...</td>\n",
       "    </tr>\n",
       "    <tr>\n",
       "      <th>7393</th>\n",
       "      <td>1.869397</td>\n",
       "      <td>1.009167</td>\n",
       "      <td>4.754497</td>\n",
       "      <td>0.204794</td>\n",
       "      <td>0.078643</td>\n",
       "      <td>0.018019</td>\n",
       "      <td>0.453249</td>\n",
       "      <td>0.070261</td>\n",
       "      <td>0.190801</td>\n",
       "      <td>0.5529</td>\n",
       "      <td>...</td>\n",
       "      <td>0</td>\n",
       "      <td>0</td>\n",
       "      <td>0</td>\n",
       "      <td>0</td>\n",
       "      <td>0</td>\n",
       "      <td>1</td>\n",
       "      <td>0</td>\n",
       "      <td>NaN</td>\n",
       "      <td>4124</td>\n",
       "      <td>Buffalo Chicken Burgers recipe buffalo chicken...</td>\n",
       "    </tr>\n",
       "    <tr>\n",
       "      <th>7394</th>\n",
       "      <td>2.044258</td>\n",
       "      <td>1.105337</td>\n",
       "      <td>4.445692</td>\n",
       "      <td>0.196998</td>\n",
       "      <td>0.031749</td>\n",
       "      <td>0.027835</td>\n",
       "      <td>0.409636</td>\n",
       "      <td>0.012228</td>\n",
       "      <td>0.234657</td>\n",
       "      <td>0.078231</td>\n",
       "      <td>...</td>\n",
       "      <td>0</td>\n",
       "      <td>0</td>\n",
       "      <td>0</td>\n",
       "      <td>0</td>\n",
       "      <td>0</td>\n",
       "      <td>0</td>\n",
       "      <td>0</td>\n",
       "      <td>NaN</td>\n",
       "      <td>6056</td>\n",
       "      <td>canarygirl com Sirloin Peppercorn Cream SauceS...</td>\n",
       "    </tr>\n",
       "  </tbody>\n",
       "</table>\n",
       "<p>7395 rows × 35 columns</p>\n",
       "</div>"
      ],
      "text/plain": [
       "     alchemy_category_score avgLinkWordLength AvglinkWithOneCommonWord  \\\n",
       "0                  1.869397          1.070441                 2.850855   \n",
       "1                  1.869397          0.814292                 3.129977   \n",
       "2                  1.472093           1.10658                 5.105662   \n",
       "3                  1.608077          0.980299                 4.135385   \n",
       "4                  1.707464          0.457966                 2.818948   \n",
       "...                     ...               ...                      ...   \n",
       "7390               1.976679          0.970779                 3.925608   \n",
       "7391               1.869397          1.174511                 5.348241   \n",
       "7392                2.50542          1.040202                 4.538926   \n",
       "7393               1.869397          1.009167                 4.754497   \n",
       "7394               2.044258          1.105337                 4.445692   \n",
       "\n",
       "     AvglinkWithTwoCommonWord AvglinkWithThreeCommonWord  \\\n",
       "0                    0.007905                        0.0   \n",
       "1                         0.0                        0.0   \n",
       "2                    0.250017                   0.209826   \n",
       "3                    0.181739                   0.093401   \n",
       "4                         0.0                        0.0   \n",
       "...                       ...                        ...   \n",
       "7390                 0.097638                   0.033617   \n",
       "7391                 0.208901                   0.087011   \n",
       "7392                 0.246225                   0.054334   \n",
       "7393                 0.204794                   0.078643   \n",
       "7394                 0.196998                   0.031749   \n",
       "\n",
       "     AvglinkWithFourCommonWord redundancyMeasure frameTagRatio  tagRatio  \\\n",
       "0                          0.0          0.589894      0.027778  0.203161   \n",
       "1                          0.0          0.591068      0.015086  0.168189   \n",
       "2                     0.184265          0.367008      0.033935  0.192652   \n",
       "3                      0.06432          0.387063       0.03653     0.198   \n",
       "4                          0.0          0.256666      0.015152  0.241564   \n",
       "...                        ...               ...           ...       ...   \n",
       "7390                   0.01695          0.591068      0.071719  0.237913   \n",
       "7391                  0.020001          0.345951      0.056471  0.237229   \n",
       "7392                  0.020101          0.436514       0.04129   0.21018   \n",
       "7393                  0.018019          0.453249      0.070261  0.190801   \n",
       "7394                  0.027835          0.409636      0.012228  0.234657   \n",
       "\n",
       "     imageTagRatio  ... alchemy_category_law_crime  \\\n",
       "0           0.5529  ...                          0   \n",
       "1           0.5529  ...                          0   \n",
       "2         0.126582  ...                          0   \n",
       "3         0.135593  ...                          0   \n",
       "4         0.054217  ...                          0   \n",
       "...            ...  ...                        ...   \n",
       "7390       -0.2903  ...                          0   \n",
       "7391      0.024793  ...                          0   \n",
       "7392      0.433526  ...                          0   \n",
       "7393        0.5529  ...                          0   \n",
       "7394      0.078231  ...                          0   \n",
       "\n",
       "     alchemy_category_recreation alchemy_category_religion  \\\n",
       "0                              0                         0   \n",
       "1                              0                         0   \n",
       "2                              0                         0   \n",
       "3                              1                         0   \n",
       "4                              0                         0   \n",
       "...                          ...                       ...   \n",
       "7390                           0                         0   \n",
       "7391                           0                         0   \n",
       "7392                           0                         0   \n",
       "7393                           0                         0   \n",
       "7394                           0                         0   \n",
       "\n",
       "     alchemy_category_science_technology alchemy_category_sports  \\\n",
       "0                                      0                       0   \n",
       "1                                      0                       0   \n",
       "2                                      1                       0   \n",
       "3                                      0                       0   \n",
       "4                                      0                       0   \n",
       "...                                  ...                     ...   \n",
       "7390                                   0                       0   \n",
       "7391                                   0                       0   \n",
       "7392                                   0                       0   \n",
       "7393                                   0                       0   \n",
       "7394                                   0                       0   \n",
       "\n",
       "     alchemy_category_unknown alchemy_category_weather label_out id_out  \\\n",
       "0                           1                        0       1.0   3711   \n",
       "1                           1                        0       1.0   7222   \n",
       "2                           0                        0       1.0   3964   \n",
       "3                           0                        0       1.0   3697   \n",
       "4                           0                        0       1.0   4321   \n",
       "...                       ...                      ...       ...    ...   \n",
       "7390                        0                        0       NaN   3336   \n",
       "7391                        1                        0       NaN   2867   \n",
       "7392                        0                        0       NaN    738   \n",
       "7393                        1                        0       NaN   4124   \n",
       "7394                        0                        0       NaN   6056   \n",
       "\n",
       "                                      total_description  \n",
       "0     Join Polyvore follow latest stylepolyvore best...  \n",
       "1     Speed Air ManDavid BelleSpeed Air ManDavid Bel...  \n",
       "2     Chicken Gruyere RecipeChicken Gruyere one favo...  \n",
       "3     Ikan Bilis With Tempeh GroundnutsOh oh This re...  \n",
       "4     Malaysian recipeBarbecued Chicken Chow Siew Th...  \n",
       "...                                                 ...  \n",
       "7390  UnkonownUnkonownlanascooking 2011 07 08 roaste...  \n",
       "7391  Billy Chocolate Buttercream Martha Stewart Rec...  \n",
       "7392  Los Angeles Best Belly Dance Workout Swerve St...  \n",
       "7393  Buffalo Chicken Burgers recipe buffalo chicken...  \n",
       "7394  canarygirl com Sirloin Peppercorn Cream SauceS...  \n",
       "\n",
       "[7395 rows x 35 columns]"
      ]
     },
     "execution_count": 115,
     "metadata": {},
     "output_type": "execute_result"
    }
   ],
   "source": [
    "main_df"
   ]
  },
  {
   "cell_type": "code",
   "execution_count": 116,
   "id": "2d8262b8",
   "metadata": {},
   "outputs": [],
   "source": [
    "main_df = pd.concat([main_df,df], axis = 1)"
   ]
  },
  {
   "cell_type": "code",
   "execution_count": 117,
   "id": "12110fc5",
   "metadata": {},
   "outputs": [],
   "source": [
    "columns_to_be_deleted = [\"total_description\"]\n",
    "main_df.drop(axis=\"columns\", labels=columns_to_be_deleted, inplace=True)"
   ]
  },
  {
   "cell_type": "code",
   "execution_count": 118,
   "id": "9ede146a",
   "metadata": {},
   "outputs": [
    {
     "data": {
      "text/plain": [
       "1479"
      ]
     },
     "execution_count": 118,
     "metadata": {},
     "output_type": "execute_result"
    }
   ],
   "source": [
    "main_df[\"label_out\"].isna().sum()"
   ]
  },
  {
   "cell_type": "code",
   "execution_count": 119,
   "id": "3a01ed27",
   "metadata": {
    "scrolled": true
   },
   "outputs": [
    {
     "data": {
      "text/html": [
       "<div>\n",
       "<style scoped>\n",
       "    .dataframe tbody tr th:only-of-type {\n",
       "        vertical-align: middle;\n",
       "    }\n",
       "\n",
       "    .dataframe tbody tr th {\n",
       "        vertical-align: top;\n",
       "    }\n",
       "\n",
       "    .dataframe thead th {\n",
       "        text-align: right;\n",
       "    }\n",
       "</style>\n",
       "<table border=\"1\" class=\"dataframe\">\n",
       "  <thead>\n",
       "    <tr style=\"text-align: right;\">\n",
       "      <th></th>\n",
       "      <th>alchemy_category_score</th>\n",
       "      <th>avgLinkWordLength</th>\n",
       "      <th>AvglinkWithOneCommonWord</th>\n",
       "      <th>AvglinkWithTwoCommonWord</th>\n",
       "      <th>AvglinkWithThreeCommonWord</th>\n",
       "      <th>AvglinkWithFourCommonWord</th>\n",
       "      <th>redundancyMeasure</th>\n",
       "      <th>frameTagRatio</th>\n",
       "      <th>tagRatio</th>\n",
       "      <th>imageTagRatio</th>\n",
       "      <th>...</th>\n",
       "      <th>you</th>\n",
       "      <th>young</th>\n",
       "      <th>your</th>\n",
       "      <th>youre</th>\n",
       "      <th>youtube</th>\n",
       "      <th>yum</th>\n",
       "      <th>yummy</th>\n",
       "      <th>zest</th>\n",
       "      <th>zone</th>\n",
       "      <th>zucchini</th>\n",
       "    </tr>\n",
       "  </thead>\n",
       "  <tbody>\n",
       "    <tr>\n",
       "      <th>0</th>\n",
       "      <td>1.869397</td>\n",
       "      <td>1.070441</td>\n",
       "      <td>2.850855</td>\n",
       "      <td>0.007905</td>\n",
       "      <td>0.0</td>\n",
       "      <td>0.0</td>\n",
       "      <td>0.589894</td>\n",
       "      <td>0.027778</td>\n",
       "      <td>0.203161</td>\n",
       "      <td>0.5529</td>\n",
       "      <td>...</td>\n",
       "      <td>0.000000</td>\n",
       "      <td>0.0</td>\n",
       "      <td>0.0</td>\n",
       "      <td>0.0</td>\n",
       "      <td>0.0</td>\n",
       "      <td>0.000000</td>\n",
       "      <td>0.0</td>\n",
       "      <td>0.0</td>\n",
       "      <td>0.0</td>\n",
       "      <td>0.0</td>\n",
       "    </tr>\n",
       "    <tr>\n",
       "      <th>1</th>\n",
       "      <td>1.869397</td>\n",
       "      <td>0.814292</td>\n",
       "      <td>3.129977</td>\n",
       "      <td>0.0</td>\n",
       "      <td>0.0</td>\n",
       "      <td>0.0</td>\n",
       "      <td>0.591068</td>\n",
       "      <td>0.015086</td>\n",
       "      <td>0.168189</td>\n",
       "      <td>0.5529</td>\n",
       "      <td>...</td>\n",
       "      <td>0.000000</td>\n",
       "      <td>0.0</td>\n",
       "      <td>0.0</td>\n",
       "      <td>0.0</td>\n",
       "      <td>0.0</td>\n",
       "      <td>0.000000</td>\n",
       "      <td>0.0</td>\n",
       "      <td>0.0</td>\n",
       "      <td>0.0</td>\n",
       "      <td>0.0</td>\n",
       "    </tr>\n",
       "    <tr>\n",
       "      <th>2</th>\n",
       "      <td>1.472093</td>\n",
       "      <td>1.10658</td>\n",
       "      <td>5.105662</td>\n",
       "      <td>0.250017</td>\n",
       "      <td>0.209826</td>\n",
       "      <td>0.184265</td>\n",
       "      <td>0.367008</td>\n",
       "      <td>0.033935</td>\n",
       "      <td>0.192652</td>\n",
       "      <td>0.126582</td>\n",
       "      <td>...</td>\n",
       "      <td>0.058072</td>\n",
       "      <td>0.0</td>\n",
       "      <td>0.0</td>\n",
       "      <td>0.0</td>\n",
       "      <td>0.0</td>\n",
       "      <td>0.045205</td>\n",
       "      <td>0.0</td>\n",
       "      <td>0.0</td>\n",
       "      <td>0.0</td>\n",
       "      <td>0.0</td>\n",
       "    </tr>\n",
       "    <tr>\n",
       "      <th>3</th>\n",
       "      <td>1.608077</td>\n",
       "      <td>0.980299</td>\n",
       "      <td>4.135385</td>\n",
       "      <td>0.181739</td>\n",
       "      <td>0.093401</td>\n",
       "      <td>0.06432</td>\n",
       "      <td>0.387063</td>\n",
       "      <td>0.03653</td>\n",
       "      <td>0.198</td>\n",
       "      <td>0.135593</td>\n",
       "      <td>...</td>\n",
       "      <td>0.019461</td>\n",
       "      <td>0.0</td>\n",
       "      <td>0.0</td>\n",
       "      <td>0.0</td>\n",
       "      <td>0.0</td>\n",
       "      <td>0.000000</td>\n",
       "      <td>0.0</td>\n",
       "      <td>0.0</td>\n",
       "      <td>0.0</td>\n",
       "      <td>0.0</td>\n",
       "    </tr>\n",
       "    <tr>\n",
       "      <th>4</th>\n",
       "      <td>1.707464</td>\n",
       "      <td>0.457966</td>\n",
       "      <td>2.818948</td>\n",
       "      <td>0.0</td>\n",
       "      <td>0.0</td>\n",
       "      <td>0.0</td>\n",
       "      <td>0.256666</td>\n",
       "      <td>0.015152</td>\n",
       "      <td>0.241564</td>\n",
       "      <td>0.054217</td>\n",
       "      <td>...</td>\n",
       "      <td>0.000000</td>\n",
       "      <td>0.0</td>\n",
       "      <td>0.0</td>\n",
       "      <td>0.0</td>\n",
       "      <td>0.0</td>\n",
       "      <td>0.000000</td>\n",
       "      <td>0.0</td>\n",
       "      <td>0.0</td>\n",
       "      <td>0.0</td>\n",
       "      <td>0.0</td>\n",
       "    </tr>\n",
       "    <tr>\n",
       "      <th>...</th>\n",
       "      <td>...</td>\n",
       "      <td>...</td>\n",
       "      <td>...</td>\n",
       "      <td>...</td>\n",
       "      <td>...</td>\n",
       "      <td>...</td>\n",
       "      <td>...</td>\n",
       "      <td>...</td>\n",
       "      <td>...</td>\n",
       "      <td>...</td>\n",
       "      <td>...</td>\n",
       "      <td>...</td>\n",
       "      <td>...</td>\n",
       "      <td>...</td>\n",
       "      <td>...</td>\n",
       "      <td>...</td>\n",
       "      <td>...</td>\n",
       "      <td>...</td>\n",
       "      <td>...</td>\n",
       "      <td>...</td>\n",
       "      <td>...</td>\n",
       "    </tr>\n",
       "    <tr>\n",
       "      <th>7390</th>\n",
       "      <td>1.976679</td>\n",
       "      <td>0.970779</td>\n",
       "      <td>3.925608</td>\n",
       "      <td>0.097638</td>\n",
       "      <td>0.033617</td>\n",
       "      <td>0.01695</td>\n",
       "      <td>0.591068</td>\n",
       "      <td>0.071719</td>\n",
       "      <td>0.237913</td>\n",
       "      <td>-0.2903</td>\n",
       "      <td>...</td>\n",
       "      <td>0.000000</td>\n",
       "      <td>0.0</td>\n",
       "      <td>0.0</td>\n",
       "      <td>0.0</td>\n",
       "      <td>0.0</td>\n",
       "      <td>0.000000</td>\n",
       "      <td>0.0</td>\n",
       "      <td>0.0</td>\n",
       "      <td>0.0</td>\n",
       "      <td>0.0</td>\n",
       "    </tr>\n",
       "    <tr>\n",
       "      <th>7391</th>\n",
       "      <td>1.869397</td>\n",
       "      <td>1.174511</td>\n",
       "      <td>5.348241</td>\n",
       "      <td>0.208901</td>\n",
       "      <td>0.087011</td>\n",
       "      <td>0.020001</td>\n",
       "      <td>0.345951</td>\n",
       "      <td>0.056471</td>\n",
       "      <td>0.237229</td>\n",
       "      <td>0.024793</td>\n",
       "      <td>...</td>\n",
       "      <td>0.040439</td>\n",
       "      <td>0.0</td>\n",
       "      <td>0.0</td>\n",
       "      <td>0.0</td>\n",
       "      <td>0.0</td>\n",
       "      <td>0.000000</td>\n",
       "      <td>0.0</td>\n",
       "      <td>0.0</td>\n",
       "      <td>0.0</td>\n",
       "      <td>0.0</td>\n",
       "    </tr>\n",
       "    <tr>\n",
       "      <th>7392</th>\n",
       "      <td>2.50542</td>\n",
       "      <td>1.040202</td>\n",
       "      <td>4.538926</td>\n",
       "      <td>0.246225</td>\n",
       "      <td>0.054334</td>\n",
       "      <td>0.020101</td>\n",
       "      <td>0.436514</td>\n",
       "      <td>0.04129</td>\n",
       "      <td>0.21018</td>\n",
       "      <td>0.433526</td>\n",
       "      <td>...</td>\n",
       "      <td>0.023663</td>\n",
       "      <td>0.0</td>\n",
       "      <td>0.0</td>\n",
       "      <td>0.0</td>\n",
       "      <td>0.0</td>\n",
       "      <td>0.000000</td>\n",
       "      <td>0.0</td>\n",
       "      <td>0.0</td>\n",
       "      <td>0.0</td>\n",
       "      <td>0.0</td>\n",
       "    </tr>\n",
       "    <tr>\n",
       "      <th>7393</th>\n",
       "      <td>1.869397</td>\n",
       "      <td>1.009167</td>\n",
       "      <td>4.754497</td>\n",
       "      <td>0.204794</td>\n",
       "      <td>0.078643</td>\n",
       "      <td>0.018019</td>\n",
       "      <td>0.453249</td>\n",
       "      <td>0.070261</td>\n",
       "      <td>0.190801</td>\n",
       "      <td>0.5529</td>\n",
       "      <td>...</td>\n",
       "      <td>0.000000</td>\n",
       "      <td>0.0</td>\n",
       "      <td>0.0</td>\n",
       "      <td>0.0</td>\n",
       "      <td>0.0</td>\n",
       "      <td>0.000000</td>\n",
       "      <td>0.0</td>\n",
       "      <td>0.0</td>\n",
       "      <td>0.0</td>\n",
       "      <td>0.0</td>\n",
       "    </tr>\n",
       "    <tr>\n",
       "      <th>7394</th>\n",
       "      <td>2.044258</td>\n",
       "      <td>1.105337</td>\n",
       "      <td>4.445692</td>\n",
       "      <td>0.196998</td>\n",
       "      <td>0.031749</td>\n",
       "      <td>0.027835</td>\n",
       "      <td>0.409636</td>\n",
       "      <td>0.012228</td>\n",
       "      <td>0.234657</td>\n",
       "      <td>0.078231</td>\n",
       "      <td>...</td>\n",
       "      <td>0.000000</td>\n",
       "      <td>0.0</td>\n",
       "      <td>0.0</td>\n",
       "      <td>0.0</td>\n",
       "      <td>0.0</td>\n",
       "      <td>0.000000</td>\n",
       "      <td>0.0</td>\n",
       "      <td>0.0</td>\n",
       "      <td>0.0</td>\n",
       "      <td>0.0</td>\n",
       "    </tr>\n",
       "  </tbody>\n",
       "</table>\n",
       "<p>7395 rows × 3034 columns</p>\n",
       "</div>"
      ],
      "text/plain": [
       "     alchemy_category_score avgLinkWordLength AvglinkWithOneCommonWord  \\\n",
       "0                  1.869397          1.070441                 2.850855   \n",
       "1                  1.869397          0.814292                 3.129977   \n",
       "2                  1.472093           1.10658                 5.105662   \n",
       "3                  1.608077          0.980299                 4.135385   \n",
       "4                  1.707464          0.457966                 2.818948   \n",
       "...                     ...               ...                      ...   \n",
       "7390               1.976679          0.970779                 3.925608   \n",
       "7391               1.869397          1.174511                 5.348241   \n",
       "7392                2.50542          1.040202                 4.538926   \n",
       "7393               1.869397          1.009167                 4.754497   \n",
       "7394               2.044258          1.105337                 4.445692   \n",
       "\n",
       "     AvglinkWithTwoCommonWord AvglinkWithThreeCommonWord  \\\n",
       "0                    0.007905                        0.0   \n",
       "1                         0.0                        0.0   \n",
       "2                    0.250017                   0.209826   \n",
       "3                    0.181739                   0.093401   \n",
       "4                         0.0                        0.0   \n",
       "...                       ...                        ...   \n",
       "7390                 0.097638                   0.033617   \n",
       "7391                 0.208901                   0.087011   \n",
       "7392                 0.246225                   0.054334   \n",
       "7393                 0.204794                   0.078643   \n",
       "7394                 0.196998                   0.031749   \n",
       "\n",
       "     AvglinkWithFourCommonWord redundancyMeasure frameTagRatio  tagRatio  \\\n",
       "0                          0.0          0.589894      0.027778  0.203161   \n",
       "1                          0.0          0.591068      0.015086  0.168189   \n",
       "2                     0.184265          0.367008      0.033935  0.192652   \n",
       "3                      0.06432          0.387063       0.03653     0.198   \n",
       "4                          0.0          0.256666      0.015152  0.241564   \n",
       "...                        ...               ...           ...       ...   \n",
       "7390                   0.01695          0.591068      0.071719  0.237913   \n",
       "7391                  0.020001          0.345951      0.056471  0.237229   \n",
       "7392                  0.020101          0.436514       0.04129   0.21018   \n",
       "7393                  0.018019          0.453249      0.070261  0.190801   \n",
       "7394                  0.027835          0.409636      0.012228  0.234657   \n",
       "\n",
       "     imageTagRatio  ...       you young your youre youtube       yum yummy  \\\n",
       "0           0.5529  ...  0.000000   0.0  0.0   0.0     0.0  0.000000   0.0   \n",
       "1           0.5529  ...  0.000000   0.0  0.0   0.0     0.0  0.000000   0.0   \n",
       "2         0.126582  ...  0.058072   0.0  0.0   0.0     0.0  0.045205   0.0   \n",
       "3         0.135593  ...  0.019461   0.0  0.0   0.0     0.0  0.000000   0.0   \n",
       "4         0.054217  ...  0.000000   0.0  0.0   0.0     0.0  0.000000   0.0   \n",
       "...            ...  ...       ...   ...  ...   ...     ...       ...   ...   \n",
       "7390       -0.2903  ...  0.000000   0.0  0.0   0.0     0.0  0.000000   0.0   \n",
       "7391      0.024793  ...  0.040439   0.0  0.0   0.0     0.0  0.000000   0.0   \n",
       "7392      0.433526  ...  0.023663   0.0  0.0   0.0     0.0  0.000000   0.0   \n",
       "7393        0.5529  ...  0.000000   0.0  0.0   0.0     0.0  0.000000   0.0   \n",
       "7394      0.078231  ...  0.000000   0.0  0.0   0.0     0.0  0.000000   0.0   \n",
       "\n",
       "     zest zone zucchini  \n",
       "0     0.0  0.0      0.0  \n",
       "1     0.0  0.0      0.0  \n",
       "2     0.0  0.0      0.0  \n",
       "3     0.0  0.0      0.0  \n",
       "4     0.0  0.0      0.0  \n",
       "...   ...  ...      ...  \n",
       "7390  0.0  0.0      0.0  \n",
       "7391  0.0  0.0      0.0  \n",
       "7392  0.0  0.0      0.0  \n",
       "7393  0.0  0.0      0.0  \n",
       "7394  0.0  0.0      0.0  \n",
       "\n",
       "[7395 rows x 3034 columns]"
      ]
     },
     "execution_count": 119,
     "metadata": {},
     "output_type": "execute_result"
    }
   ],
   "source": [
    "main_df"
   ]
  },
  {
   "cell_type": "code",
   "execution_count": 120,
   "id": "bd405e50",
   "metadata": {},
   "outputs": [
    {
     "data": {
      "text/html": [
       "<div>\n",
       "<style scoped>\n",
       "    .dataframe tbody tr th:only-of-type {\n",
       "        vertical-align: middle;\n",
       "    }\n",
       "\n",
       "    .dataframe tbody tr th {\n",
       "        vertical-align: top;\n",
       "    }\n",
       "\n",
       "    .dataframe thead th {\n",
       "        text-align: right;\n",
       "    }\n",
       "</style>\n",
       "<table border=\"1\" class=\"dataframe\">\n",
       "  <thead>\n",
       "    <tr style=\"text-align: right;\">\n",
       "      <th></th>\n",
       "      <th>00</th>\n",
       "      <th>000</th>\n",
       "      <th>01</th>\n",
       "      <th>02</th>\n",
       "      <th>03</th>\n",
       "      <th>04</th>\n",
       "      <th>05</th>\n",
       "      <th>06</th>\n",
       "      <th>07</th>\n",
       "      <th>08</th>\n",
       "      <th>...</th>\n",
       "      <th>you</th>\n",
       "      <th>young</th>\n",
       "      <th>your</th>\n",
       "      <th>youre</th>\n",
       "      <th>youtube</th>\n",
       "      <th>yum</th>\n",
       "      <th>yummy</th>\n",
       "      <th>zest</th>\n",
       "      <th>zone</th>\n",
       "      <th>zucchini</th>\n",
       "    </tr>\n",
       "  </thead>\n",
       "  <tbody>\n",
       "    <tr>\n",
       "      <th>count</th>\n",
       "      <td>7395.000000</td>\n",
       "      <td>7395.000000</td>\n",
       "      <td>7395.000000</td>\n",
       "      <td>7395.000000</td>\n",
       "      <td>7395.000000</td>\n",
       "      <td>7395.000000</td>\n",
       "      <td>7395.000000</td>\n",
       "      <td>7395.000000</td>\n",
       "      <td>7395.000000</td>\n",
       "      <td>7395.000000</td>\n",
       "      <td>...</td>\n",
       "      <td>7395.000000</td>\n",
       "      <td>7395.000000</td>\n",
       "      <td>7395.000000</td>\n",
       "      <td>7395.000000</td>\n",
       "      <td>7395.000000</td>\n",
       "      <td>7395.000000</td>\n",
       "      <td>7395.000000</td>\n",
       "      <td>7395.000000</td>\n",
       "      <td>7395.000000</td>\n",
       "      <td>7395.000000</td>\n",
       "    </tr>\n",
       "    <tr>\n",
       "      <th>mean</th>\n",
       "      <td>0.001946</td>\n",
       "      <td>0.003347</td>\n",
       "      <td>0.002842</td>\n",
       "      <td>0.003207</td>\n",
       "      <td>0.002825</td>\n",
       "      <td>0.003405</td>\n",
       "      <td>0.002950</td>\n",
       "      <td>0.002475</td>\n",
       "      <td>0.003070</td>\n",
       "      <td>0.003327</td>\n",
       "      <td>...</td>\n",
       "      <td>0.011420</td>\n",
       "      <td>0.001933</td>\n",
       "      <td>0.005036</td>\n",
       "      <td>0.001199</td>\n",
       "      <td>0.001614</td>\n",
       "      <td>0.000783</td>\n",
       "      <td>0.001299</td>\n",
       "      <td>0.001684</td>\n",
       "      <td>0.000661</td>\n",
       "      <td>0.002347</td>\n",
       "    </tr>\n",
       "    <tr>\n",
       "      <th>std</th>\n",
       "      <td>0.025414</td>\n",
       "      <td>0.022833</td>\n",
       "      <td>0.023438</td>\n",
       "      <td>0.025277</td>\n",
       "      <td>0.024095</td>\n",
       "      <td>0.029275</td>\n",
       "      <td>0.021842</td>\n",
       "      <td>0.019190</td>\n",
       "      <td>0.025241</td>\n",
       "      <td>0.026224</td>\n",
       "      <td>...</td>\n",
       "      <td>0.026450</td>\n",
       "      <td>0.013426</td>\n",
       "      <td>0.022905</td>\n",
       "      <td>0.014286</td>\n",
       "      <td>0.017827</td>\n",
       "      <td>0.009604</td>\n",
       "      <td>0.011086</td>\n",
       "      <td>0.014450</td>\n",
       "      <td>0.011699</td>\n",
       "      <td>0.033866</td>\n",
       "    </tr>\n",
       "    <tr>\n",
       "      <th>min</th>\n",
       "      <td>0.000000</td>\n",
       "      <td>0.000000</td>\n",
       "      <td>0.000000</td>\n",
       "      <td>0.000000</td>\n",
       "      <td>0.000000</td>\n",
       "      <td>0.000000</td>\n",
       "      <td>0.000000</td>\n",
       "      <td>0.000000</td>\n",
       "      <td>0.000000</td>\n",
       "      <td>0.000000</td>\n",
       "      <td>...</td>\n",
       "      <td>0.000000</td>\n",
       "      <td>0.000000</td>\n",
       "      <td>0.000000</td>\n",
       "      <td>0.000000</td>\n",
       "      <td>0.000000</td>\n",
       "      <td>0.000000</td>\n",
       "      <td>0.000000</td>\n",
       "      <td>0.000000</td>\n",
       "      <td>0.000000</td>\n",
       "      <td>0.000000</td>\n",
       "    </tr>\n",
       "    <tr>\n",
       "      <th>25%</th>\n",
       "      <td>0.000000</td>\n",
       "      <td>0.000000</td>\n",
       "      <td>0.000000</td>\n",
       "      <td>0.000000</td>\n",
       "      <td>0.000000</td>\n",
       "      <td>0.000000</td>\n",
       "      <td>0.000000</td>\n",
       "      <td>0.000000</td>\n",
       "      <td>0.000000</td>\n",
       "      <td>0.000000</td>\n",
       "      <td>...</td>\n",
       "      <td>0.000000</td>\n",
       "      <td>0.000000</td>\n",
       "      <td>0.000000</td>\n",
       "      <td>0.000000</td>\n",
       "      <td>0.000000</td>\n",
       "      <td>0.000000</td>\n",
       "      <td>0.000000</td>\n",
       "      <td>0.000000</td>\n",
       "      <td>0.000000</td>\n",
       "      <td>0.000000</td>\n",
       "    </tr>\n",
       "    <tr>\n",
       "      <th>50%</th>\n",
       "      <td>0.000000</td>\n",
       "      <td>0.000000</td>\n",
       "      <td>0.000000</td>\n",
       "      <td>0.000000</td>\n",
       "      <td>0.000000</td>\n",
       "      <td>0.000000</td>\n",
       "      <td>0.000000</td>\n",
       "      <td>0.000000</td>\n",
       "      <td>0.000000</td>\n",
       "      <td>0.000000</td>\n",
       "      <td>...</td>\n",
       "      <td>0.000000</td>\n",
       "      <td>0.000000</td>\n",
       "      <td>0.000000</td>\n",
       "      <td>0.000000</td>\n",
       "      <td>0.000000</td>\n",
       "      <td>0.000000</td>\n",
       "      <td>0.000000</td>\n",
       "      <td>0.000000</td>\n",
       "      <td>0.000000</td>\n",
       "      <td>0.000000</td>\n",
       "    </tr>\n",
       "    <tr>\n",
       "      <th>75%</th>\n",
       "      <td>0.000000</td>\n",
       "      <td>0.000000</td>\n",
       "      <td>0.000000</td>\n",
       "      <td>0.000000</td>\n",
       "      <td>0.000000</td>\n",
       "      <td>0.000000</td>\n",
       "      <td>0.000000</td>\n",
       "      <td>0.000000</td>\n",
       "      <td>0.000000</td>\n",
       "      <td>0.000000</td>\n",
       "      <td>...</td>\n",
       "      <td>0.012880</td>\n",
       "      <td>0.000000</td>\n",
       "      <td>0.000000</td>\n",
       "      <td>0.000000</td>\n",
       "      <td>0.000000</td>\n",
       "      <td>0.000000</td>\n",
       "      <td>0.000000</td>\n",
       "      <td>0.000000</td>\n",
       "      <td>0.000000</td>\n",
       "      <td>0.000000</td>\n",
       "    </tr>\n",
       "    <tr>\n",
       "      <th>max</th>\n",
       "      <td>0.792484</td>\n",
       "      <td>0.973723</td>\n",
       "      <td>0.763662</td>\n",
       "      <td>0.623520</td>\n",
       "      <td>0.840939</td>\n",
       "      <td>0.752708</td>\n",
       "      <td>0.531439</td>\n",
       "      <td>0.594531</td>\n",
       "      <td>0.560246</td>\n",
       "      <td>0.553521</td>\n",
       "      <td>...</td>\n",
       "      <td>0.532334</td>\n",
       "      <td>0.411285</td>\n",
       "      <td>0.541368</td>\n",
       "      <td>0.396205</td>\n",
       "      <td>0.680569</td>\n",
       "      <td>0.494492</td>\n",
       "      <td>0.285939</td>\n",
       "      <td>0.306863</td>\n",
       "      <td>0.758308</td>\n",
       "      <td>0.800716</td>\n",
       "    </tr>\n",
       "  </tbody>\n",
       "</table>\n",
       "<p>8 rows × 3000 columns</p>\n",
       "</div>"
      ],
      "text/plain": [
       "                00          000           01           02           03  \\\n",
       "count  7395.000000  7395.000000  7395.000000  7395.000000  7395.000000   \n",
       "mean      0.001946     0.003347     0.002842     0.003207     0.002825   \n",
       "std       0.025414     0.022833     0.023438     0.025277     0.024095   \n",
       "min       0.000000     0.000000     0.000000     0.000000     0.000000   \n",
       "25%       0.000000     0.000000     0.000000     0.000000     0.000000   \n",
       "50%       0.000000     0.000000     0.000000     0.000000     0.000000   \n",
       "75%       0.000000     0.000000     0.000000     0.000000     0.000000   \n",
       "max       0.792484     0.973723     0.763662     0.623520     0.840939   \n",
       "\n",
       "                04           05           06           07           08  ...  \\\n",
       "count  7395.000000  7395.000000  7395.000000  7395.000000  7395.000000  ...   \n",
       "mean      0.003405     0.002950     0.002475     0.003070     0.003327  ...   \n",
       "std       0.029275     0.021842     0.019190     0.025241     0.026224  ...   \n",
       "min       0.000000     0.000000     0.000000     0.000000     0.000000  ...   \n",
       "25%       0.000000     0.000000     0.000000     0.000000     0.000000  ...   \n",
       "50%       0.000000     0.000000     0.000000     0.000000     0.000000  ...   \n",
       "75%       0.000000     0.000000     0.000000     0.000000     0.000000  ...   \n",
       "max       0.752708     0.531439     0.594531     0.560246     0.553521  ...   \n",
       "\n",
       "               you        young         your        youre      youtube  \\\n",
       "count  7395.000000  7395.000000  7395.000000  7395.000000  7395.000000   \n",
       "mean      0.011420     0.001933     0.005036     0.001199     0.001614   \n",
       "std       0.026450     0.013426     0.022905     0.014286     0.017827   \n",
       "min       0.000000     0.000000     0.000000     0.000000     0.000000   \n",
       "25%       0.000000     0.000000     0.000000     0.000000     0.000000   \n",
       "50%       0.000000     0.000000     0.000000     0.000000     0.000000   \n",
       "75%       0.012880     0.000000     0.000000     0.000000     0.000000   \n",
       "max       0.532334     0.411285     0.541368     0.396205     0.680569   \n",
       "\n",
       "               yum        yummy         zest         zone     zucchini  \n",
       "count  7395.000000  7395.000000  7395.000000  7395.000000  7395.000000  \n",
       "mean      0.000783     0.001299     0.001684     0.000661     0.002347  \n",
       "std       0.009604     0.011086     0.014450     0.011699     0.033866  \n",
       "min       0.000000     0.000000     0.000000     0.000000     0.000000  \n",
       "25%       0.000000     0.000000     0.000000     0.000000     0.000000  \n",
       "50%       0.000000     0.000000     0.000000     0.000000     0.000000  \n",
       "75%       0.000000     0.000000     0.000000     0.000000     0.000000  \n",
       "max       0.494492     0.285939     0.306863     0.758308     0.800716  \n",
       "\n",
       "[8 rows x 3000 columns]"
      ]
     },
     "execution_count": 120,
     "metadata": {},
     "output_type": "execute_result"
    }
   ],
   "source": [
    "main_df.describe()"
   ]
  },
  {
   "cell_type": "code",
   "execution_count": null,
   "id": "bc28fef9",
   "metadata": {},
   "outputs": [],
   "source": []
  },
  {
   "cell_type": "markdown",
   "id": "28620e4d",
   "metadata": {},
   "source": [
    "### Test - Train Split"
   ]
  },
  {
   "cell_type": "code",
   "execution_count": 121,
   "id": "00567aa0",
   "metadata": {},
   "outputs": [],
   "source": [
    "train_df = main_df.loc[main_df[\"label_out\"].isna() == False,:]\n",
    "test_df = main_df.loc[main_df[\"label_out\"].isna(),:].drop(columns=\"label_out\")\n",
    "\n",
    "train_df = train_df.drop(columns=\"id_out\")"
   ]
  },
  {
   "cell_type": "code",
   "execution_count": 122,
   "id": "208ea98d",
   "metadata": {},
   "outputs": [
    {
     "data": {
      "text/html": [
       "<div>\n",
       "<style scoped>\n",
       "    .dataframe tbody tr th:only-of-type {\n",
       "        vertical-align: middle;\n",
       "    }\n",
       "\n",
       "    .dataframe tbody tr th {\n",
       "        vertical-align: top;\n",
       "    }\n",
       "\n",
       "    .dataframe thead th {\n",
       "        text-align: right;\n",
       "    }\n",
       "</style>\n",
       "<table border=\"1\" class=\"dataframe\">\n",
       "  <thead>\n",
       "    <tr style=\"text-align: right;\">\n",
       "      <th></th>\n",
       "      <th>00</th>\n",
       "      <th>000</th>\n",
       "      <th>01</th>\n",
       "      <th>02</th>\n",
       "      <th>03</th>\n",
       "      <th>04</th>\n",
       "      <th>05</th>\n",
       "      <th>06</th>\n",
       "      <th>07</th>\n",
       "      <th>08</th>\n",
       "      <th>...</th>\n",
       "      <th>you</th>\n",
       "      <th>young</th>\n",
       "      <th>your</th>\n",
       "      <th>youre</th>\n",
       "      <th>youtube</th>\n",
       "      <th>yum</th>\n",
       "      <th>yummy</th>\n",
       "      <th>zest</th>\n",
       "      <th>zone</th>\n",
       "      <th>zucchini</th>\n",
       "    </tr>\n",
       "  </thead>\n",
       "  <tbody>\n",
       "    <tr>\n",
       "      <th>count</th>\n",
       "      <td>5916.000000</td>\n",
       "      <td>5916.000000</td>\n",
       "      <td>5916.000000</td>\n",
       "      <td>5916.000000</td>\n",
       "      <td>5916.000000</td>\n",
       "      <td>5916.000000</td>\n",
       "      <td>5916.000000</td>\n",
       "      <td>5916.000000</td>\n",
       "      <td>5916.000000</td>\n",
       "      <td>5916.000000</td>\n",
       "      <td>...</td>\n",
       "      <td>5916.000000</td>\n",
       "      <td>5916.000000</td>\n",
       "      <td>5916.000000</td>\n",
       "      <td>5916.000000</td>\n",
       "      <td>5916.000000</td>\n",
       "      <td>5916.000000</td>\n",
       "      <td>5916.000000</td>\n",
       "      <td>5916.000000</td>\n",
       "      <td>5916.000000</td>\n",
       "      <td>5916.000000</td>\n",
       "    </tr>\n",
       "    <tr>\n",
       "      <th>mean</th>\n",
       "      <td>0.001979</td>\n",
       "      <td>0.002991</td>\n",
       "      <td>0.002894</td>\n",
       "      <td>0.003105</td>\n",
       "      <td>0.002845</td>\n",
       "      <td>0.003581</td>\n",
       "      <td>0.003100</td>\n",
       "      <td>0.002516</td>\n",
       "      <td>0.003104</td>\n",
       "      <td>0.003215</td>\n",
       "      <td>...</td>\n",
       "      <td>0.011516</td>\n",
       "      <td>0.001947</td>\n",
       "      <td>0.005014</td>\n",
       "      <td>0.001361</td>\n",
       "      <td>0.001692</td>\n",
       "      <td>0.000812</td>\n",
       "      <td>0.001355</td>\n",
       "      <td>0.001775</td>\n",
       "      <td>0.000719</td>\n",
       "      <td>0.002340</td>\n",
       "    </tr>\n",
       "    <tr>\n",
       "      <th>std</th>\n",
       "      <td>0.025099</td>\n",
       "      <td>0.016532</td>\n",
       "      <td>0.023133</td>\n",
       "      <td>0.025206</td>\n",
       "      <td>0.023714</td>\n",
       "      <td>0.030247</td>\n",
       "      <td>0.021825</td>\n",
       "      <td>0.019547</td>\n",
       "      <td>0.025643</td>\n",
       "      <td>0.025805</td>\n",
       "      <td>...</td>\n",
       "      <td>0.026660</td>\n",
       "      <td>0.013810</td>\n",
       "      <td>0.022719</td>\n",
       "      <td>0.015662</td>\n",
       "      <td>0.018233</td>\n",
       "      <td>0.010139</td>\n",
       "      <td>0.011521</td>\n",
       "      <td>0.014793</td>\n",
       "      <td>0.012861</td>\n",
       "      <td>0.034100</td>\n",
       "    </tr>\n",
       "    <tr>\n",
       "      <th>min</th>\n",
       "      <td>0.000000</td>\n",
       "      <td>0.000000</td>\n",
       "      <td>0.000000</td>\n",
       "      <td>0.000000</td>\n",
       "      <td>0.000000</td>\n",
       "      <td>0.000000</td>\n",
       "      <td>0.000000</td>\n",
       "      <td>0.000000</td>\n",
       "      <td>0.000000</td>\n",
       "      <td>0.000000</td>\n",
       "      <td>...</td>\n",
       "      <td>0.000000</td>\n",
       "      <td>0.000000</td>\n",
       "      <td>0.000000</td>\n",
       "      <td>0.000000</td>\n",
       "      <td>0.000000</td>\n",
       "      <td>0.000000</td>\n",
       "      <td>0.000000</td>\n",
       "      <td>0.000000</td>\n",
       "      <td>0.000000</td>\n",
       "      <td>0.000000</td>\n",
       "    </tr>\n",
       "    <tr>\n",
       "      <th>25%</th>\n",
       "      <td>0.000000</td>\n",
       "      <td>0.000000</td>\n",
       "      <td>0.000000</td>\n",
       "      <td>0.000000</td>\n",
       "      <td>0.000000</td>\n",
       "      <td>0.000000</td>\n",
       "      <td>0.000000</td>\n",
       "      <td>0.000000</td>\n",
       "      <td>0.000000</td>\n",
       "      <td>0.000000</td>\n",
       "      <td>...</td>\n",
       "      <td>0.000000</td>\n",
       "      <td>0.000000</td>\n",
       "      <td>0.000000</td>\n",
       "      <td>0.000000</td>\n",
       "      <td>0.000000</td>\n",
       "      <td>0.000000</td>\n",
       "      <td>0.000000</td>\n",
       "      <td>0.000000</td>\n",
       "      <td>0.000000</td>\n",
       "      <td>0.000000</td>\n",
       "    </tr>\n",
       "    <tr>\n",
       "      <th>50%</th>\n",
       "      <td>0.000000</td>\n",
       "      <td>0.000000</td>\n",
       "      <td>0.000000</td>\n",
       "      <td>0.000000</td>\n",
       "      <td>0.000000</td>\n",
       "      <td>0.000000</td>\n",
       "      <td>0.000000</td>\n",
       "      <td>0.000000</td>\n",
       "      <td>0.000000</td>\n",
       "      <td>0.000000</td>\n",
       "      <td>...</td>\n",
       "      <td>0.000000</td>\n",
       "      <td>0.000000</td>\n",
       "      <td>0.000000</td>\n",
       "      <td>0.000000</td>\n",
       "      <td>0.000000</td>\n",
       "      <td>0.000000</td>\n",
       "      <td>0.000000</td>\n",
       "      <td>0.000000</td>\n",
       "      <td>0.000000</td>\n",
       "      <td>0.000000</td>\n",
       "    </tr>\n",
       "    <tr>\n",
       "      <th>75%</th>\n",
       "      <td>0.000000</td>\n",
       "      <td>0.000000</td>\n",
       "      <td>0.000000</td>\n",
       "      <td>0.000000</td>\n",
       "      <td>0.000000</td>\n",
       "      <td>0.000000</td>\n",
       "      <td>0.000000</td>\n",
       "      <td>0.000000</td>\n",
       "      <td>0.000000</td>\n",
       "      <td>0.000000</td>\n",
       "      <td>...</td>\n",
       "      <td>0.013127</td>\n",
       "      <td>0.000000</td>\n",
       "      <td>0.000000</td>\n",
       "      <td>0.000000</td>\n",
       "      <td>0.000000</td>\n",
       "      <td>0.000000</td>\n",
       "      <td>0.000000</td>\n",
       "      <td>0.000000</td>\n",
       "      <td>0.000000</td>\n",
       "      <td>0.000000</td>\n",
       "    </tr>\n",
       "    <tr>\n",
       "      <th>max</th>\n",
       "      <td>0.792484</td>\n",
       "      <td>0.361182</td>\n",
       "      <td>0.763662</td>\n",
       "      <td>0.623520</td>\n",
       "      <td>0.840939</td>\n",
       "      <td>0.752708</td>\n",
       "      <td>0.429440</td>\n",
       "      <td>0.594531</td>\n",
       "      <td>0.560246</td>\n",
       "      <td>0.553521</td>\n",
       "      <td>...</td>\n",
       "      <td>0.532334</td>\n",
       "      <td>0.411285</td>\n",
       "      <td>0.392855</td>\n",
       "      <td>0.396205</td>\n",
       "      <td>0.680569</td>\n",
       "      <td>0.494492</td>\n",
       "      <td>0.285939</td>\n",
       "      <td>0.306863</td>\n",
       "      <td>0.758308</td>\n",
       "      <td>0.800716</td>\n",
       "    </tr>\n",
       "  </tbody>\n",
       "</table>\n",
       "<p>8 rows × 3000 columns</p>\n",
       "</div>"
      ],
      "text/plain": [
       "                00          000           01           02           03  \\\n",
       "count  5916.000000  5916.000000  5916.000000  5916.000000  5916.000000   \n",
       "mean      0.001979     0.002991     0.002894     0.003105     0.002845   \n",
       "std       0.025099     0.016532     0.023133     0.025206     0.023714   \n",
       "min       0.000000     0.000000     0.000000     0.000000     0.000000   \n",
       "25%       0.000000     0.000000     0.000000     0.000000     0.000000   \n",
       "50%       0.000000     0.000000     0.000000     0.000000     0.000000   \n",
       "75%       0.000000     0.000000     0.000000     0.000000     0.000000   \n",
       "max       0.792484     0.361182     0.763662     0.623520     0.840939   \n",
       "\n",
       "                04           05           06           07           08  ...  \\\n",
       "count  5916.000000  5916.000000  5916.000000  5916.000000  5916.000000  ...   \n",
       "mean      0.003581     0.003100     0.002516     0.003104     0.003215  ...   \n",
       "std       0.030247     0.021825     0.019547     0.025643     0.025805  ...   \n",
       "min       0.000000     0.000000     0.000000     0.000000     0.000000  ...   \n",
       "25%       0.000000     0.000000     0.000000     0.000000     0.000000  ...   \n",
       "50%       0.000000     0.000000     0.000000     0.000000     0.000000  ...   \n",
       "75%       0.000000     0.000000     0.000000     0.000000     0.000000  ...   \n",
       "max       0.752708     0.429440     0.594531     0.560246     0.553521  ...   \n",
       "\n",
       "               you        young         your        youre      youtube  \\\n",
       "count  5916.000000  5916.000000  5916.000000  5916.000000  5916.000000   \n",
       "mean      0.011516     0.001947     0.005014     0.001361     0.001692   \n",
       "std       0.026660     0.013810     0.022719     0.015662     0.018233   \n",
       "min       0.000000     0.000000     0.000000     0.000000     0.000000   \n",
       "25%       0.000000     0.000000     0.000000     0.000000     0.000000   \n",
       "50%       0.000000     0.000000     0.000000     0.000000     0.000000   \n",
       "75%       0.013127     0.000000     0.000000     0.000000     0.000000   \n",
       "max       0.532334     0.411285     0.392855     0.396205     0.680569   \n",
       "\n",
       "               yum        yummy         zest         zone     zucchini  \n",
       "count  5916.000000  5916.000000  5916.000000  5916.000000  5916.000000  \n",
       "mean      0.000812     0.001355     0.001775     0.000719     0.002340  \n",
       "std       0.010139     0.011521     0.014793     0.012861     0.034100  \n",
       "min       0.000000     0.000000     0.000000     0.000000     0.000000  \n",
       "25%       0.000000     0.000000     0.000000     0.000000     0.000000  \n",
       "50%       0.000000     0.000000     0.000000     0.000000     0.000000  \n",
       "75%       0.000000     0.000000     0.000000     0.000000     0.000000  \n",
       "max       0.494492     0.285939     0.306863     0.758308     0.800716  \n",
       "\n",
       "[8 rows x 3000 columns]"
      ]
     },
     "execution_count": 122,
     "metadata": {},
     "output_type": "execute_result"
    }
   ],
   "source": [
    "train_df.describe()"
   ]
  },
  {
   "cell_type": "code",
   "execution_count": 123,
   "id": "23fd57c3",
   "metadata": {},
   "outputs": [
    {
     "data": {
      "text/plain": [
       "5916    7172\n",
       "5917    2687\n",
       "5918    6990\n",
       "5919    5639\n",
       "5920    2701\n",
       "        ... \n",
       "7390    3336\n",
       "7391    2867\n",
       "7392     738\n",
       "7393    4124\n",
       "7394    6056\n",
       "Name: id_out, Length: 1479, dtype: object"
      ]
     },
     "execution_count": 123,
     "metadata": {},
     "output_type": "execute_result"
    }
   ],
   "source": [
    "test_df[\"id_out\"]"
   ]
  },
  {
   "cell_type": "code",
   "execution_count": 124,
   "id": "0bca2789",
   "metadata": {},
   "outputs": [
    {
     "name": "stderr",
     "output_type": "stream",
     "text": [
      "/home/sai/anaconda3/lib/python3.8/site-packages/seaborn/_decorators.py:36: FutureWarning: Pass the following variable as a keyword arg: x. From version 0.12, the only valid positional argument will be `data`, and passing other arguments without an explicit keyword will result in an error or misinterpretation.\n",
      "  warnings.warn(\n"
     ]
    },
    {
     "data": {
      "text/plain": [
       "<AxesSubplot:xlabel='label_out', ylabel='count'>"
      ]
     },
     "execution_count": 124,
     "metadata": {},
     "output_type": "execute_result"
    },
    {
     "data": {
      "image/png": "[encoded data removed]",
      "text/plain": [
       "<Figure size 432x288 with 1 Axes>"
      ]
     },
     "metadata": {
      "needs_background": "light"
     },
     "output_type": "display_data"
    }
   ],
   "source": [
    "sns.countplot(train_df[\"label_out\"])"
   ]
  },
  {
   "cell_type": "code",
   "execution_count": 125,
   "id": "a3a00293",
   "metadata": {},
   "outputs": [],
   "source": [
    "main_x = train_df.drop(columns=\"label_out\").to_numpy().astype(\"float\")\n",
    "main_y = train_df[\"label_out\"].to_numpy().astype(\"float\")\n",
    "\n",
    "train_x, test_x, train_y, test_y = train_test_split(main_x, main_y, train_size=0.6, stratify=main_y)"
   ]
  },
  {
   "cell_type": "markdown",
   "id": "12e8288f",
   "metadata": {},
   "source": [
    "# 2. Model Prediction"
   ]
  },
  {
   "cell_type": "code",
   "execution_count": 126,
   "id": "733798b6",
   "metadata": {},
   "outputs": [],
   "source": [
    "scaler = StandardScaler()\n",
    "train_x_scaled = scaler.fit_transform(train_x)\n",
    "\n",
    "test_x_scaled = scaler.transform(test_x)"
   ]
  },
  {
   "cell_type": "code",
   "execution_count": 127,
   "id": "96a81756",
   "metadata": {},
   "outputs": [],
   "source": [
    "pca = PCA(n_components=300)\n",
    "train_x_pca = pca.fit_transform(train_x_scaled)\n",
    "test_x_pca = pca.transform(test_x_scaled)"
   ]
  },
  {
   "cell_type": "markdown",
   "id": "dec595a7",
   "metadata": {},
   "source": [
    "## 2.1 Logistic Regression"
   ]
  },
  {
   "cell_type": "code",
   "execution_count": 128,
   "id": "90112e7e",
   "metadata": {},
   "outputs": [
    {
     "data": {
      "text/plain": [
       "LogisticRegression(C=0.5, class_weight='balanced', max_iter=10000)"
      ]
     },
     "execution_count": 128,
     "metadata": {},
     "output_type": "execute_result"
    }
   ],
   "source": [
    "logistic_regression_model = LogisticRegression(max_iter=10000, class_weight = \"balanced\", C=0.5)\n",
    "logistic_regression_model.fit(train_x_pca, train_y)"
   ]
  },
  {
   "cell_type": "code",
   "execution_count": 129,
   "id": "54b6252c",
   "metadata": {},
   "outputs": [],
   "source": [
    "test_yhat = logistic_regression_model.predict_proba(test_x_pca)[:,-1]"
   ]
  },
  {
   "cell_type": "code",
   "execution_count": 130,
   "id": "c65c1e1c",
   "metadata": {},
   "outputs": [
    {
     "data": {
      "text/plain": [
       "0.8540204941702549"
      ]
     },
     "execution_count": 130,
     "metadata": {},
     "output_type": "execute_result"
    }
   ],
   "source": [
    "metrics.roc_auc_score(test_y, test_yhat)"
   ]
  },
  {
   "cell_type": "markdown",
   "id": "a6f24177",
   "metadata": {},
   "source": [
    "## 2.2 Naive bayes"
   ]
  },
  {
   "cell_type": "code",
   "execution_count": 131,
   "id": "2d5ec10b",
   "metadata": {},
   "outputs": [
    {
     "data": {
      "text/plain": [
       "GaussianNB()"
      ]
     },
     "execution_count": 131,
     "metadata": {},
     "output_type": "execute_result"
    }
   ],
   "source": [
    "gnb = GaussianNB()\n",
    "gnb.fit(train_x_pca, train_y)"
   ]
  },
  {
   "cell_type": "code",
   "execution_count": 132,
   "id": "2695011e",
   "metadata": {},
   "outputs": [],
   "source": [
    "nb_test_yhat = gnb.predict_proba(test_x_pca)[:,-1]"
   ]
  },
  {
   "cell_type": "code",
   "execution_count": 133,
   "id": "a9d63e61",
   "metadata": {},
   "outputs": [
    {
     "data": {
      "text/plain": [
       "0.7756695343637601"
      ]
     },
     "execution_count": 133,
     "metadata": {},
     "output_type": "execute_result"
    }
   ],
   "source": [
    "metrics.roc_auc_score(test_y, nb_test_yhat)"
   ]
  },
  {
   "cell_type": "markdown",
   "id": "0b012624",
   "metadata": {},
   "source": [
    "## 2.3 SVM"
   ]
  },
  {
   "cell_type": "code",
   "execution_count": 134,
   "id": "095686bb",
   "metadata": {},
   "outputs": [
    {
     "data": {
      "text/plain": [
       "SVC(C=0.5, class_weight='balanced', probability=True)"
      ]
     },
     "execution_count": 134,
     "metadata": {},
     "output_type": "execute_result"
    }
   ],
   "source": [
    "clf = SVC(kernel = 'rbf',class_weight = \"balanced\",C = 0.5, probability = True)\n",
    "clf.fit(train_x_pca, train_y)"
   ]
  },
  {
   "cell_type": "code",
   "execution_count": 135,
   "id": "f659bcd0",
   "metadata": {},
   "outputs": [],
   "source": [
    "test_yhat = clf.predict_proba(test_x_pca)[:,-1]"
   ]
  },
  {
   "cell_type": "code",
   "execution_count": 136,
   "id": "8f9ce15c",
   "metadata": {},
   "outputs": [
    {
     "data": {
      "text/plain": [
       "0.8660924124680494"
      ]
     },
     "execution_count": 136,
     "metadata": {},
     "output_type": "execute_result"
    }
   ],
   "source": [
    "metrics.roc_auc_score(test_y, test_yhat)"
   ]
  },
  {
   "cell_type": "markdown",
   "id": "7efc5b50",
   "metadata": {},
   "source": [
    "### SVM with PCA"
   ]
  },
  {
   "cell_type": "code",
   "execution_count": 137,
   "id": "4f84e82e",
   "metadata": {},
   "outputs": [
    {
     "data": {
      "text/plain": [
       "SVC(C=0.5, class_weight='balanced', probability=True)"
      ]
     },
     "execution_count": 137,
     "metadata": {},
     "output_type": "execute_result"
    }
   ],
   "source": [
    "clf_pca = SVC(kernel = 'rbf',class_weight = \"balanced\",C = 0.5, probability = True)\n",
    "clf_pca.fit(train_x_pca, train_y)"
   ]
  },
  {
   "cell_type": "code",
   "execution_count": 138,
   "id": "3aeea3a8",
   "metadata": {},
   "outputs": [],
   "source": [
    "test_yhat = clf_pca.predict_proba(test_x_pca)[:,-1]"
   ]
  },
  {
   "cell_type": "code",
   "execution_count": 139,
   "id": "7bd74059",
   "metadata": {},
   "outputs": [
    {
     "data": {
      "text/plain": [
       "0.8660924124680494"
      ]
     },
     "execution_count": 139,
     "metadata": {},
     "output_type": "execute_result"
    }
   ],
   "source": [
    "metrics.roc_auc_score(test_y, test_yhat)"
   ]
  },
  {
   "cell_type": "markdown",
   "id": "de44e005",
   "metadata": {},
   "source": [
    "## 2.4 ADABOOST\n"
   ]
  },
  {
   "cell_type": "code",
   "execution_count": 140,
   "id": "7699f0b7",
   "metadata": {},
   "outputs": [
    {
     "data": {
      "text/plain": [
       "AdaBoostClassifier(learning_rate=0.1, n_estimators=1000, random_state=0)"
      ]
     },
     "execution_count": 140,
     "metadata": {},
     "output_type": "execute_result"
    }
   ],
   "source": [
    "clf1 = AdaBoostClassifier(n_estimators=1000, random_state=0,learning_rate = 0.1)\n",
    "clf1.fit(train_x_pca, train_y)"
   ]
  },
  {
   "cell_type": "code",
   "execution_count": 141,
   "id": "a48afed9",
   "metadata": {},
   "outputs": [],
   "source": [
    "test_yhat_ada = clf1.predict_proba(test_x_pca)[:,-1]"
   ]
  },
  {
   "cell_type": "code",
   "execution_count": 142,
   "id": "1cdcc40f",
   "metadata": {},
   "outputs": [
    {
     "data": {
      "text/plain": [
       "0.8571690997775605"
      ]
     },
     "execution_count": 142,
     "metadata": {},
     "output_type": "execute_result"
    }
   ],
   "source": [
    "metrics.roc_auc_score(test_y, test_yhat_ada)"
   ]
  },
  {
   "cell_type": "markdown",
   "id": "54fb56f0",
   "metadata": {},
   "source": [
    "## 2.5 Bagging"
   ]
  },
  {
   "cell_type": "code",
   "execution_count": 143,
   "id": "fd403918",
   "metadata": {},
   "outputs": [
    {
     "data": {
      "text/plain": [
       "BaggingClassifier(base_estimator=SVC(), max_samples=30, n_estimators=1000,\n",
       "                  random_state=0)"
      ]
     },
     "execution_count": 143,
     "metadata": {},
     "output_type": "execute_result"
    }
   ],
   "source": [
    "bagg = BaggingClassifier(base_estimator=SVC(),n_estimators=1000, random_state=0, max_samples = 30)\n",
    "bagg.fit(train_x_pca, train_y)"
   ]
  },
  {
   "cell_type": "code",
   "execution_count": 144,
   "id": "ced8afe9",
   "metadata": {},
   "outputs": [],
   "source": [
    "test_yhat_bag = bagg.predict_proba(test_x_pca)[:,-1]"
   ]
  },
  {
   "cell_type": "code",
   "execution_count": 145,
   "id": "89de8a0e",
   "metadata": {},
   "outputs": [
    {
     "data": {
      "text/plain": [
       "0.8530201596532458"
      ]
     },
     "execution_count": 145,
     "metadata": {},
     "output_type": "execute_result"
    }
   ],
   "source": [
    "metrics.roc_auc_score(test_y, test_yhat_bag)"
   ]
  },
  {
   "cell_type": "markdown",
   "id": "767bc63f",
   "metadata": {},
   "source": [
    "### Mixing ADAboost and bagging"
   ]
  },
  {
   "cell_type": "code",
   "execution_count": 146,
   "id": "816ca58b",
   "metadata": {},
   "outputs": [],
   "source": [
    "test_yhat_new = np.maximum(test_yhat_bag,test_yhat_ada)"
   ]
  },
  {
   "cell_type": "code",
   "execution_count": 147,
   "id": "d595c08c",
   "metadata": {},
   "outputs": [
    {
     "data": {
      "text/plain": [
       "0.8536034200790261"
      ]
     },
     "execution_count": 147,
     "metadata": {},
     "output_type": "execute_result"
    }
   ],
   "source": [
    "metrics.roc_auc_score(test_y, test_yhat_new)"
   ]
  },
  {
   "cell_type": "markdown",
   "id": "a5dca30e",
   "metadata": {},
   "source": [
    "## 2.6 Decision Tree"
   ]
  },
  {
   "cell_type": "code",
   "execution_count": 148,
   "id": "6ef6c8bc",
   "metadata": {},
   "outputs": [
    {
     "data": {
      "text/plain": [
       "DecisionTreeClassifier(class_weight='balanced', random_state=0)"
      ]
     },
     "execution_count": 148,
     "metadata": {},
     "output_type": "execute_result"
    }
   ],
   "source": [
    "dt = DecisionTreeClassifier(class_weight = \"balanced\" ,random_state=0)\n",
    "dt.fit(train_x_pca, train_y)"
   ]
  },
  {
   "cell_type": "code",
   "execution_count": 149,
   "id": "71beada9",
   "metadata": {},
   "outputs": [],
   "source": [
    "test_yhat_dt = dt.predict_proba(test_x_pca)[:,-1]"
   ]
  },
  {
   "cell_type": "code",
   "execution_count": 150,
   "id": "dba05c00",
   "metadata": {},
   "outputs": [
    {
     "data": {
      "text/plain": [
       "0.732360660799753"
      ]
     },
     "execution_count": 150,
     "metadata": {},
     "output_type": "execute_result"
    }
   ],
   "source": [
    "metrics.roc_auc_score(test_y, test_yhat_dt)"
   ]
  },
  {
   "cell_type": "markdown",
   "id": "ab7d0839",
   "metadata": {},
   "source": [
    "## 2.7 XGBoost"
   ]
  },
  {
   "cell_type": "code",
   "execution_count": 153,
   "id": "7f419117",
   "metadata": {},
   "outputs": [
    {
     "name": "stdout",
     "output_type": "stream",
     "text": [
      "[12:09:22] WARNING: ../src/learner.cc:1115: Starting in XGBoost 1.3.0, the default evaluation metric used with the objective 'binary:logistic' was changed from 'error' to 'logloss'. Explicitly set eval_metric if you'd like to restore the old behavior.\n"
     ]
    },
    {
     "data": {
      "text/plain": [
       "XGBClassifier(base_score=0.5, booster='gbtree', colsample_bylevel=1,\n",
       "              colsample_bynode=1, colsample_bytree=1, enable_categorical=False,\n",
       "              gamma=0, gpu_id=-1, importance_type=None,\n",
       "              interaction_constraints='', learning_rate=0.1, max_delta_step=0,\n",
       "              max_depth=6, min_child_weight=1, missing=nan,\n",
       "              monotone_constraints='()', n_estimators=1000, n_jobs=8,\n",
       "              num_parallel_tree=1, predictor='auto', random_state=0,\n",
       "              reg_alpha=0, reg_lambda=1, scale_pos_weight=1, subsample=1,\n",
       "              tree_method='exact', use_label_encoder=False,\n",
       "              validate_parameters=1, verbosity=None)"
      ]
     },
     "execution_count": 153,
     "metadata": {},
     "output_type": "execute_result"
    }
   ],
   "source": [
    "xgbc = xgb.XGBClassifier(n_estimators=1000, random_state=0,learning_rate = 0.1,use_label_encoder=False)\n",
    "xgbc.fit(train_x_pca, train_y)"
   ]
  },
  {
   "cell_type": "code",
   "execution_count": 154,
   "id": "c3362045",
   "metadata": {},
   "outputs": [],
   "source": [
    "test_yhat_xgbc = xgbc.predict_proba(test_x_pca)[:,-1]"
   ]
  },
  {
   "cell_type": "code",
   "execution_count": 155,
   "id": "81fde3a2",
   "metadata": {},
   "outputs": [
    {
     "data": {
      "text/plain": [
       "0.862372697693834"
      ]
     },
     "execution_count": 155,
     "metadata": {},
     "output_type": "execute_result"
    }
   ],
   "source": [
    "metrics.roc_auc_score(test_y, test_yhat_xgbc)"
   ]
  },
  {
   "cell_type": "markdown",
   "id": "f93070f8",
   "metadata": {},
   "source": [
    "## 2.8 Neural networks"
   ]
  },
  {
   "cell_type": "code",
   "execution_count": 156,
   "id": "08fee5c4",
   "metadata": {},
   "outputs": [
    {
     "data": {
      "text/plain": [
       "MLPClassifier(activation='logistic', alpha=1e-05,\n",
       "              hidden_layer_sizes=(40, 50, 60, 70, 60, 50, 40), max_iter=5000)"
      ]
     },
     "execution_count": 156,
     "metadata": {},
     "output_type": "execute_result"
    }
   ],
   "source": [
    "nn = MLPClassifier(hidden_layer_sizes=(40,50,60,70,60,50,40), activation='logistic', solver='adam', max_iter=5000, alpha=1e-5)\n",
    "nn.fit(train_x_pca, train_y)"
   ]
  },
  {
   "cell_type": "code",
   "execution_count": 157,
   "id": "5f8e237a",
   "metadata": {},
   "outputs": [],
   "source": [
    "test_yhat_clf = nn.predict_proba(test_x_pca)[:,-1]"
   ]
  },
  {
   "cell_type": "code",
   "execution_count": 158,
   "id": "f80fd08e",
   "metadata": {},
   "outputs": [
    {
     "data": {
      "text/plain": [
       "0.8565379490962323"
      ]
     },
     "execution_count": 158,
     "metadata": {},
     "output_type": "execute_result"
    }
   ],
   "source": [
    "metrics.roc_auc_score(test_y, test_yhat_clf)"
   ]
  },
  {
   "cell_type": "markdown",
   "id": "30aa5c03",
   "metadata": {},
   "source": [
    "## 3 Kaggle submission"
   ]
  },
  {
   "cell_type": "code",
   "execution_count": 159,
   "id": "3811533a",
   "metadata": {},
   "outputs": [],
   "source": [
    "main_x_scaled = scaler.fit_transform(main_x)"
   ]
  },
  {
   "cell_type": "code",
   "execution_count": 160,
   "id": "3c351cd2",
   "metadata": {},
   "outputs": [
    {
     "data": {
      "text/plain": [
       "(1479, 3032)"
      ]
     },
     "execution_count": 160,
     "metadata": {},
     "output_type": "execute_result"
    }
   ],
   "source": [
    "kaggle_test_X = test_df.drop(columns=\"id_out\", inplace=False).to_numpy().astype(\"float\")\n",
    "\n",
    "kaggle_x_scaled = scaler.fit_transform(kaggle_test_X)\n",
    "\n",
    "kaggle_test_X.shape"
   ]
  },
  {
   "cell_type": "code",
   "execution_count": 161,
   "id": "f2863c18",
   "metadata": {},
   "outputs": [],
   "source": [
    "main_x_pca = pca.fit_transform(main_x_scaled)"
   ]
  },
  {
   "cell_type": "code",
   "execution_count": 162,
   "id": "153f68ad",
   "metadata": {},
   "outputs": [],
   "source": [
    "kaggle_x_pca = pca.transform(kaggle_x_scaled)"
   ]
  },
  {
   "cell_type": "code",
   "execution_count": 163,
   "id": "14572f6d",
   "metadata": {},
   "outputs": [],
   "source": [
    "testdf_new = test_df[\"id_out\"]"
   ]
  },
  {
   "cell_type": "code",
   "execution_count": 164,
   "id": "cdfb9c3b",
   "metadata": {},
   "outputs": [],
   "source": [
    "testdf_new = testdf_new.to_frame()"
   ]
  },
  {
   "cell_type": "code",
   "execution_count": 165,
   "id": "368a7ae9",
   "metadata": {},
   "outputs": [],
   "source": [
    "testdf_new[\"id\"] = test_df[\"id_out\"]\n",
    "testdf_new.drop(columns=\"id_out\",inplace=True)"
   ]
  },
  {
   "cell_type": "markdown",
   "id": "88a62f22",
   "metadata": {},
   "source": [
    "### Logistic regression"
   ]
  },
  {
   "cell_type": "code",
   "execution_count": 166,
   "id": "e8804505",
   "metadata": {},
   "outputs": [
    {
     "data": {
      "text/plain": [
       "LogisticRegression(C=0.5, class_weight='balanced', max_iter=10000)"
      ]
     },
     "execution_count": 166,
     "metadata": {},
     "output_type": "execute_result"
    }
   ],
   "source": [
    "logistic_regression_model.fit(main_x_pca,main_y)"
   ]
  },
  {
   "cell_type": "code",
   "execution_count": 167,
   "id": "c5282576",
   "metadata": {},
   "outputs": [],
   "source": [
    "kaggle_test_yhat = logistic_regression_model.predict_proba(kaggle_x_pca)[:,-1]\n",
    "testdf_new[\"label\"] = kaggle_test_yhat \n",
    "to_submit = testdf_new[[\"id\", \"label\"]]\n",
    "to_submit.to_csv(\"phantom_Logistic_sub.csv\", index=False)"
   ]
  },
  {
   "cell_type": "markdown",
   "id": "778797c1",
   "metadata": {},
   "source": [
    "### Naive Bayes"
   ]
  },
  {
   "cell_type": "code",
   "execution_count": 168,
   "id": "f02d3016",
   "metadata": {},
   "outputs": [
    {
     "data": {
      "text/plain": [
       "GaussianNB()"
      ]
     },
     "execution_count": 168,
     "metadata": {},
     "output_type": "execute_result"
    }
   ],
   "source": [
    "gnb.fit(main_x_pca,main_y)"
   ]
  },
  {
   "cell_type": "code",
   "execution_count": 169,
   "id": "68cf8dda",
   "metadata": {},
   "outputs": [],
   "source": [
    "bayes_kaggle_test_yhat = gnb.predict_proba(kaggle_x_pca)[:,-1]\n",
    "testdf_new[\"label\"] = bayes_kaggle_test_yhat \n",
    "to_submit = testdf_new[[\"id\", \"label\"]]\n",
    "to_submit.to_csv(\"phantom_Bayes_sub.csv\", index=False)"
   ]
  },
  {
   "cell_type": "markdown",
   "id": "fede5c18",
   "metadata": {},
   "source": [
    "## svm"
   ]
  },
  {
   "cell_type": "code",
   "execution_count": 170,
   "id": "b67c1f6b",
   "metadata": {},
   "outputs": [
    {
     "data": {
      "text/plain": [
       "SVC(C=0.5, class_weight='balanced', probability=True)"
      ]
     },
     "execution_count": 170,
     "metadata": {},
     "output_type": "execute_result"
    }
   ],
   "source": [
    "clf.fit(main_x_pca,main_y)"
   ]
  },
  {
   "cell_type": "code",
   "execution_count": 171,
   "id": "eaa397c3",
   "metadata": {},
   "outputs": [],
   "source": [
    "kaggle_test_yhat = clf.predict_proba(kaggle_x_pca)[:,-1]\n",
    "testdf_new[\"label\"] = kaggle_test_yhat \n",
    "to_submit = testdf_new[[\"id\", \"label\"]]\n",
    "to_submit.to_csv(\"phantom_svm_sub.csv\", index=False)"
   ]
  },
  {
   "cell_type": "markdown",
   "id": "cc74c6fc",
   "metadata": {},
   "source": [
    "### SVM with PCA"
   ]
  },
  {
   "cell_type": "code",
   "execution_count": 172,
   "id": "3d088bcf",
   "metadata": {},
   "outputs": [
    {
     "data": {
      "text/plain": [
       "SVC(C=0.5, class_weight='balanced', probability=True)"
      ]
     },
     "execution_count": 172,
     "metadata": {},
     "output_type": "execute_result"
    }
   ],
   "source": [
    "clf_pca.fit(main_x_pca,main_y)"
   ]
  },
  {
   "cell_type": "code",
   "execution_count": 173,
   "id": "c79c0439",
   "metadata": {},
   "outputs": [],
   "source": [
    "kaggle_test_yhat = clf_pca.predict_proba(kaggle_x_pca)[:,-1]\n",
    "testdf_new[\"label\"] = kaggle_test_yhat \n",
    "to_submit = testdf_new[[\"id\", \"label\"]]\n",
    "to_submit.to_csv(\"phantom_svm_pca_sub.csv\", index=False)"
   ]
  },
  {
   "cell_type": "markdown",
   "id": "6ffadf86",
   "metadata": {},
   "source": [
    "## ADABOOST"
   ]
  },
  {
   "cell_type": "code",
   "execution_count": 174,
   "id": "ec6f25c2",
   "metadata": {},
   "outputs": [
    {
     "data": {
      "text/plain": [
       "AdaBoostClassifier(learning_rate=0.1, n_estimators=1000, random_state=0)"
      ]
     },
     "execution_count": 174,
     "metadata": {},
     "output_type": "execute_result"
    }
   ],
   "source": [
    "clf1.fit(main_x_pca,main_y)"
   ]
  },
  {
   "cell_type": "code",
   "execution_count": 175,
   "id": "9940f5ff",
   "metadata": {},
   "outputs": [],
   "source": [
    "kaggle_test_yhat_ada = clf1.predict_proba(kaggle_x_pca)[:,-1]\n",
    "testdf_new[\"label\"] = kaggle_test_yhat_ada \n",
    "to_submit = testdf_new[[\"id\", \"label\"]]\n",
    "to_submit.to_csv(\"phantom_adaboost_sub.csv\", index=False)"
   ]
  },
  {
   "cell_type": "markdown",
   "id": "7c826d4d",
   "metadata": {},
   "source": [
    "## Bagging"
   ]
  },
  {
   "cell_type": "code",
   "execution_count": 176,
   "id": "1dbce8ff",
   "metadata": {},
   "outputs": [
    {
     "data": {
      "text/plain": [
       "BaggingClassifier(base_estimator=SVC(), max_samples=30, n_estimators=1000,\n",
       "                  random_state=0)"
      ]
     },
     "execution_count": 176,
     "metadata": {},
     "output_type": "execute_result"
    }
   ],
   "source": [
    "bagg.fit(main_x_pca,main_y)"
   ]
  },
  {
   "cell_type": "code",
   "execution_count": 177,
   "id": "24939a56",
   "metadata": {},
   "outputs": [],
   "source": [
    "kaggle_test_yhat_bagging = bagg.predict_proba(kaggle_x_pca)[:,-1]\n",
    "testdf_new[\"label\"] = kaggle_test_yhat_bagging \n",
    "to_submit = testdf_new[[\"id\", \"label\"]]\n",
    "to_submit.to_csv(\"phantom_bagging_sub.csv\", index=False)"
   ]
  },
  {
   "cell_type": "markdown",
   "id": "b7363e0e",
   "metadata": {},
   "source": [
    "## Mixing ADAboost and bagging"
   ]
  },
  {
   "cell_type": "code",
   "execution_count": 178,
   "id": "0fee311e",
   "metadata": {},
   "outputs": [],
   "source": [
    "kaggle_test_yhat_mix = (kaggle_test_yhat_bagging+kaggle_test_yhat_ada)/2"
   ]
  },
  {
   "cell_type": "code",
   "execution_count": 179,
   "id": "029284b3",
   "metadata": {},
   "outputs": [],
   "source": [
    "testdf_new[\"label\"] = kaggle_test_yhat_mix \n",
    "to_submit = testdf_new[[\"id\", \"label\"]]\n",
    "to_submit.to_csv(\"phantom_mix_sub.csv\", index=False)"
   ]
  },
  {
   "cell_type": "markdown",
   "id": "f8b95f6e",
   "metadata": {},
   "source": [
    "## Decision Tree"
   ]
  },
  {
   "cell_type": "code",
   "execution_count": 180,
   "id": "e61907c6",
   "metadata": {},
   "outputs": [
    {
     "data": {
      "text/plain": [
       "DecisionTreeClassifier(class_weight='balanced', random_state=0)"
      ]
     },
     "execution_count": 180,
     "metadata": {},
     "output_type": "execute_result"
    }
   ],
   "source": [
    "dt.fit(main_x_pca,main_y)"
   ]
  },
  {
   "cell_type": "code",
   "execution_count": 181,
   "id": "e5fe31b4",
   "metadata": {},
   "outputs": [],
   "source": [
    "kaggle_test_yhat = dt.predict_proba(kaggle_x_pca)[:,-1]\n",
    "testdf_new[\"label\"] = kaggle_test_yhat \n",
    "to_submit = testdf_new[[\"id\", \"label\"]]\n",
    "to_submit.to_csv(\"phantom_decisiontree_sub.csv\", index=False)"
   ]
  },
  {
   "cell_type": "markdown",
   "id": "fe214ed1",
   "metadata": {},
   "source": [
    "## XGBoost"
   ]
  },
  {
   "cell_type": "code",
   "execution_count": 182,
   "id": "55f2e694",
   "metadata": {},
   "outputs": [
    {
     "name": "stdout",
     "output_type": "stream",
     "text": [
      "[12:19:56] WARNING: ../src/learner.cc:1115: Starting in XGBoost 1.3.0, the default evaluation metric used with the objective 'binary:logistic' was changed from 'error' to 'logloss'. Explicitly set eval_metric if you'd like to restore the old behavior.\n"
     ]
    },
    {
     "data": {
      "text/plain": [
       "XGBClassifier(base_score=0.5, booster='gbtree', colsample_bylevel=1,\n",
       "              colsample_bynode=1, colsample_bytree=1, enable_categorical=False,\n",
       "              gamma=0, gpu_id=-1, importance_type=None,\n",
       "              interaction_constraints='', learning_rate=0.1, max_delta_step=0,\n",
       "              max_depth=6, min_child_weight=1, missing=nan,\n",
       "              monotone_constraints='()', n_estimators=1000, n_jobs=8,\n",
       "              num_parallel_tree=1, predictor='auto', random_state=0,\n",
       "              reg_alpha=0, reg_lambda=1, scale_pos_weight=1, subsample=1,\n",
       "              tree_method='exact', use_label_encoder=False,\n",
       "              validate_parameters=1, verbosity=None)"
      ]
     },
     "execution_count": 182,
     "metadata": {},
     "output_type": "execute_result"
    }
   ],
   "source": [
    "xgbc.fit(main_x_pca,main_y)"
   ]
  },
  {
   "cell_type": "code",
   "execution_count": 183,
   "id": "5f176b6b",
   "metadata": {},
   "outputs": [],
   "source": [
    "kaggle_test_yhat = xgbc.predict_proba(kaggle_x_pca)[:,-1]\n",
    "testdf_new[\"label\"] = kaggle_test_yhat \n",
    "to_submit = testdf_new[[\"id\", \"label\"]]\n",
    "to_submit.to_csv(\"phantom_adaboost_sub.csv\", index=False)"
   ]
  },
  {
   "cell_type": "markdown",
   "id": "226a3cbb",
   "metadata": {},
   "source": [
    "## Neural networks"
   ]
  },
  {
   "cell_type": "code",
   "execution_count": null,
   "id": "bfaf4779",
   "metadata": {},
   "outputs": [],
   "source": [
    "nn.fit(main_x_pca,main_y)"
   ]
  },
  {
   "cell_type": "code",
   "execution_count": null,
   "id": "33373f68",
   "metadata": {},
   "outputs": [],
   "source": [
    "kaggle_test_yhat = nn.predict_proba(kaggle_x_pca)[:,-1]\n",
    "testdf_new[\"label\"] = kaggle_test_yhat \n",
    "to_submit = testdf_new[[\"id\", \"label\"]]\n",
    "to_submit.to_csv(\"phantom_neural_network_sub.csv\", index=False)"
   ]
  }
 ],
 "metadata": {
  "kernelspec": {
   "display_name": "Python 3 (ipykernel)",
   "language": "python",
   "name": "python3"
  },
  "language_info": {
   "codemirror_mode": {
    "name": "ipython",
    "version": 3
   },
   "file_extension": ".py",
   "mimetype": "text/x-python",
   "name": "python",
   "nbconvert_exporter": "python",
   "pygments_lexer": "ipython3",
   "version": "3.9.7"
  }
 },
 "nbformat": 4,
 "nbformat_minor": 5
}
